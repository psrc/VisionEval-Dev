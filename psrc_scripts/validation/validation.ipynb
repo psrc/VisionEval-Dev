{
 "cells": [
  {
   "cell_type": "code",
   "execution_count": 1,
   "metadata": {},
   "outputs": [],
   "source": [
    "import os\n",
    "import pandas as pd\n",
    "import pyreadr\n",
    "import geopandas as gpd"
   ]
  },
  {
   "cell_type": "code",
   "execution_count": 9,
   "metadata": {},
   "outputs": [],
   "source": [
    "# output_dir = r'C:\\Workspace\\VisionEval_build\\VisionEval\\built\\visioneval\\4.1.2\\runtime\\models\\VERSPM\\Datastore'\n",
    "output_dir = r'C:\\Workspace\\VisionEval\\models\\VERSPM\\Datastore'\n",
    "\n",
    "year = '2018'\n",
    "def export_households(output_dir, year, scenario_name):\n",
    "\n",
    "    hh_df = pd.DataFrame()\n",
    "    hh_path = os.path.join(output_dir, year, 'Household')\n",
    "    for fname in os.listdir(hh_path):\n",
    "        result = pyreadr.read_r(os.path.join(hh_path, fname))\n",
    "        hh_df[fname.split('.')[0]] = result['Dataset']['Dataset']\n",
    "    hh_df['Scenario'] = scenario_name\n",
    "\n",
    "    return hh_df"
   ]
  },
  {
   "cell_type": "code",
   "execution_count": 3,
   "metadata": {},
   "outputs": [],
   "source": [
    "soundcast_dir = r'L:\\RTP_2022\\final_runs\\sc_rtp_2018_final\\soundcast\\outputs\\daysim'\n",
    "\n",
    "# Load soundcast reslts for vehicles and drivers\n",
    "daysim_hh = pd.read_csv(os.path.join(soundcast_dir,'_household.tsv'), delim_whitespace=True)\n",
    "daysim_trip = pd.read_csv(os.path.join(soundcast_dir,'_trip.tsv'), delim_whitespace=True)\n",
    "daysim_person = pd.read_csv(os.path.join(soundcast_dir,'_person.tsv'), delim_whitespace=True)"
   ]
  },
  {
   "cell_type": "code",
   "execution_count": 10,
   "metadata": {},
   "outputs": [],
   "source": [
    "\n",
    "hh_df_base = export_households(output_dir, year='2018', scenario_name='2018')"
   ]
  },
  {
   "cell_type": "code",
   "execution_count": null,
   "metadata": {},
   "outputs": [],
   "source": [
    "# output_dir"
   ]
  },
  {
   "cell_type": "code",
   "execution_count": 13,
   "metadata": {},
   "outputs": [],
   "source": [
    "pd.options.display.float_format = '{:0,.0f}'.format"
   ]
  },
  {
   "cell_type": "code",
   "execution_count": 14,
   "metadata": {},
   "outputs": [],
   "source": [
    "def build_table(ve_arg, sc_arg, format_map=\"{:,.1%}\"):\n",
    "    ve_val = pd.eval(ve_arg, engine='python')\n",
    "    sc_val = pd.eval(sc_arg, engine='python')\n",
    "    df = pd.DataFrame([ve_val,sc_val]).T\n",
    "    df.columns = ['VisionEval', 'Soundcast']\n",
    "    # df.fillna(-1, inplace=True)\n",
    "    df['Diff'] = df['VisionEval']-df['Soundcast']\n",
    "    df['% Diff'] = (df['Diff']/df['Soundcast'])\n",
    "    df[['% Diff']] = df[['% Diff']].applymap(format_map.format)\n",
    "\n",
    "    return df"
   ]
  },
  {
   "cell_type": "code",
   "execution_count": 15,
   "metadata": {},
   "outputs": [
    {
     "data": {
      "text/plain": [
       "Index(['Age0to14', 'Age15to19', 'Age20to29', 'Age30to54', 'Age55to64',\n",
       "       'Age65Plus', 'AveCO2ePM', 'AveGPM', 'AveKWHPM', 'AveRoadUseTaxPM',\n",
       "       'AveSocEnvCostPM', 'AveTrpLenDiverted', 'AveVehCostPM', 'AveVehTripLen',\n",
       "       'Azone', 'BikeTrips', 'Bzone', 'CarSvcLevel', 'DailyCO2e', 'DailyGGE',\n",
       "       'DailyKWH', 'Drivers', 'Drv15to19', 'Drv20to29', 'Drv30to54',\n",
       "       'Drv55to64', 'Drv65Plus', 'DrvAgePersons', 'Dvmt', 'FreeParkingSpaces',\n",
       "       'HasPaydIns', 'HhId', 'HhSize', 'HhType', 'HouseType', 'Income',\n",
       "       'IsEcoDrive', 'IsIMP', 'IsUrbanMixNbrhd', 'LifeCycle', 'LocType',\n",
       "       'Marea', 'NumAuto', 'NumHighCarSvc', 'NumLtTrk', 'OtherParkingCost',\n",
       "       'OwnCost', 'OwnCostSavings', 'ParkingUnitCost', 'PropDvmtDiverted',\n",
       "       'PropTdmDvmtReduction', 'SovDvmtProp', 'TransitTrips', 'UrbanDvmtProp',\n",
       "       'Vehicles', 'VehicleTrips', 'WalkTrips', 'Wkr15to19', 'Wkr20to29',\n",
       "       'Wkr30to54', 'Wkr55to64', 'Wkr65Plus', 'Workers', 'Scenario'],\n",
       "      dtype='object')"
      ]
     },
     "execution_count": 15,
     "metadata": {},
     "output_type": "execute_result"
    }
   ],
   "source": [
    "hh_df_base.columns"
   ]
  },
  {
   "cell_type": "markdown",
   "metadata": {},
   "source": [
    "# Total DVMT"
   ]
  },
  {
   "cell_type": "code",
   "execution_count": 16,
   "metadata": {},
   "outputs": [
    {
     "data": {
      "text/html": [
       "<div>\n",
       "<style scoped>\n",
       "    .dataframe tbody tr th:only-of-type {\n",
       "        vertical-align: middle;\n",
       "    }\n",
       "\n",
       "    .dataframe tbody tr th {\n",
       "        vertical-align: top;\n",
       "    }\n",
       "\n",
       "    .dataframe thead th {\n",
       "        text-align: right;\n",
       "    }\n",
       "</style>\n",
       "<table border=\"1\" class=\"dataframe\">\n",
       "  <thead>\n",
       "    <tr style=\"text-align: right;\">\n",
       "      <th></th>\n",
       "      <th>VisionEval</th>\n",
       "      <th>Soundcast</th>\n",
       "      <th>Diff</th>\n",
       "      <th>% Diff</th>\n",
       "    </tr>\n",
       "  </thead>\n",
       "  <tbody>\n",
       "    <tr>\n",
       "      <th>0</th>\n",
       "      <td>75,541,664</td>\n",
       "      <td>68,905,101</td>\n",
       "      <td>6,636,564</td>\n",
       "      <td>9.6%</td>\n",
       "    </tr>\n",
       "  </tbody>\n",
       "</table>\n",
       "</div>"
      ],
      "text/plain": [
       "   VisionEval  Soundcast      Diff % Diff\n",
       "0  75,541,664 68,905,101 6,636,564   9.6%"
      ]
     },
     "execution_count": 16,
     "metadata": {},
     "output_type": "execute_result"
    }
   ],
   "source": [
    "daysim_dvmt = daysim_trip[(daysim_trip['mode'].isin([3,4,5])) & (daysim_trip['dorp'] == 1)]\n",
    "pd.options.display.float_format = '{:0,.0f}'.format\n",
    "build_table(\"hh_df_base['Dvmt'].sum()\", \n",
    "            \"daysim_dvmt['travdist'].sum()\")"
   ]
  },
  {
   "cell_type": "code",
   "execution_count": null,
   "metadata": {},
   "outputs": [],
   "source": []
  },
  {
   "cell_type": "markdown",
   "metadata": {},
   "source": [
    "# DVMT per Capita"
   ]
  },
  {
   "cell_type": "code",
   "execution_count": null,
   "metadata": {},
   "outputs": [],
   "source": []
  },
  {
   "cell_type": "code",
   "execution_count": 17,
   "metadata": {},
   "outputs": [
    {
     "data": {
      "text/html": [
       "<div>\n",
       "<style scoped>\n",
       "    .dataframe tbody tr th:only-of-type {\n",
       "        vertical-align: middle;\n",
       "    }\n",
       "\n",
       "    .dataframe tbody tr th {\n",
       "        vertical-align: top;\n",
       "    }\n",
       "\n",
       "    .dataframe thead th {\n",
       "        text-align: right;\n",
       "    }\n",
       "</style>\n",
       "<table border=\"1\" class=\"dataframe\">\n",
       "  <thead>\n",
       "    <tr style=\"text-align: right;\">\n",
       "      <th></th>\n",
       "      <th>VisionEval</th>\n",
       "      <th>Soundcast</th>\n",
       "      <th>Diff</th>\n",
       "      <th>% Diff</th>\n",
       "    </tr>\n",
       "  </thead>\n",
       "  <tbody>\n",
       "    <tr>\n",
       "      <th>0</th>\n",
       "      <td>18.64</td>\n",
       "      <td>17.00</td>\n",
       "      <td>1.64</td>\n",
       "      <td>9.6%</td>\n",
       "    </tr>\n",
       "  </tbody>\n",
       "</table>\n",
       "</div>"
      ],
      "text/plain": [
       "   VisionEval  Soundcast  Diff % Diff\n",
       "0       18.64      17.00  1.64   9.6%"
      ]
     },
     "execution_count": 17,
     "metadata": {},
     "output_type": "execute_result"
    }
   ],
   "source": [
    "pd.options.display.float_format = '{:0,.2f}'.format\n",
    "build_table(\"hh_df_base['Dvmt'].sum()/hh_df_base['HhSize'].sum()\", \n",
    "            \"daysim_dvmt['travdist'].sum()/daysim_hh['hhsize'].sum()\")"
   ]
  },
  {
   "cell_type": "markdown",
   "metadata": {},
   "source": [
    "# DVMT per Household"
   ]
  },
  {
   "cell_type": "code",
   "execution_count": 18,
   "metadata": {},
   "outputs": [
    {
     "data": {
      "text/html": [
       "<div>\n",
       "<style scoped>\n",
       "    .dataframe tbody tr th:only-of-type {\n",
       "        vertical-align: middle;\n",
       "    }\n",
       "\n",
       "    .dataframe tbody tr th {\n",
       "        vertical-align: top;\n",
       "    }\n",
       "\n",
       "    .dataframe thead th {\n",
       "        text-align: right;\n",
       "    }\n",
       "</style>\n",
       "<table border=\"1\" class=\"dataframe\">\n",
       "  <thead>\n",
       "    <tr style=\"text-align: right;\">\n",
       "      <th></th>\n",
       "      <th>VisionEval</th>\n",
       "      <th>Soundcast</th>\n",
       "      <th>Diff</th>\n",
       "      <th>% Diff</th>\n",
       "    </tr>\n",
       "  </thead>\n",
       "  <tbody>\n",
       "    <tr>\n",
       "      <th>0</th>\n",
       "      <td>47.03</td>\n",
       "      <td>42.92</td>\n",
       "      <td>4.10</td>\n",
       "      <td>9.6%</td>\n",
       "    </tr>\n",
       "  </tbody>\n",
       "</table>\n",
       "</div>"
      ],
      "text/plain": [
       "   VisionEval  Soundcast  Diff % Diff\n",
       "0       47.03      42.92  4.10   9.6%"
      ]
     },
     "execution_count": 18,
     "metadata": {},
     "output_type": "execute_result"
    }
   ],
   "source": [
    "pd.options.display.float_format = '{:0,.2f}'.format\n",
    "build_table(\"hh_df_base['Dvmt'].sum()/hh_df_base['HhSize'].count()\", \n",
    "            \"daysim_dvmt['travdist'].sum()/daysim_hh['hhsize'].count()\")"
   ]
  },
  {
   "cell_type": "markdown",
   "metadata": {},
   "source": [
    "# Vehicle Ownership"
   ]
  },
  {
   "cell_type": "code",
   "execution_count": 19,
   "metadata": {},
   "outputs": [
    {
     "data": {
      "text/html": [
       "<div>\n",
       "<style scoped>\n",
       "    .dataframe tbody tr th:only-of-type {\n",
       "        vertical-align: middle;\n",
       "    }\n",
       "\n",
       "    .dataframe tbody tr th {\n",
       "        vertical-align: top;\n",
       "    }\n",
       "\n",
       "    .dataframe thead th {\n",
       "        text-align: right;\n",
       "    }\n",
       "</style>\n",
       "<table border=\"1\" class=\"dataframe\">\n",
       "  <thead>\n",
       "    <tr style=\"text-align: right;\">\n",
       "      <th></th>\n",
       "      <th>VisionEval</th>\n",
       "      <th>Soundcast</th>\n",
       "      <th>Diff</th>\n",
       "      <th>% Diff</th>\n",
       "    </tr>\n",
       "  </thead>\n",
       "  <tbody>\n",
       "    <tr>\n",
       "      <th>0</th>\n",
       "      <td>3,537,945.00</td>\n",
       "      <td>3,069,100.00</td>\n",
       "      <td>468,845.00</td>\n",
       "      <td>15.3%</td>\n",
       "    </tr>\n",
       "  </tbody>\n",
       "</table>\n",
       "</div>"
      ],
      "text/plain": [
       "    VisionEval    Soundcast       Diff % Diff\n",
       "0 3,537,945.00 3,069,100.00 468,845.00  15.3%"
      ]
     },
     "execution_count": 19,
     "metadata": {},
     "output_type": "execute_result"
    }
   ],
   "source": [
    "build_table(\"hh_df_base['Vehicles'].sum()\", \"daysim_hh['hhvehs'].sum()\")"
   ]
  },
  {
   "cell_type": "code",
   "execution_count": 20,
   "metadata": {},
   "outputs": [],
   "source": [
    "# daysim_hh.hhexpfac.count"
   ]
  },
  {
   "cell_type": "code",
   "execution_count": 21,
   "metadata": {},
   "outputs": [
    {
     "data": {
      "text/html": [
       "<div>\n",
       "<style scoped>\n",
       "    .dataframe tbody tr th:only-of-type {\n",
       "        vertical-align: middle;\n",
       "    }\n",
       "\n",
       "    .dataframe tbody tr th {\n",
       "        vertical-align: top;\n",
       "    }\n",
       "\n",
       "    .dataframe thead th {\n",
       "        text-align: right;\n",
       "    }\n",
       "</style>\n",
       "<table border=\"1\" class=\"dataframe\">\n",
       "  <thead>\n",
       "    <tr style=\"text-align: right;\">\n",
       "      <th></th>\n",
       "      <th>VisionEval</th>\n",
       "      <th>Soundcast</th>\n",
       "      <th>Diff</th>\n",
       "      <th>% Diff</th>\n",
       "    </tr>\n",
       "  </thead>\n",
       "  <tbody>\n",
       "    <tr>\n",
       "      <th>0</th>\n",
       "      <td>2.20</td>\n",
       "      <td>1.91</td>\n",
       "      <td>0.29</td>\n",
       "      <td>15.2%</td>\n",
       "    </tr>\n",
       "  </tbody>\n",
       "</table>\n",
       "</div>"
      ],
      "text/plain": [
       "   VisionEval  Soundcast  Diff % Diff\n",
       "0        2.20       1.91  0.29  15.2%"
      ]
     },
     "execution_count": 21,
     "metadata": {},
     "output_type": "execute_result"
    }
   ],
   "source": [
    "pd.options.display.float_format = '{:0,.2f}'.format\n",
    "# Average Autos Owned by Household\n",
    "build_table(\"hh_df_base['Vehicles'].sum()/hh_df_base['HhId'].count()\", \"daysim_hh['hhvehs'].sum()/daysim_hh['hhexpfac'].sum()\")"
   ]
  },
  {
   "cell_type": "code",
   "execution_count": 22,
   "metadata": {},
   "outputs": [
    {
     "data": {
      "text/html": [
       "<div>\n",
       "<style scoped>\n",
       "    .dataframe tbody tr th:only-of-type {\n",
       "        vertical-align: middle;\n",
       "    }\n",
       "\n",
       "    .dataframe tbody tr th {\n",
       "        vertical-align: top;\n",
       "    }\n",
       "\n",
       "    .dataframe thead th {\n",
       "        text-align: right;\n",
       "    }\n",
       "</style>\n",
       "<table border=\"1\" class=\"dataframe\">\n",
       "  <thead>\n",
       "    <tr style=\"text-align: right;\">\n",
       "      <th></th>\n",
       "      <th>VisionEval</th>\n",
       "      <th>Soundcast</th>\n",
       "      <th>Diff</th>\n",
       "      <th>% Diff</th>\n",
       "    </tr>\n",
       "  </thead>\n",
       "  <tbody>\n",
       "    <tr>\n",
       "      <th>0.00</th>\n",
       "      <td>NaN</td>\n",
       "      <td>106,565.00</td>\n",
       "      <td>NaN</td>\n",
       "      <td>nan%</td>\n",
       "    </tr>\n",
       "    <tr>\n",
       "      <th>1.00</th>\n",
       "      <td>438,916.00</td>\n",
       "      <td>486,738.00</td>\n",
       "      <td>-47,822.00</td>\n",
       "      <td>-9.8%</td>\n",
       "    </tr>\n",
       "    <tr>\n",
       "      <th>2.00</th>\n",
       "      <td>605,260.00</td>\n",
       "      <td>584,187.00</td>\n",
       "      <td>21,073.00</td>\n",
       "      <td>3.6%</td>\n",
       "    </tr>\n",
       "    <tr>\n",
       "      <th>3.00</th>\n",
       "      <td>397,460.00</td>\n",
       "      <td>297,104.00</td>\n",
       "      <td>100,356.00</td>\n",
       "      <td>33.8%</td>\n",
       "    </tr>\n",
       "    <tr>\n",
       "      <th>4.00</th>\n",
       "      <td>132,260.00</td>\n",
       "      <td>130,669.00</td>\n",
       "      <td>1,591.00</td>\n",
       "      <td>1.2%</td>\n",
       "    </tr>\n",
       "    <tr>\n",
       "      <th>5.00</th>\n",
       "      <td>27,521.00</td>\n",
       "      <td>NaN</td>\n",
       "      <td>NaN</td>\n",
       "      <td>nan%</td>\n",
       "    </tr>\n",
       "    <tr>\n",
       "      <th>6.00</th>\n",
       "      <td>4,721.00</td>\n",
       "      <td>NaN</td>\n",
       "      <td>NaN</td>\n",
       "      <td>nan%</td>\n",
       "    </tr>\n",
       "    <tr>\n",
       "      <th>7.00</th>\n",
       "      <td>74.00</td>\n",
       "      <td>NaN</td>\n",
       "      <td>NaN</td>\n",
       "      <td>nan%</td>\n",
       "    </tr>\n",
       "    <tr>\n",
       "      <th>8.00</th>\n",
       "      <td>80.00</td>\n",
       "      <td>NaN</td>\n",
       "      <td>NaN</td>\n",
       "      <td>nan%</td>\n",
       "    </tr>\n",
       "  </tbody>\n",
       "</table>\n",
       "</div>"
      ],
      "text/plain": [
       "      VisionEval  Soundcast       Diff % Diff\n",
       "0.00         NaN 106,565.00        NaN   nan%\n",
       "1.00  438,916.00 486,738.00 -47,822.00  -9.8%\n",
       "2.00  605,260.00 584,187.00  21,073.00   3.6%\n",
       "3.00  397,460.00 297,104.00 100,356.00  33.8%\n",
       "4.00  132,260.00 130,669.00   1,591.00   1.2%\n",
       "5.00   27,521.00        NaN        NaN   nan%\n",
       "6.00    4,721.00        NaN        NaN   nan%\n",
       "7.00       74.00        NaN        NaN   nan%\n",
       "8.00       80.00        NaN        NaN   nan%"
      ]
     },
     "execution_count": 22,
     "metadata": {},
     "output_type": "execute_result"
    }
   ],
   "source": [
    "build_table(\"hh_df_base.groupby('Vehicles').count()['Age0to14']\", \"daysim_hh.groupby('hhvehs').sum()['hhexpfac']\")"
   ]
  },
  {
   "cell_type": "markdown",
   "metadata": {},
   "source": [
    "# Trip Length\n"
   ]
  },
  {
   "cell_type": "code",
   "execution_count": 23,
   "metadata": {},
   "outputs": [
    {
     "data": {
      "text/html": [
       "<div>\n",
       "<style scoped>\n",
       "    .dataframe tbody tr th:only-of-type {\n",
       "        vertical-align: middle;\n",
       "    }\n",
       "\n",
       "    .dataframe tbody tr th {\n",
       "        vertical-align: top;\n",
       "    }\n",
       "\n",
       "    .dataframe thead th {\n",
       "        text-align: right;\n",
       "    }\n",
       "</style>\n",
       "<table border=\"1\" class=\"dataframe\">\n",
       "  <thead>\n",
       "    <tr style=\"text-align: right;\">\n",
       "      <th></th>\n",
       "      <th>VisionEval</th>\n",
       "      <th>Soundcast</th>\n",
       "      <th>Diff</th>\n",
       "      <th>% Diff</th>\n",
       "    </tr>\n",
       "  </thead>\n",
       "  <tbody>\n",
       "    <tr>\n",
       "      <th>0</th>\n",
       "      <td>8.09</td>\n",
       "      <td>6.90</td>\n",
       "      <td>1.19</td>\n",
       "      <td>17.2%</td>\n",
       "    </tr>\n",
       "  </tbody>\n",
       "</table>\n",
       "</div>"
      ],
      "text/plain": [
       "   VisionEval  Soundcast  Diff % Diff\n",
       "0        8.09       6.90  1.19  17.2%"
      ]
     },
     "execution_count": 23,
     "metadata": {},
     "output_type": "execute_result"
    }
   ],
   "source": [
    "build_table(\"hh_df_base['AveVehTripLen'].mean()\", \"daysim_dvmt['travdist'].mean()\")"
   ]
  },
  {
   "cell_type": "markdown",
   "metadata": {},
   "source": [
    "# Mode Share"
   ]
  },
  {
   "cell_type": "code",
   "execution_count": null,
   "metadata": {},
   "outputs": [],
   "source": []
  },
  {
   "cell_type": "code",
   "execution_count": null,
   "metadata": {},
   "outputs": [],
   "source": []
  },
  {
   "cell_type": "markdown",
   "metadata": {},
   "source": [
    "# Trips by Mode\n",
    "## Walk Trips"
   ]
  },
  {
   "cell_type": "code",
   "execution_count": 24,
   "metadata": {},
   "outputs": [
    {
     "data": {
      "text/html": [
       "<div>\n",
       "<style scoped>\n",
       "    .dataframe tbody tr th:only-of-type {\n",
       "        vertical-align: middle;\n",
       "    }\n",
       "\n",
       "    .dataframe tbody tr th {\n",
       "        vertical-align: top;\n",
       "    }\n",
       "\n",
       "    .dataframe thead th {\n",
       "        text-align: right;\n",
       "    }\n",
       "</style>\n",
       "<table border=\"1\" class=\"dataframe\">\n",
       "  <thead>\n",
       "    <tr style=\"text-align: right;\">\n",
       "      <th></th>\n",
       "      <th>VisionEval</th>\n",
       "      <th>Soundcast</th>\n",
       "      <th>Diff</th>\n",
       "      <th>% Diff</th>\n",
       "    </tr>\n",
       "  </thead>\n",
       "  <tbody>\n",
       "    <tr>\n",
       "      <th>0</th>\n",
       "      <td>1,356,755.45</td>\n",
       "      <td>2,023,687.00</td>\n",
       "      <td>-666,931.55</td>\n",
       "      <td>-33.0%</td>\n",
       "    </tr>\n",
       "  </tbody>\n",
       "</table>\n",
       "</div>"
      ],
      "text/plain": [
       "    VisionEval    Soundcast        Diff  % Diff\n",
       "0 1,356,755.45 2,023,687.00 -666,931.55  -33.0%"
      ]
     },
     "execution_count": 24,
     "metadata": {},
     "output_type": "execute_result"
    }
   ],
   "source": [
    "build_table(\"hh_df_base['WalkTrips'].sum()\", \"daysim_trip[daysim_trip['mode'] == 1]['trexpfac'].sum()\")"
   ]
  },
  {
   "cell_type": "markdown",
   "metadata": {},
   "source": [
    "## Bike Trips"
   ]
  },
  {
   "cell_type": "code",
   "execution_count": 25,
   "metadata": {},
   "outputs": [
    {
     "data": {
      "text/html": [
       "<div>\n",
       "<style scoped>\n",
       "    .dataframe tbody tr th:only-of-type {\n",
       "        vertical-align: middle;\n",
       "    }\n",
       "\n",
       "    .dataframe tbody tr th {\n",
       "        vertical-align: top;\n",
       "    }\n",
       "\n",
       "    .dataframe thead th {\n",
       "        text-align: right;\n",
       "    }\n",
       "</style>\n",
       "<table border=\"1\" class=\"dataframe\">\n",
       "  <thead>\n",
       "    <tr style=\"text-align: right;\">\n",
       "      <th></th>\n",
       "      <th>VisionEval</th>\n",
       "      <th>Soundcast</th>\n",
       "      <th>Diff</th>\n",
       "      <th>% Diff</th>\n",
       "    </tr>\n",
       "  </thead>\n",
       "  <tbody>\n",
       "    <tr>\n",
       "      <th>0</th>\n",
       "      <td>81,337.26</td>\n",
       "      <td>229,995.00</td>\n",
       "      <td>-148,657.74</td>\n",
       "      <td>-64.6%</td>\n",
       "    </tr>\n",
       "  </tbody>\n",
       "</table>\n",
       "</div>"
      ],
      "text/plain": [
       "   VisionEval  Soundcast        Diff  % Diff\n",
       "0   81,337.26 229,995.00 -148,657.74  -64.6%"
      ]
     },
     "execution_count": 25,
     "metadata": {},
     "output_type": "execute_result"
    }
   ],
   "source": [
    "build_table(\"hh_df_base['BikeTrips'].sum()\", \"daysim_trip[daysim_trip['mode'] == 2]['trexpfac'].sum()\")"
   ]
  },
  {
   "cell_type": "markdown",
   "metadata": {},
   "source": [
    "## Vehicle Trips"
   ]
  },
  {
   "cell_type": "code",
   "execution_count": 33,
   "metadata": {},
   "outputs": [
    {
     "data": {
      "text/html": [
       "<div>\n",
       "<style scoped>\n",
       "    .dataframe tbody tr th:only-of-type {\n",
       "        vertical-align: middle;\n",
       "    }\n",
       "\n",
       "    .dataframe tbody tr th {\n",
       "        vertical-align: top;\n",
       "    }\n",
       "\n",
       "    .dataframe thead th {\n",
       "        text-align: right;\n",
       "    }\n",
       "</style>\n",
       "<table border=\"1\" class=\"dataframe\">\n",
       "  <thead>\n",
       "    <tr style=\"text-align: right;\">\n",
       "      <th></th>\n",
       "      <th>VisionEval</th>\n",
       "      <th>Soundcast</th>\n",
       "      <th>Diff</th>\n",
       "      <th>% Diff</th>\n",
       "    </tr>\n",
       "  </thead>\n",
       "  <tbody>\n",
       "    <tr>\n",
       "      <th>0</th>\n",
       "      <td>8,732,423.71</td>\n",
       "      <td>9,987,537.00</td>\n",
       "      <td>-1,255,113.29</td>\n",
       "      <td>-12.6%</td>\n",
       "    </tr>\n",
       "  </tbody>\n",
       "</table>\n",
       "</div>"
      ],
      "text/plain": [
       "    VisionEval    Soundcast          Diff  % Diff\n",
       "0 8,732,423.71 9,987,537.00 -1,255,113.29  -12.6%"
      ]
     },
     "execution_count": 33,
     "metadata": {},
     "output_type": "execute_result"
    }
   ],
   "source": [
    "build_table(\"hh_df_base['VehicleTrips'].sum()\", \"daysim_dvmt['trexpfac'].sum()\")"
   ]
  },
  {
   "cell_type": "markdown",
   "metadata": {},
   "source": [
    "\n",
    "## Transit Trips "
   ]
  },
  {
   "cell_type": "code",
   "execution_count": 34,
   "metadata": {},
   "outputs": [
    {
     "data": {
      "text/html": [
       "<div>\n",
       "<style scoped>\n",
       "    .dataframe tbody tr th:only-of-type {\n",
       "        vertical-align: middle;\n",
       "    }\n",
       "\n",
       "    .dataframe tbody tr th {\n",
       "        vertical-align: top;\n",
       "    }\n",
       "\n",
       "    .dataframe thead th {\n",
       "        text-align: right;\n",
       "    }\n",
       "</style>\n",
       "<table border=\"1\" class=\"dataframe\">\n",
       "  <thead>\n",
       "    <tr style=\"text-align: right;\">\n",
       "      <th></th>\n",
       "      <th>VisionEval</th>\n",
       "      <th>Soundcast</th>\n",
       "      <th>Diff</th>\n",
       "      <th>% Diff</th>\n",
       "    </tr>\n",
       "  </thead>\n",
       "  <tbody>\n",
       "    <tr>\n",
       "      <th>0</th>\n",
       "      <td>490,509.30</td>\n",
       "      <td>480,781.00</td>\n",
       "      <td>9,728.30</td>\n",
       "      <td>2.0%</td>\n",
       "    </tr>\n",
       "  </tbody>\n",
       "</table>\n",
       "</div>"
      ],
      "text/plain": [
       "   VisionEval  Soundcast     Diff % Diff\n",
       "0  490,509.30 480,781.00 9,728.30   2.0%"
      ]
     },
     "execution_count": 34,
     "metadata": {},
     "output_type": "execute_result"
    }
   ],
   "source": [
    "build_table(\"hh_df_base['TransitTrips'].sum()\", \"daysim_trip[daysim_trip['mode'] == 6]['trexpfac'].sum()\")"
   ]
  },
  {
   "cell_type": "markdown",
   "metadata": {},
   "source": [
    "# Household Composition"
   ]
  },
  {
   "cell_type": "code",
   "execution_count": 13,
   "metadata": {},
   "outputs": [
    {
     "data": {
      "text/html": [
       "<div>\n",
       "<style scoped>\n",
       "    .dataframe tbody tr th:only-of-type {\n",
       "        vertical-align: middle;\n",
       "    }\n",
       "\n",
       "    .dataframe tbody tr th {\n",
       "        vertical-align: top;\n",
       "    }\n",
       "\n",
       "    .dataframe thead th {\n",
       "        text-align: right;\n",
       "    }\n",
       "</style>\n",
       "<table border=\"1\" class=\"dataframe\">\n",
       "  <thead>\n",
       "    <tr style=\"text-align: right;\">\n",
       "      <th></th>\n",
       "      <th>VisionEval</th>\n",
       "      <th>Soundcast</th>\n",
       "      <th>Diff</th>\n",
       "      <th>% Diff</th>\n",
       "    </tr>\n",
       "  </thead>\n",
       "  <tbody>\n",
       "    <tr>\n",
       "      <th>0</th>\n",
       "      <td>2.52</td>\n",
       "      <td>2.52</td>\n",
       "      <td>-0.00</td>\n",
       "      <td>-0.1%</td>\n",
       "    </tr>\n",
       "  </tbody>\n",
       "</table>\n",
       "</div>"
      ],
      "text/plain": [
       "   VisionEval  Soundcast  Diff % Diff\n",
       "0        2.52       2.52 -0.00  -0.1%"
      ]
     },
     "execution_count": 13,
     "metadata": {},
     "output_type": "execute_result"
    }
   ],
   "source": [
    "pd.options.display.float_format = '{:0,.2f}'.format\n",
    "build_table(\"hh_df_base['HhSize'].mean()\", \"daysim_hh['hhsize'].mean()\")"
   ]
  },
  {
   "cell_type": "code",
   "execution_count": 14,
   "metadata": {},
   "outputs": [],
   "source": [
    "# Create categories for daysim by age\n",
    "age_bins = [-1, 15, 20, 30, 55, 65, 200]\n",
    "age_labels = ['Age0to14','Age15to19','Age20to29','Age30to54','Age55to64','Age65Plus']\n",
    "daysim_person['age_group'] = pd.cut(daysim_person['pagey'], age_bins, labels=age_labels)\n",
    "df = daysim_person.groupby('age_group').sum()[['psexpfac']]"
   ]
  },
  {
   "cell_type": "code",
   "execution_count": 15,
   "metadata": {},
   "outputs": [
    {
     "data": {
      "text/html": [
       "<div>\n",
       "<style scoped>\n",
       "    .dataframe tbody tr th:only-of-type {\n",
       "        vertical-align: middle;\n",
       "    }\n",
       "\n",
       "    .dataframe tbody tr th {\n",
       "        vertical-align: top;\n",
       "    }\n",
       "\n",
       "    .dataframe thead th {\n",
       "        text-align: right;\n",
       "    }\n",
       "</style>\n",
       "<table border=\"1\" class=\"dataframe\">\n",
       "  <thead>\n",
       "    <tr style=\"text-align: right;\">\n",
       "      <th></th>\n",
       "      <th>VisionEval</th>\n",
       "      <th>Soundcast</th>\n",
       "      <th>Diff</th>\n",
       "      <th>% Diff</th>\n",
       "    </tr>\n",
       "  </thead>\n",
       "  <tbody>\n",
       "    <tr>\n",
       "      <th>Age0to14</th>\n",
       "      <td>689,370.00</td>\n",
       "      <td>738,213.00</td>\n",
       "      <td>-48,843.00</td>\n",
       "      <td>-6.6%</td>\n",
       "    </tr>\n",
       "    <tr>\n",
       "      <th>Age15to19</th>\n",
       "      <td>261,890.00</td>\n",
       "      <td>258,374.00</td>\n",
       "      <td>3,516.00</td>\n",
       "      <td>1.4%</td>\n",
       "    </tr>\n",
       "    <tr>\n",
       "      <th>Age20to29</th>\n",
       "      <td>553,679.00</td>\n",
       "      <td>572,952.00</td>\n",
       "      <td>-19,273.00</td>\n",
       "      <td>-3.4%</td>\n",
       "    </tr>\n",
       "    <tr>\n",
       "      <th>Age30to54</th>\n",
       "      <td>1,402,819.00</td>\n",
       "      <td>1,399,930.00</td>\n",
       "      <td>2,889.00</td>\n",
       "      <td>0.2%</td>\n",
       "    </tr>\n",
       "    <tr>\n",
       "      <th>Age55to64</th>\n",
       "      <td>572,932.00</td>\n",
       "      <td>558,953.00</td>\n",
       "      <td>13,979.00</td>\n",
       "      <td>2.5%</td>\n",
       "    </tr>\n",
       "    <tr>\n",
       "      <th>Age65Plus</th>\n",
       "      <td>572,402.00</td>\n",
       "      <td>524,732.00</td>\n",
       "      <td>47,670.00</td>\n",
       "      <td>9.1%</td>\n",
       "    </tr>\n",
       "  </tbody>\n",
       "</table>\n",
       "</div>"
      ],
      "text/plain": [
       "            VisionEval    Soundcast       Diff % Diff\n",
       "Age0to14    689,370.00   738,213.00 -48,843.00  -6.6%\n",
       "Age15to19   261,890.00   258,374.00   3,516.00   1.4%\n",
       "Age20to29   553,679.00   572,952.00 -19,273.00  -3.4%\n",
       "Age30to54 1,402,819.00 1,399,930.00   2,889.00   0.2%\n",
       "Age55to64   572,932.00   558,953.00  13,979.00   2.5%\n",
       "Age65Plus   572,402.00   524,732.00  47,670.00   9.1%"
      ]
     },
     "execution_count": 15,
     "metadata": {},
     "output_type": "execute_result"
    }
   ],
   "source": [
    "build_table(\"hh_df_base[age_labels].sum()\", \"df['psexpfac']\")\n"
   ]
  },
  {
   "cell_type": "markdown",
   "metadata": {},
   "source": [
    "## Workers"
   ]
  },
  {
   "cell_type": "code",
   "execution_count": 16,
   "metadata": {},
   "outputs": [
    {
     "data": {
      "text/html": [
       "<div>\n",
       "<style scoped>\n",
       "    .dataframe tbody tr th:only-of-type {\n",
       "        vertical-align: middle;\n",
       "    }\n",
       "\n",
       "    .dataframe tbody tr th {\n",
       "        vertical-align: top;\n",
       "    }\n",
       "\n",
       "    .dataframe thead th {\n",
       "        text-align: right;\n",
       "    }\n",
       "</style>\n",
       "<table border=\"1\" class=\"dataframe\">\n",
       "  <thead>\n",
       "    <tr style=\"text-align: right;\">\n",
       "      <th></th>\n",
       "      <th>VisionEval</th>\n",
       "      <th>Soundcast</th>\n",
       "      <th>Diff</th>\n",
       "      <th>% Diff</th>\n",
       "    </tr>\n",
       "  </thead>\n",
       "  <tbody>\n",
       "    <tr>\n",
       "      <th>0</th>\n",
       "      <td>1,657,659.00</td>\n",
       "      <td>1,982,128.00</td>\n",
       "      <td>-324,469.00</td>\n",
       "      <td>-16.4%</td>\n",
       "    </tr>\n",
       "  </tbody>\n",
       "</table>\n",
       "</div>"
      ],
      "text/plain": [
       "    VisionEval    Soundcast        Diff  % Diff\n",
       "0 1,657,659.00 1,982,128.00 -324,469.00  -16.4%"
      ]
     },
     "execution_count": 16,
     "metadata": {},
     "output_type": "execute_result"
    }
   ],
   "source": [
    "build_table(\"hh_df_base['Workers'].sum()\", \"daysim_person[daysim_person['pwtyp'] > 0]['psexpfac'].sum()\")\n"
   ]
  },
  {
   "cell_type": "code",
   "execution_count": 17,
   "metadata": {},
   "outputs": [
    {
     "data": {
      "text/html": [
       "<div>\n",
       "<style scoped>\n",
       "    .dataframe tbody tr th:only-of-type {\n",
       "        vertical-align: middle;\n",
       "    }\n",
       "\n",
       "    .dataframe tbody tr th {\n",
       "        vertical-align: top;\n",
       "    }\n",
       "\n",
       "    .dataframe thead th {\n",
       "        text-align: right;\n",
       "    }\n",
       "</style>\n",
       "<table border=\"1\" class=\"dataframe\">\n",
       "  <thead>\n",
       "    <tr style=\"text-align: right;\">\n",
       "      <th></th>\n",
       "      <th>VisionEval</th>\n",
       "      <th>Soundcast</th>\n",
       "      <th>Diff</th>\n",
       "      <th>% Diff</th>\n",
       "    </tr>\n",
       "  </thead>\n",
       "  <tbody>\n",
       "    <tr>\n",
       "      <th>15to19</th>\n",
       "      <td>47,277.00</td>\n",
       "      <td>65,953.00</td>\n",
       "      <td>-18,676.00</td>\n",
       "      <td>-28.3%</td>\n",
       "    </tr>\n",
       "    <tr>\n",
       "      <th>20to29</th>\n",
       "      <td>325,364.00</td>\n",
       "      <td>422,307.00</td>\n",
       "      <td>-96,943.00</td>\n",
       "      <td>-23.0%</td>\n",
       "    </tr>\n",
       "    <tr>\n",
       "      <th>30to54</th>\n",
       "      <td>893,842.00</td>\n",
       "      <td>1,086,230.00</td>\n",
       "      <td>-192,388.00</td>\n",
       "      <td>-17.7%</td>\n",
       "    </tr>\n",
       "    <tr>\n",
       "      <th>55to64</th>\n",
       "      <td>306,316.00</td>\n",
       "      <td>329,537.00</td>\n",
       "      <td>-23,221.00</td>\n",
       "      <td>-7.0%</td>\n",
       "    </tr>\n",
       "    <tr>\n",
       "      <th>65Plus</th>\n",
       "      <td>84,860.00</td>\n",
       "      <td>78,101.00</td>\n",
       "      <td>6,759.00</td>\n",
       "      <td>8.7%</td>\n",
       "    </tr>\n",
       "  </tbody>\n",
       "</table>\n",
       "</div>"
      ],
      "text/plain": [
       "        VisionEval    Soundcast        Diff  % Diff\n",
       "15to19   47,277.00    65,953.00  -18,676.00  -28.3%\n",
       "20to29  325,364.00   422,307.00  -96,943.00  -23.0%\n",
       "30to54  893,842.00 1,086,230.00 -192,388.00  -17.7%\n",
       "55to64  306,316.00   329,537.00  -23,221.00   -7.0%\n",
       "65Plus   84,860.00    78,101.00    6,759.00    8.7%"
      ]
     },
     "execution_count": 17,
     "metadata": {},
     "output_type": "execute_result"
    }
   ],
   "source": [
    "# Workers by Age\n",
    "worker_age_group = ['15to19', '20to29','30to54', '55to64', '65Plus']\n",
    "worker_cols = ['Wkr'+i for i in worker_age_group]\n",
    "df = hh_df_base[worker_cols].sum()\n",
    "df.index = worker_age_group\n",
    "\n",
    "df_sc = daysim_person[daysim_person['pwtyp'] >0].groupby('age_group').sum()['psexpfac']\n",
    "df_sc.drop('Age0to14', inplace=True)\n",
    "df_sc.index = worker_age_group\n",
    "\n",
    "build_table(\"df\",\"df_sc\")"
   ]
  },
  {
   "cell_type": "markdown",
   "metadata": {},
   "source": [
    "## Income"
   ]
  },
  {
   "cell_type": "code",
   "execution_count": 19,
   "metadata": {},
   "outputs": [
    {
     "data": {
      "text/html": [
       "<div>\n",
       "<style scoped>\n",
       "    .dataframe tbody tr th:only-of-type {\n",
       "        vertical-align: middle;\n",
       "    }\n",
       "\n",
       "    .dataframe tbody tr th {\n",
       "        vertical-align: top;\n",
       "    }\n",
       "\n",
       "    .dataframe thead th {\n",
       "        text-align: right;\n",
       "    }\n",
       "</style>\n",
       "<table border=\"1\" class=\"dataframe\">\n",
       "  <thead>\n",
       "    <tr style=\"text-align: right;\">\n",
       "      <th></th>\n",
       "      <th>VisionEval</th>\n",
       "      <th>Soundcast</th>\n",
       "      <th>Diff</th>\n",
       "      <th>% Diff</th>\n",
       "    </tr>\n",
       "  </thead>\n",
       "  <tbody>\n",
       "    <tr>\n",
       "      <th>0</th>\n",
       "      <td>106,899.51</td>\n",
       "      <td>107,071.37</td>\n",
       "      <td>-171.86</td>\n",
       "      <td>-0.2%</td>\n",
       "    </tr>\n",
       "  </tbody>\n",
       "</table>\n",
       "</div>"
      ],
      "text/plain": [
       "   VisionEval  Soundcast    Diff % Diff\n",
       "0  106,899.51 107,071.37 -171.86  -0.2%"
      ]
     },
     "execution_count": 19,
     "metadata": {},
     "output_type": "execute_result"
    }
   ],
   "source": [
    "# Mean Income\n",
    "build_table(\"hh_df_base['Income'].mean()\",\"daysim_hh['hhincome'].mean()\")"
   ]
  },
  {
   "cell_type": "code",
   "execution_count": 19,
   "metadata": {},
   "outputs": [
    {
     "data": {
      "text/html": [
       "<div>\n",
       "<style scoped>\n",
       "    .dataframe tbody tr th:only-of-type {\n",
       "        vertical-align: middle;\n",
       "    }\n",
       "\n",
       "    .dataframe tbody tr th {\n",
       "        vertical-align: top;\n",
       "    }\n",
       "\n",
       "    .dataframe thead th {\n",
       "        text-align: right;\n",
       "    }\n",
       "</style>\n",
       "<table border=\"1\" class=\"dataframe\">\n",
       "  <thead>\n",
       "    <tr style=\"text-align: right;\">\n",
       "      <th></th>\n",
       "      <th>VisionEval</th>\n",
       "      <th>Soundcast</th>\n",
       "      <th>Diff</th>\n",
       "      <th>% Diff</th>\n",
       "    </tr>\n",
       "  </thead>\n",
       "  <tbody>\n",
       "    <tr>\n",
       "      <th>0</th>\n",
       "      <td>106,899.51</td>\n",
       "      <td>82,000.00</td>\n",
       "      <td>24,899.51</td>\n",
       "      <td>30.4%</td>\n",
       "    </tr>\n",
       "  </tbody>\n",
       "</table>\n",
       "</div>"
      ],
      "text/plain": [
       "   VisionEval  Soundcast      Diff % Diff\n",
       "0  106,899.51  82,000.00 24,899.51  30.4%"
      ]
     },
     "execution_count": 19,
     "metadata": {},
     "output_type": "execute_result"
    }
   ],
   "source": [
    "# Median Income\n",
    "build_table(\"hh_df_base['Income'].mean()\",\"daysim_hh['hhincome'].median()\")"
   ]
  },
  {
   "cell_type": "code",
   "execution_count": 20,
   "metadata": {},
   "outputs": [
    {
     "data": {
      "text/plain": [
       "<matplotlib.legend.Legend at 0x22300817a88>"
      ]
     },
     "execution_count": 20,
     "metadata": {},
     "output_type": "execute_result"
    },
    {
     "data": {
      "image/png": "[encoded data removed]",
      "text/plain": [
       "<Figure size 432x288 with 1 Axes>"
      ]
     },
     "metadata": {
      "needs_background": "light"
     },
     "output_type": "display_data"
    }
   ],
   "source": [
    "%matplotlib inline\n",
    "ax= hh_df_base[hh_df_base['Income'] < 200000]['Income'].plot(kind='hist', bins=20,  alpha=0.6, legend=True)\n",
    "daysim_hh[daysim_hh['hhincome'] < 200000]['hhincome'].plot(kind='hist', bins=20, ax=ax, alpha=0.6, legend=True)\n",
    "ax.legend(labels=['VisionEval','Soundcast'])\n",
    "# plt.legend,'test2"
   ]
  },
  {
   "cell_type": "code",
   "execution_count": 21,
   "metadata": {},
   "outputs": [
    {
     "data": {
      "text/plain": [
       "74200479.55557129"
      ]
     },
     "execution_count": 21,
     "metadata": {},
     "output_type": "execute_result"
    }
   ],
   "source": [
    "hh_df_base['Dvmt'].sum()"
   ]
  },
  {
   "cell_type": "code",
   "execution_count": null,
   "metadata": {},
   "outputs": [],
   "source": []
  },
  {
   "cell_type": "code",
   "execution_count": null,
   "metadata": {},
   "outputs": [],
   "source": []
  },
  {
   "cell_type": "code",
   "execution_count": null,
   "metadata": {},
   "outputs": [],
   "source": []
  }
 ],
 "metadata": {
  "interpreter": {
   "hash": "864701c56f29bc7bdff9ffbb1f8a3bf6444c4b09036b469d0716607ad07d0991"
  },
  "kernelspec": {
   "display_name": "Python 3.7.10 ('summary')",
   "language": "python",
   "name": "python3"
  },
  "language_info": {
   "codemirror_mode": {
    "name": "ipython",
    "version": 3
   },
   "file_extension": ".py",
   "mimetype": "text/x-python",
   "name": "python",
   "nbconvert_exporter": "python",
   "pygments_lexer": "ipython3",
   "version": "3.7.10"
  },
  "orig_nbformat": 4
 },
 "nbformat": 4,
 "nbformat_minor": 2
}
