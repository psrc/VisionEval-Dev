{
 "cells": [
  {
   "cell_type": "code",
   "execution_count": 1,
   "metadata": {},
   "outputs": [],
   "source": [
    "import os\n",
    "import pandas as pd\n",
    "import pyreadr\n",
    "import geopandas as gpd\n",
    "\n",
    "# result = pyreadr.read_r('test_data/basic/two.RData')"
   ]
  },
  {
   "cell_type": "code",
   "execution_count": 60,
   "metadata": {},
   "outputs": [],
   "source": [
    "# hh_df[]"
   ]
  },
  {
   "cell_type": "code",
   "execution_count": null,
   "metadata": {},
   "outputs": [],
   "source": []
  },
  {
   "cell_type": "code",
   "execution_count": 58,
   "metadata": {},
   "outputs": [],
   "source": [
    "# df = pd.read_csv(r'C:\\Workspace\\VisionEval\\models\\VERSPM\\output\\BZone.csv')\n",
    "# result = pyreadr.read_r(r'C:\\Workspace\\VisionEval\\models\\VERSPM\\Datastore\\2018\\Household\\DailyCO2e.RDa')"
   ]
  },
  {
   "cell_type": "code",
   "execution_count": null,
   "metadata": {},
   "outputs": [
    {
     "data": {
      "text/plain": [
       "OrderedDict([('Dataset',\n",
       "                       Dataset\n",
       "              0             12\n",
       "              1             12\n",
       "              2              1\n",
       "              3             29\n",
       "              4             14\n",
       "              ...          ...\n",
       "              1769874       25\n",
       "              1769875       25\n",
       "              1769876       17\n",
       "              1769877       28\n",
       "              1769878       17\n",
       "              \n",
       "              [1769879 rows x 1 columns])])"
      ]
     },
     "execution_count": 57,
     "metadata": {},
     "output_type": "execute_result"
    }
   ],
   "source": [
    "# result"
   ]
  },
  {
   "cell_type": "code",
   "execution_count": 2,
   "metadata": {},
   "outputs": [],
   "source": [
    "output_dir = r'C:\\Workspace\\VisionEval\\models\\VERSPM\\Datastore'\n",
    "year = '2018'\n",
    "def export_households(output_dir, year, scenario_name):\n",
    "\n",
    "    hh_df = pd.DataFrame()\n",
    "    hh_path = os.path.join(output_dir, year, 'Household')\n",
    "    for fname in os.listdir(hh_path):\n",
    "        result = pyreadr.read_r(os.path.join(hh_path, fname))\n",
    "        hh_df[fname.split('.')[0]] = result['Dataset']['Dataset']\n",
    "    hh_df['Scenario'] = scenario_name\n",
    "\n",
    "    return hh_df"
   ]
  },
  {
   "cell_type": "code",
   "execution_count": 3,
   "metadata": {},
   "outputs": [],
   "source": [
    "output_dir = r'C:\\Workspace\\VisionEval\\models\\VERSPM\\Datastore'\n",
    "hh_df_base = export_households(output_dir, year='2018', scenario_name='2018')\n",
    "year = '2018'\n",
    "output_dir = r'C:\\Workspace\\VisionEval\\models\\VERSPM_TDR_scen1\\Datastore'\n",
    "hh_df_scen = export_households(output_dir, year='2018', scenario_name='more_transit')\n",
    "hh_df = hh_df_base.append(hh_df_scen)"
   ]
  },
  {
   "cell_type": "code",
   "execution_count": 16,
   "metadata": {},
   "outputs": [],
   "source": [
    "# Load soundcast reslts for vehicles and drivers\n",
    "daysim_hh = pd.read_csv(r'L:\\RTP_2022\\final_runs\\sc_2018_rtp_final\\soundcast\\outputs\\daysim\\_household.tsv', delim_whitespace=True)\n",
    "\n",
    "# Load soundcast reslts for vehicles and drivers\n",
    "daysim_trip = pd.read_csv(r'L:\\RTP_2022\\final_runs\\sc_2018_rtp_final\\soundcast\\outputs\\daysim\\_trip.tsv', delim_whitespace=True)\n",
    "\n",
    "daysim_person = pd.read_csv(r'L:\\RTP_2022\\final_runs\\sc_2018_rtp_final\\soundcast\\outputs\\daysim\\_person.tsv', delim_whitespace=True)"
   ]
  },
  {
   "cell_type": "code",
   "execution_count": 5,
   "metadata": {},
   "outputs": [
    {
     "data": {
      "text/plain": [
       "Index(['Age0to14', 'Age15to19', 'Age20to29', 'Age30to54', 'Age55to64',\n",
       "       'Age65Plus', 'AveCO2ePM', 'AveGPM', 'AveKWHPM', 'AveRoadUseTaxPM',\n",
       "       'AveSocEnvCostPM', 'AveTrpLenDiverted', 'AveVehCostPM', 'AveVehTripLen',\n",
       "       'Azone', 'BikeTrips', 'Bzone', 'CarSvcLevel', 'DailyCO2e', 'DailyGGE',\n",
       "       'DailyKWH', 'Drivers', 'Drv15to19', 'Drv20to29', 'Drv30to54',\n",
       "       'Drv55to64', 'Drv65Plus', 'DrvAgePersons', 'Dvmt', 'FreeParkingSpaces',\n",
       "       'HasPaydIns', 'HhId', 'HhSize', 'HhType', 'HouseType', 'Income',\n",
       "       'IsEcoDrive', 'IsIMP', 'IsUrbanMixNbrhd', 'LifeCycle', 'LocType',\n",
       "       'Marea', 'NumAuto', 'NumHighCarSvc', 'NumLtTrk', 'OtherParkingCost',\n",
       "       'OwnCost', 'OwnCostSavings', 'ParkingUnitCost', 'PropDvmtDiverted',\n",
       "       'PropTdmDvmtReduction', 'SovDvmtProp', 'TransitTrips', 'UrbanDvmtProp',\n",
       "       'Vehicles', 'VehicleTrips', 'WalkTrips', 'Wkr15to19', 'Wkr20to29',\n",
       "       'Wkr30to54', 'Wkr55to64', 'Wkr65Plus', 'Workers', 'Scenario'],\n",
       "      dtype='object')"
      ]
     },
     "execution_count": 5,
     "metadata": {},
     "output_type": "execute_result"
    }
   ],
   "source": [
    "hh_df_base.columns"
   ]
  },
  {
   "cell_type": "code",
   "execution_count": 6,
   "metadata": {},
   "outputs": [],
   "source": [
    "# df = pd.read_csv(r'')"
   ]
  },
  {
   "cell_type": "code",
   "execution_count": 17,
   "metadata": {},
   "outputs": [
    {
     "data": {
      "text/plain": [
       "3202833.0"
      ]
     },
     "execution_count": 17,
     "metadata": {},
     "output_type": "execute_result"
    }
   ],
   "source": [
    "hh_df_base['Drivers'].sum()"
   ]
  },
  {
   "cell_type": "code",
   "execution_count": 18,
   "metadata": {},
   "outputs": [],
   "source": [
    "# daysim_hh.columns"
   ]
  },
  {
   "cell_type": "code",
   "execution_count": 19,
   "metadata": {},
   "outputs": [
    {
     "data": {
      "text/plain": [
       "3202833.0"
      ]
     },
     "execution_count": 19,
     "metadata": {},
     "output_type": "execute_result"
    }
   ],
   "source": [
    "hh_df_base['Drivers'].sum()"
   ]
  },
  {
   "cell_type": "code",
   "execution_count": 20,
   "metadata": {},
   "outputs": [
    {
     "data": {
      "text/plain": [
       "107056.14741824458"
      ]
     },
     "execution_count": 20,
     "metadata": {},
     "output_type": "execute_result"
    }
   ],
   "source": [
    "hh_df_base['Income'].mean()"
   ]
  },
  {
   "cell_type": "markdown",
   "metadata": {},
   "source": [
    "### Vehicle Ownership\n",
    "\n",
    "Overpredicting vehicles owned by 15%, about in line with the overpredictions of workers\n"
   ]
  },
  {
   "cell_type": "code",
   "execution_count": 21,
   "metadata": {},
   "outputs": [
    {
     "data": {
      "text/plain": [
       "3537945.0"
      ]
     },
     "execution_count": 21,
     "metadata": {},
     "output_type": "execute_result"
    }
   ],
   "source": [
    "hh_df_base['Vehicles'].sum()"
   ]
  },
  {
   "cell_type": "code",
   "execution_count": 22,
   "metadata": {},
   "outputs": [],
   "source": [
    "# daysim_hh['hhvehs'].sum()"
   ]
  },
  {
   "cell_type": "code",
   "execution_count": 23,
   "metadata": {},
   "outputs": [
    {
     "data": {
      "text/plain": [
       "Vehicles\n",
       "1.0    438916\n",
       "2.0    605260\n",
       "3.0    397460\n",
       "4.0    132260\n",
       "5.0     27521\n",
       "6.0      4721\n",
       "7.0        74\n",
       "8.0        80\n",
       "Name: Age0to14, dtype: int64"
      ]
     },
     "execution_count": 23,
     "metadata": {},
     "output_type": "execute_result"
    }
   ],
   "source": [
    "# Number of zero-vehicle households\n",
    "hh_df_base.groupby('Vehicles').count()['Age0to14']"
   ]
  },
  {
   "cell_type": "code",
   "execution_count": 24,
   "metadata": {},
   "outputs": [
    {
     "data": {
      "text/html": [
       "<div>\n",
       "<style scoped>\n",
       "    .dataframe tbody tr th:only-of-type {\n",
       "        vertical-align: middle;\n",
       "    }\n",
       "\n",
       "    .dataframe tbody tr th {\n",
       "        vertical-align: top;\n",
       "    }\n",
       "\n",
       "    .dataframe thead th {\n",
       "        text-align: right;\n",
       "    }\n",
       "</style>\n",
       "<table border=\"1\" class=\"dataframe\">\n",
       "  <thead>\n",
       "    <tr style=\"text-align: right;\">\n",
       "      <th></th>\n",
       "      <th>Age0to14</th>\n",
       "      <th>Age15to19</th>\n",
       "      <th>Age20to29</th>\n",
       "      <th>Age30to54</th>\n",
       "      <th>Age55to64</th>\n",
       "      <th>Age65Plus</th>\n",
       "      <th>AveCO2ePM</th>\n",
       "      <th>AveGPM</th>\n",
       "      <th>AveKWHPM</th>\n",
       "      <th>AveRoadUseTaxPM</th>\n",
       "      <th>...</th>\n",
       "      <th>Vehicles</th>\n",
       "      <th>VehicleTrips</th>\n",
       "      <th>WalkTrips</th>\n",
       "      <th>Wkr15to19</th>\n",
       "      <th>Wkr20to29</th>\n",
       "      <th>Wkr30to54</th>\n",
       "      <th>Wkr55to64</th>\n",
       "      <th>Wkr65Plus</th>\n",
       "      <th>Workers</th>\n",
       "      <th>Scenario</th>\n",
       "    </tr>\n",
       "  </thead>\n",
       "  <tbody>\n",
       "  </tbody>\n",
       "</table>\n",
       "<p>0 rows × 64 columns</p>\n",
       "</div>"
      ],
      "text/plain": [
       "Empty DataFrame\n",
       "Columns: [Age0to14, Age15to19, Age20to29, Age30to54, Age55to64, Age65Plus, AveCO2ePM, AveGPM, AveKWHPM, AveRoadUseTaxPM, AveSocEnvCostPM, AveTrpLenDiverted, AveVehCostPM, AveVehTripLen, Azone, BikeTrips, Bzone, CarSvcLevel, DailyCO2e, DailyGGE, DailyKWH, Drivers, Drv15to19, Drv20to29, Drv30to54, Drv55to64, Drv65Plus, DrvAgePersons, Dvmt, FreeParkingSpaces, HasPaydIns, HhId, HhSize, HhType, HouseType, Income, IsEcoDrive, IsIMP, IsUrbanMixNbrhd, LifeCycle, LocType, Marea, NumAuto, NumHighCarSvc, NumLtTrk, OtherParkingCost, OwnCost, OwnCostSavings, ParkingUnitCost, PropDvmtDiverted, PropTdmDvmtReduction, SovDvmtProp, TransitTrips, UrbanDvmtProp, Vehicles, VehicleTrips, WalkTrips, Wkr15to19, Wkr20to29, Wkr30to54, Wkr55to64, Wkr65Plus, Workers, Scenario]\n",
       "Index: []\n",
       "\n",
       "[0 rows x 64 columns]"
      ]
     },
     "execution_count": 24,
     "metadata": {},
     "output_type": "execute_result"
    }
   ],
   "source": [
    "# Not predicting any 0-vehicle households...\n",
    "hh_df_base[hh_df_base['Vehicles'] == 0]"
   ]
  },
  {
   "cell_type": "code",
   "execution_count": 25,
   "metadata": {},
   "outputs": [
    {
     "data": {
      "text/plain": [
       "hhvehs\n",
       "0    106565\n",
       "1    486738\n",
       "2    584187\n",
       "3    297104\n",
       "4    130669\n",
       "Name: hhexpfac, dtype: int64"
      ]
     },
     "execution_count": 25,
     "metadata": {},
     "output_type": "execute_result"
    }
   ],
   "source": [
    "daysim_hh.groupby('hhvehs').count()['hhexpfac']"
   ]
  },
  {
   "cell_type": "code",
   "execution_count": null,
   "metadata": {},
   "outputs": [],
   "source": []
  },
  {
   "cell_type": "code",
   "execution_count": 153,
   "metadata": {},
   "outputs": [
    {
     "data": {
      "text/plain": [
       "3069100"
      ]
     },
     "execution_count": 153,
     "metadata": {},
     "output_type": "execute_result"
    }
   ],
   "source": []
  },
  {
   "cell_type": "code",
   "execution_count": 171,
   "metadata": {},
   "outputs": [],
   "source": []
  },
  {
   "cell_type": "code",
   "execution_count": 155,
   "metadata": {},
   "outputs": [],
   "source": []
  },
  {
   "cell_type": "markdown",
   "metadata": {},
   "source": [
    "### Household VMT"
   ]
  },
  {
   "cell_type": "code",
   "execution_count": 26,
   "metadata": {},
   "outputs": [
    {
     "data": {
      "text/plain": [
       "68905100.66814058"
      ]
     },
     "execution_count": 26,
     "metadata": {},
     "output_type": "execute_result"
    }
   ],
   "source": [
    "veh_trips = daysim_trip[(daysim_trip['mode'].isin([3,4,5])) & (daysim_trip['dorp'] == 1)]\n",
    "veh_trips['travdist'].sum()"
   ]
  },
  {
   "cell_type": "code",
   "execution_count": 27,
   "metadata": {},
   "outputs": [
    {
     "data": {
      "text/plain": [
       "75541664.20029886"
      ]
     },
     "execution_count": 27,
     "metadata": {},
     "output_type": "execute_result"
    }
   ],
   "source": [
    "hh_df_base['Dvmt'].sum()"
   ]
  },
  {
   "cell_type": "markdown",
   "metadata": {},
   "source": [
    "### Average trip distance (miles)"
   ]
  },
  {
   "cell_type": "code",
   "execution_count": 28,
   "metadata": {},
   "outputs": [
    {
     "data": {
      "text/plain": [
       "6.899108425644939"
      ]
     },
     "execution_count": 28,
     "metadata": {},
     "output_type": "execute_result"
    }
   ],
   "source": [
    "\n",
    "veh_trips['travdist'].sum()/len(veh_trips)"
   ]
  },
  {
   "cell_type": "code",
   "execution_count": 29,
   "metadata": {},
   "outputs": [
    {
     "data": {
      "text/plain": [
       "8.650709895021272"
      ]
     },
     "execution_count": 29,
     "metadata": {},
     "output_type": "execute_result"
    }
   ],
   "source": [
    "hh_df_base['Dvmt'].sum()/hh_df_base['VehicleTrips'].sum()\n"
   ]
  },
  {
   "cell_type": "code",
   "execution_count": 92,
   "metadata": {},
   "outputs": [
    {
     "data": {
      "text/plain": [
       "75541664.20029886"
      ]
     },
     "execution_count": 92,
     "metadata": {},
     "output_type": "execute_result"
    }
   ],
   "source": [
    "hh_df_base['Dvmt'].sum()"
   ]
  },
  {
   "cell_type": "markdown",
   "metadata": {},
   "source": [
    "### Average vehicle trips per Person"
   ]
  },
  {
   "cell_type": "code",
   "execution_count": 30,
   "metadata": {},
   "outputs": [
    {
     "data": {
      "text/plain": [
       "2.1545038122754865"
      ]
     },
     "execution_count": 30,
     "metadata": {},
     "output_type": "execute_result"
    }
   ],
   "source": [
    "\n",
    "hh_df_base['VehicleTrips'].sum()/hh_df_base['HhSize'].sum()"
   ]
  },
  {
   "cell_type": "code",
   "execution_count": 31,
   "metadata": {},
   "outputs": [
    {
     "data": {
      "text/plain": [
       "2.46413953183126"
      ]
     },
     "execution_count": 31,
     "metadata": {},
     "output_type": "execute_result"
    }
   ],
   "source": [
    "veh_trips = daysim_trip[(daysim_trip['mode'].isin([3,4,5])) & (daysim_trip['dorp'] == 1)]\n",
    "len(veh_trips)/len(daysim_person)"
   ]
  },
  {
   "cell_type": "markdown",
   "metadata": {},
   "source": [
    "#### Average vehicle trips per Household"
   ]
  },
  {
   "cell_type": "code",
   "execution_count": 32,
   "metadata": {},
   "outputs": [
    {
     "data": {
      "text/plain": [
       "6.221744972630653"
      ]
     },
     "execution_count": 32,
     "metadata": {},
     "output_type": "execute_result"
    }
   ],
   "source": [
    "len(veh_trips)/len(daysim_hh)"
   ]
  },
  {
   "cell_type": "code",
   "execution_count": 33,
   "metadata": {},
   "outputs": [
    {
     "data": {
      "text/plain": [
       "5.4363862302379635"
      ]
     },
     "execution_count": 33,
     "metadata": {},
     "output_type": "execute_result"
    }
   ],
   "source": [
    "hh_df_base['VehicleTrips'].sum()/(len(hh_df_base))"
   ]
  },
  {
   "cell_type": "code",
   "execution_count": 34,
   "metadata": {},
   "outputs": [
    {
     "data": {
      "text/plain": [
       "1605263"
      ]
     },
     "execution_count": 34,
     "metadata": {},
     "output_type": "execute_result"
    }
   ],
   "source": [
    "len(daysim_hh)"
   ]
  },
  {
   "cell_type": "code",
   "execution_count": 35,
   "metadata": {},
   "outputs": [
    {
     "data": {
      "text/plain": [
       "1606292"
      ]
     },
     "execution_count": 35,
     "metadata": {},
     "output_type": "execute_result"
    }
   ],
   "source": [
    "len(hh_df_base)"
   ]
  },
  {
   "cell_type": "markdown",
   "metadata": {},
   "source": [
    "### HH Size"
   ]
  },
  {
   "cell_type": "code",
   "execution_count": null,
   "metadata": {},
   "outputs": [],
   "source": []
  },
  {
   "cell_type": "code",
   "execution_count": 36,
   "metadata": {},
   "outputs": [
    {
     "data": {
      "text/plain": [
       "2.5249158549097563"
      ]
     },
     "execution_count": 36,
     "metadata": {},
     "output_type": "execute_result"
    }
   ],
   "source": [
    "daysim_hh['hhsize'].mean()\n"
   ]
  },
  {
   "cell_type": "code",
   "execution_count": 37,
   "metadata": {},
   "outputs": [
    {
     "data": {
      "text/plain": [
       "2.523266006429715"
      ]
     },
     "execution_count": 37,
     "metadata": {},
     "output_type": "execute_result"
    }
   ],
   "source": [
    "hh_df_base['HhSize'].mean()\n"
   ]
  },
  {
   "cell_type": "code",
   "execution_count": 61,
   "metadata": {},
   "outputs": [
    {
     "data": {
      "text/plain": [
       "4053102.0"
      ]
     },
     "execution_count": 61,
     "metadata": {},
     "output_type": "execute_result"
    }
   ],
   "source": [
    "# Total population\n",
    "hh_df_base['HhSize'].sum()"
   ]
  },
  {
   "cell_type": "code",
   "execution_count": 64,
   "metadata": {},
   "outputs": [
    {
     "data": {
      "text/plain": [
       "4053154"
      ]
     },
     "execution_count": 64,
     "metadata": {},
     "output_type": "execute_result"
    }
   ],
   "source": [
    "daysim_hh['hhsize'].sum()"
   ]
  },
  {
   "cell_type": "code",
   "execution_count": null,
   "metadata": {},
   "outputs": [],
   "source": []
  },
  {
   "cell_type": "code",
   "execution_count": 38,
   "metadata": {},
   "outputs": [],
   "source": [
    "# hh_df_base.groupby('Bzone').mean()['IsUrbanMixNbrhd'].sort_values()\n",
    "mixed_zones = hh_df_base[hh_df_base['IsUrbanMixNbrhd'] == 1]['Bzone'].unique()"
   ]
  },
  {
   "cell_type": "code",
   "execution_count": 39,
   "metadata": {},
   "outputs": [],
   "source": [
    "# gdf = gpd.read_file(r'T:\\2022March\\Brice\\tl_2020_53_bg.shp')"
   ]
  },
  {
   "cell_type": "code",
   "execution_count": 40,
   "metadata": {},
   "outputs": [],
   "source": [
    "# gdf[gdf['GEOID'].isin(mixed_zones)].plot(figsize=(20,20))\n",
    "# gdf"
   ]
  },
  {
   "cell_type": "markdown",
   "metadata": {},
   "source": [
    "### Kids ages 0 to 14"
   ]
  },
  {
   "cell_type": "code",
   "execution_count": 41,
   "metadata": {},
   "outputs": [
    {
     "data": {
      "text/plain": [
       "689305.0"
      ]
     },
     "execution_count": 41,
     "metadata": {},
     "output_type": "execute_result"
    }
   ],
   "source": [
    "hh_df_base['Age0to14'].sum()"
   ]
  },
  {
   "cell_type": "code",
   "execution_count": 42,
   "metadata": {},
   "outputs": [
    {
     "data": {
      "text/plain": [
       "689061"
      ]
     },
     "execution_count": 42,
     "metadata": {},
     "output_type": "execute_result"
    }
   ],
   "source": [
    "len(daysim_person[daysim_person['pagey'] < 15])"
   ]
  },
  {
   "cell_type": "code",
   "execution_count": 49,
   "metadata": {},
   "outputs": [
    {
     "data": {
      "text/plain": [
       "261807"
      ]
     },
     "execution_count": 49,
     "metadata": {},
     "output_type": "execute_result"
    }
   ],
   "source": [
    "len(daysim_person[(daysim_person['pagey'] >= 15) & (daysim_person['pagey'] < 20)])"
   ]
  },
  {
   "cell_type": "code",
   "execution_count": 50,
   "metadata": {},
   "outputs": [
    {
     "data": {
      "text/plain": [
       "553697"
      ]
     },
     "execution_count": 50,
     "metadata": {},
     "output_type": "execute_result"
    }
   ],
   "source": [
    "len(daysim_person[(daysim_person['pagey'] >= 20) & (daysim_person['pagey'] < 30)])"
   ]
  },
  {
   "cell_type": "code",
   "execution_count": 51,
   "metadata": {},
   "outputs": [
    {
     "data": {
      "text/plain": [
       "1403200"
      ]
     },
     "execution_count": 51,
     "metadata": {},
     "output_type": "execute_result"
    }
   ],
   "source": [
    "len(daysim_person[(daysim_person['pagey'] >= 30) & (daysim_person['pagey'] < 55)])"
   ]
  },
  {
   "cell_type": "code",
   "execution_count": 52,
   "metadata": {},
   "outputs": [
    {
     "data": {
      "text/plain": [
       "572966"
      ]
     },
     "execution_count": 52,
     "metadata": {},
     "output_type": "execute_result"
    }
   ],
   "source": [
    "len(daysim_person[(daysim_person['pagey'] >= 55) & (daysim_person['pagey'] <65)])"
   ]
  },
  {
   "cell_type": "code",
   "execution_count": 53,
   "metadata": {},
   "outputs": [
    {
     "data": {
      "text/plain": [
       "572423"
      ]
     },
     "execution_count": 53,
     "metadata": {},
     "output_type": "execute_result"
    }
   ],
   "source": [
    "len(daysim_person[daysim_person['pagey'] >= 65])"
   ]
  },
  {
   "cell_type": "code",
   "execution_count": 45,
   "metadata": {},
   "outputs": [
    {
     "data": {
      "text/plain": [
       "Age0to14      689305.0\n",
       "Age15to19     261884.0\n",
       "Age20to29     553670.0\n",
       "Age30to54    1402911.0\n",
       "Age55to64     572924.0\n",
       "Age65Plus     572408.0\n",
       "dtype: float64"
      ]
     },
     "execution_count": 45,
     "metadata": {},
     "output_type": "execute_result"
    }
   ],
   "source": [
    "hh_df_base[['Age0to14','Age15to19','Age20to29','Age30to54','Age55to64','Age65Plus']].sum()"
   ]
  },
  {
   "cell_type": "code",
   "execution_count": 310,
   "metadata": {},
   "outputs": [
    {
     "data": {
      "text/plain": [
       "Index(['Age0to14', 'Age15to19', 'Age20to29', 'Age30to54', 'Age55to64',\n",
       "       'Age65Plus', 'AveCO2ePM', 'AveGPM', 'AveKWHPM', 'AveRoadUseTaxPM',\n",
       "       'AveSocEnvCostPM', 'AveTrpLenDiverted', 'AveVehCostPM', 'AveVehTripLen',\n",
       "       'Azone', 'BikeTrips', 'Bzone', 'CarSvcLevel', 'DailyCO2e', 'DailyGGE',\n",
       "       'DailyKWH', 'Drivers', 'Drv15to19', 'Drv20to29', 'Drv30to54',\n",
       "       'Drv55to64', 'Drv65Plus', 'DrvAgePersons', 'Dvmt', 'FreeParkingSpaces',\n",
       "       'HasPaydIns', 'HhId', 'HhSize', 'HhType', 'HouseType', 'Income',\n",
       "       'IsEcoDrive', 'IsIMP', 'IsUrbanMixNbrhd', 'LifeCycle', 'LocType',\n",
       "       'Marea', 'NumAuto', 'NumHighCarSvc', 'NumLtTrk', 'OtherParkingCost',\n",
       "       'OwnCost', 'OwnCostSavings', 'ParkingUnitCost', 'PropDvmtDiverted',\n",
       "       'PropTdmDvmtReduction', 'SovDvmtProp', 'TransitTrips', 'UrbanDvmtProp',\n",
       "       'Vehicles', 'VehicleTrips', 'WalkTrips', 'Wkr15to19', 'Wkr20to29',\n",
       "       'Wkr30to54', 'Wkr55to64', 'Wkr65Plus', 'Workers', 'Scenario'],\n",
       "      dtype='object')"
      ]
     },
     "execution_count": 310,
     "metadata": {},
     "output_type": "execute_result"
    }
   ],
   "source": [
    "hh_df_base.columns"
   ]
  },
  {
   "cell_type": "code",
   "execution_count": null,
   "metadata": {},
   "outputs": [],
   "source": []
  },
  {
   "cell_type": "markdown",
   "metadata": {},
   "source": [
    "### Workers\n",
    "\n",
    "Overpredicting works by 15%"
   ]
  },
  {
   "cell_type": "code",
   "execution_count": 345,
   "metadata": {},
   "outputs": [
    {
     "data": {
      "text/plain": [
       "1982128"
      ]
     },
     "execution_count": 345,
     "metadata": {},
     "output_type": "execute_result"
    }
   ],
   "source": [
    "# daysim_hh['hhsize'].mean()\n",
    "daysim_person[daysim_person['pwtyp'] > 0]['psexpfac'].sum()"
   ]
  },
  {
   "cell_type": "code",
   "execution_count": 346,
   "metadata": {},
   "outputs": [
    {
     "data": {
      "text/plain": [
       "1947147.0"
      ]
     },
     "execution_count": 346,
     "metadata": {},
     "output_type": "execute_result"
    }
   ],
   "source": [
    "hh_df_base['Workers'].sum()"
   ]
  },
  {
   "cell_type": "markdown",
   "metadata": {},
   "source": [
    "### Income"
   ]
  },
  {
   "cell_type": "code",
   "execution_count": 347,
   "metadata": {},
   "outputs": [
    {
     "data": {
      "text/plain": [
       "107056.14741824458"
      ]
     },
     "execution_count": 347,
     "metadata": {},
     "output_type": "execute_result"
    }
   ],
   "source": [
    "hh_df_base.Income.mean()"
   ]
  },
  {
   "cell_type": "code",
   "execution_count": 348,
   "metadata": {},
   "outputs": [
    {
     "data": {
      "text/plain": [
       "64250.298646754585"
      ]
     },
     "execution_count": 348,
     "metadata": {},
     "output_type": "execute_result"
    }
   ],
   "source": [
    "hh_df_base.Income.median()"
   ]
  },
  {
   "cell_type": "code",
   "execution_count": 349,
   "metadata": {},
   "outputs": [
    {
     "data": {
      "text/plain": [
       "107071.37261183994"
      ]
     },
     "execution_count": 349,
     "metadata": {},
     "output_type": "execute_result"
    }
   ],
   "source": [
    "daysim_hh['hhincome'].mean()"
   ]
  },
  {
   "cell_type": "code",
   "execution_count": 54,
   "metadata": {},
   "outputs": [
    {
     "data": {
      "text/plain": [
       "82000.0"
      ]
     },
     "execution_count": 54,
     "metadata": {},
     "output_type": "execute_result"
    }
   ],
   "source": [
    "daysim_hh['hhincome'].median()"
   ]
  },
  {
   "cell_type": "code",
   "execution_count": 65,
   "metadata": {},
   "outputs": [
    {
     "data": {
      "text/plain": [
       "<AxesSubplot:ylabel='Frequency'>"
      ]
     },
     "execution_count": 65,
     "metadata": {},
     "output_type": "execute_result"
    }
   ],
   "source": [
    "ax = daysim_hh['hhsize'].plot(kind='hist', bins=20, alpha=0.8)\n",
    "hh_df_base['HhSize'].plot(ax=ax, kind='hist', bins=10, alpha=0.5)"
   ]
  },
  {
   "cell_type": "code",
   "execution_count": 66,
   "metadata": {},
   "outputs": [],
   "source": [
    "df_daysim = daysim_hh.groupby('hhsize').count()[['hhexpfac']]\n",
    "# [''].max()\n",
    "df_ve = hh_df_base.groupby('HhSize').count()[['Age0to14']]\n",
    "\n",
    "df_daysim.rename(columns={'hhexcpfac': 'daysim_hh'}, inplace=True)\n",
    "df_ve.rename(columns={'Age0to14': 've_hh'}, inplace=True)\n",
    "df_merge = df_daysim.merge(df_ve,left_index=True, right_index=True, how='left')"
   ]
  },
  {
   "cell_type": "code",
   "execution_count": 67,
   "metadata": {},
   "outputs": [],
   "source": [
    "df_merge = df_merge.fillna(0)\n",
    "df_merge/df_merge.sum()\n",
    "pd.options.display.float_format = '{:0,.2f}'.format"
   ]
  },
  {
   "cell_type": "code",
   "execution_count": 69,
   "metadata": {},
   "outputs": [],
   "source": [
    "df_merge.to_clipboard()\n",
    "\n",
    "# There are fewer 2 person hh but more 3 person hh in visioneval"
   ]
  },
  {
   "cell_type": "code",
   "execution_count": 68,
   "metadata": {},
   "outputs": [
    {
     "data": {
      "text/plain": [
       "76543.37639345457"
      ]
     },
     "execution_count": 68,
     "metadata": {},
     "output_type": "execute_result"
    }
   ],
   "source": [
    "%matplotlib inline\n",
    "hh_df_base['Income'].median()"
   ]
  },
  {
   "cell_type": "code",
   "execution_count": 70,
   "metadata": {},
   "outputs": [],
   "source": [
    "# tot_list = ['Age0to14', 'Age15to19', 'Age20to29', 'Age30to54', 'Age55to64','Age65Plus', 'AveCO2ePM',\n",
    "#             'AveCO2ePM', 'AveGPM', 'AveKWHPM', 'AveRoadUseTaxPM',\n",
    "#        'AveSocEnvCostPM', 'AveTrpLenDiverted', 'AveVehCostPM', 'AveVehTripLen',\n",
    "#        'DailyCO2e', 'DailyGGE','DailyKWH','Drivers', 'Drv15to19', 'Drv20to29', 'Drv30to54',\n",
    "#        'Drv55to64', 'Drv65Plus', 'DrvAgePersons', 'Dvmt', 'FreeParkingSpaces','TransitTrips',\n",
    "#        'Vehicles','VehicleTrips','WalkTrips','Workers']\n",
    "tot_list = ['Dvmt']\n",
    "df_18 = hh_df_base.groupby('Bzone').sum()[tot_list]\n",
    "df_18['Scenario'] = 'base'\n",
    "df_50 = hh_df_scen.groupby('Bzone').sum()[tot_list]\n",
    "df_50['Scenario'] = 'scen'\n",
    "df = df_18.append(df_50)\n",
    "# df = df_18.copy()"
   ]
  },
  {
   "cell_type": "code",
   "execution_count": 71,
   "metadata": {},
   "outputs": [
    {
     "data": {
      "text/html": [
       "<div>\n",
       "<style scoped>\n",
       "    .dataframe tbody tr th:only-of-type {\n",
       "        vertical-align: middle;\n",
       "    }\n",
       "\n",
       "    .dataframe tbody tr th {\n",
       "        vertical-align: top;\n",
       "    }\n",
       "\n",
       "    .dataframe thead th {\n",
       "        text-align: right;\n",
       "    }\n",
       "</style>\n",
       "<table border=\"1\" class=\"dataframe\">\n",
       "  <thead>\n",
       "    <tr style=\"text-align: right;\">\n",
       "      <th></th>\n",
       "      <th>Dvmt</th>\n",
       "    </tr>\n",
       "    <tr>\n",
       "      <th>Scenario</th>\n",
       "      <th></th>\n",
       "    </tr>\n",
       "  </thead>\n",
       "  <tbody>\n",
       "    <tr>\n",
       "      <th>base</th>\n",
       "      <td>75,541,664.20</td>\n",
       "    </tr>\n",
       "    <tr>\n",
       "      <th>scen</th>\n",
       "      <td>88,842,710.55</td>\n",
       "    </tr>\n",
       "  </tbody>\n",
       "</table>\n",
       "</div>"
      ],
      "text/plain": [
       "                  Dvmt\n",
       "Scenario              \n",
       "base     75,541,664.20\n",
       "scen     88,842,710.55"
      ]
     },
     "execution_count": 71,
     "metadata": {},
     "output_type": "execute_result"
    }
   ],
   "source": [
    "# Calculate\n",
    "df.groupby('Scenario').sum()[['Dvmt']]"
   ]
  },
  {
   "cell_type": "code",
   "execution_count": 112,
   "metadata": {},
   "outputs": [],
   "source": [
    "# df.to_csv(r'C:\\Workspace\\VisionEval\\models\\VERSPM\\tableau\\bzone_totals.csv')"
   ]
  },
  {
   "cell_type": "code",
   "execution_count": 113,
   "metadata": {},
   "outputs": [
    {
     "data": {
      "text/html": [
       "<div>\n",
       "<style scoped>\n",
       "    .dataframe tbody tr th:only-of-type {\n",
       "        vertical-align: middle;\n",
       "    }\n",
       "\n",
       "    .dataframe tbody tr th {\n",
       "        vertical-align: top;\n",
       "    }\n",
       "\n",
       "    .dataframe thead th {\n",
       "        text-align: right;\n",
       "    }\n",
       "</style>\n",
       "<table border=\"1\" class=\"dataframe\">\n",
       "  <thead>\n",
       "    <tr style=\"text-align: right;\">\n",
       "      <th></th>\n",
       "      <th>Dvmt</th>\n",
       "    </tr>\n",
       "    <tr>\n",
       "      <th>Scenario</th>\n",
       "      <th></th>\n",
       "    </tr>\n",
       "  </thead>\n",
       "  <tbody>\n",
       "    <tr>\n",
       "      <th>base</th>\n",
       "      <td>88,258,999</td>\n",
       "    </tr>\n",
       "    <tr>\n",
       "      <th>scen</th>\n",
       "      <td>88,842,711</td>\n",
       "    </tr>\n",
       "  </tbody>\n",
       "</table>\n",
       "</div>"
      ],
      "text/plain": [
       "               Dvmt\n",
       "Scenario           \n",
       "base     88,258,999\n",
       "scen     88,842,711"
      ]
     },
     "execution_count": 113,
     "metadata": {},
     "output_type": "execute_result"
    }
   ],
   "source": [
    "pd.options.display.float_format = '{:0,.0f}'.format\n",
    "df.groupby('Scenario').sum()[['Dvmt']]"
   ]
  },
  {
   "cell_type": "code",
   "execution_count": 72,
   "metadata": {},
   "outputs": [],
   "source": [
    "tot_list = ['Age0to14', 'Age15to19', 'Age20to29', 'Age30to54', 'Age55to64','Age65Plus', 'AveCO2ePM',\n",
    "            'AveCO2ePM', 'AveGPM', 'AveKWHPM', 'AveRoadUseTaxPM',\n",
    "       'AveSocEnvCostPM', 'AveTrpLenDiverted', 'AveVehCostPM', 'AveVehTripLen',\n",
    "       'DailyCO2e', 'DailyGGE','DailyKWH','Drivers', 'Drv15to19', 'Drv20to29', 'Drv30to54',\n",
    "       'Drv55to64', 'Drv65Plus', 'DrvAgePersons', 'Dvmt', 'FreeParkingSpaces','TransitTrips',\n",
    "       'Vehicles','VehicleTrips','WalkTrips','Workers']\n",
    "# tot_list = ['Dvmt']\n",
    "df_18 = hh_df_base.groupby('Bzone').sum()[tot_list]\n",
    "df_18['Scenario'] = 'base'\n",
    "df_50 = hh_df_scen.groupby('Bzone').sum()[tot_list]\n",
    "df_50['Scenario'] = 'scen'\n",
    "df = df_18.append(df_50)\n",
    "# df = df_18.copy()"
   ]
  },
  {
   "cell_type": "code",
   "execution_count": null,
   "metadata": {},
   "outputs": [],
   "source": []
  },
  {
   "cell_type": "code",
   "execution_count": 73,
   "metadata": {},
   "outputs": [],
   "source": [
    "df['TotalTrips'] = df[['TransitTrips','VehicleTrips','WalkTrips']].sum(axis=1)\n",
    "df['Transit Share'] = df['TransitTrips']/df['TotalTrips']\n",
    "df['Walk Share'] = df['WalkTrips']/df['TotalTrips']\n",
    "df['Auto Share'] = df['VehicleTrips']/df['TotalTrips']"
   ]
  },
  {
   "cell_type": "code",
   "execution_count": 82,
   "metadata": {},
   "outputs": [
    {
     "data": {
      "text/plain": [
       "11414840.363679804"
      ]
     },
     "execution_count": 82,
     "metadata": {},
     "output_type": "execute_result"
    }
   ],
   "source": [
    "hh_df_scen[['VehicleTrips','WalkTrips','TransitTrips']].sum().sum()"
   ]
  },
  {
   "cell_type": "code",
   "execution_count": 83,
   "metadata": {},
   "outputs": [
    {
     "data": {
      "text/html": [
       "<div>\n",
       "<style scoped>\n",
       "    .dataframe tbody tr th:only-of-type {\n",
       "        vertical-align: middle;\n",
       "    }\n",
       "\n",
       "    .dataframe tbody tr th {\n",
       "        vertical-align: top;\n",
       "    }\n",
       "\n",
       "    .dataframe thead th {\n",
       "        text-align: right;\n",
       "    }\n",
       "</style>\n",
       "<table border=\"1\" class=\"dataframe\">\n",
       "  <thead>\n",
       "    <tr style=\"text-align: right;\">\n",
       "      <th></th>\n",
       "      <th>TransitTrips</th>\n",
       "      <th>VehicleTrips</th>\n",
       "      <th>WalkTrips</th>\n",
       "    </tr>\n",
       "    <tr>\n",
       "      <th>Scenario</th>\n",
       "      <th></th>\n",
       "      <th></th>\n",
       "      <th></th>\n",
       "    </tr>\n",
       "  </thead>\n",
       "  <tbody>\n",
       "    <tr>\n",
       "      <th>base</th>\n",
       "      <td>490,509</td>\n",
       "      <td>8,732,424</td>\n",
       "      <td>1,356,755</td>\n",
       "    </tr>\n",
       "    <tr>\n",
       "      <th>scen</th>\n",
       "      <td>356,821</td>\n",
       "      <td>9,730,033</td>\n",
       "      <td>1,327,986</td>\n",
       "    </tr>\n",
       "  </tbody>\n",
       "</table>\n",
       "</div>"
      ],
      "text/plain": [
       "          TransitTrips  VehicleTrips  WalkTrips\n",
       "Scenario                                       \n",
       "base           490,509     8,732,424  1,356,755\n",
       "scen           356,821     9,730,033  1,327,986"
      ]
     },
     "execution_count": 83,
     "metadata": {},
     "output_type": "execute_result"
    }
   ],
   "source": [
    "# Create some summaries based on block group locations within regional geographies\n",
    "pd.options.display.float_format = '{:0,.0f}'.format\n",
    "df.groupby('Scenario').sum()[['TransitTrips','VehicleTrips','WalkTrips']]"
   ]
  },
  {
   "cell_type": "code",
   "execution_count": 89,
   "metadata": {},
   "outputs": [
    {
     "data": {
      "text/plain": [
       "9987537"
      ]
     },
     "execution_count": 89,
     "metadata": {},
     "output_type": "execute_result"
    }
   ],
   "source": [
    "len(daysim_trip[(daysim_trip['mode'].isin([3,4,5]) & (daysim_trip['dorp'] == 1))])"
   ]
  },
  {
   "cell_type": "code",
   "execution_count": 90,
   "metadata": {},
   "outputs": [
    {
     "data": {
      "text/plain": [
       "480781"
      ]
     },
     "execution_count": 90,
     "metadata": {},
     "output_type": "execute_result"
    }
   ],
   "source": [
    "len(daysim_trip[(daysim_trip['mode'].isin([6,7]))])"
   ]
  },
  {
   "cell_type": "code",
   "execution_count": 91,
   "metadata": {},
   "outputs": [
    {
     "data": {
      "text/plain": [
       "2023687"
      ]
     },
     "execution_count": 91,
     "metadata": {},
     "output_type": "execute_result"
    }
   ],
   "source": [
    "len(daysim_trip[(daysim_trip['mode'].isin([1]))])"
   ]
  },
  {
   "cell_type": "code",
   "execution_count": 78,
   "metadata": {},
   "outputs": [
    {
     "data": {
      "text/html": [
       "<div>\n",
       "<style scoped>\n",
       "    .dataframe tbody tr th:only-of-type {\n",
       "        vertical-align: middle;\n",
       "    }\n",
       "\n",
       "    .dataframe tbody tr th {\n",
       "        vertical-align: top;\n",
       "    }\n",
       "\n",
       "    .dataframe thead th {\n",
       "        text-align: right;\n",
       "    }\n",
       "</style>\n",
       "<table border=\"1\" class=\"dataframe\">\n",
       "  <thead>\n",
       "    <tr style=\"text-align: right;\">\n",
       "      <th></th>\n",
       "      <th>DailyCO2e</th>\n",
       "    </tr>\n",
       "    <tr>\n",
       "      <th>Scenario</th>\n",
       "      <th></th>\n",
       "    </tr>\n",
       "  </thead>\n",
       "  <tbody>\n",
       "    <tr>\n",
       "      <th>base</th>\n",
       "      <td>70,804</td>\n",
       "    </tr>\n",
       "    <tr>\n",
       "      <th>scen</th>\n",
       "      <td>82,872</td>\n",
       "    </tr>\n",
       "  </tbody>\n",
       "</table>\n",
       "</div>"
      ],
      "text/plain": [
       "          DailyCO2e\n",
       "Scenario           \n",
       "base         70,804\n",
       "scen         82,872"
      ]
     },
     "execution_count": 78,
     "metadata": {},
     "output_type": "execute_result"
    }
   ],
   "source": [
    "df.groupby('Scenario').sum()[['DailyCO2e']]/454.0"
   ]
  },
  {
   "cell_type": "code",
   "execution_count": 125,
   "metadata": {},
   "outputs": [
    {
     "data": {
      "text/html": [
       "<div>\n",
       "<style scoped>\n",
       "    .dataframe tbody tr th:only-of-type {\n",
       "        vertical-align: middle;\n",
       "    }\n",
       "\n",
       "    .dataframe tbody tr th {\n",
       "        vertical-align: top;\n",
       "    }\n",
       "\n",
       "    .dataframe thead th {\n",
       "        text-align: right;\n",
       "    }\n",
       "</style>\n",
       "<table border=\"1\" class=\"dataframe\">\n",
       "  <thead>\n",
       "    <tr style=\"text-align: right;\">\n",
       "      <th></th>\n",
       "      <th>Age0to14</th>\n",
       "      <th>Age15to19</th>\n",
       "      <th>Age20to29</th>\n",
       "      <th>Age30to54</th>\n",
       "      <th>Age55to64</th>\n",
       "      <th>Age65Plus</th>\n",
       "      <th>AveCO2ePM</th>\n",
       "      <th>AveCO2ePM</th>\n",
       "      <th>AveGPM</th>\n",
       "      <th>AveKWHPM</th>\n",
       "      <th>...</th>\n",
       "      <th>Drv65Plus</th>\n",
       "      <th>DrvAgePersons</th>\n",
       "      <th>Dvmt</th>\n",
       "      <th>FreeParkingSpaces</th>\n",
       "      <th>TransitTrips</th>\n",
       "      <th>Vehicles</th>\n",
       "      <th>VehicleTrips</th>\n",
       "      <th>WalkTrips</th>\n",
       "      <th>Workers</th>\n",
       "      <th>Scenario</th>\n",
       "    </tr>\n",
       "    <tr>\n",
       "      <th>Bzone</th>\n",
       "      <th></th>\n",
       "      <th></th>\n",
       "      <th></th>\n",
       "      <th></th>\n",
       "      <th></th>\n",
       "      <th></th>\n",
       "      <th></th>\n",
       "      <th></th>\n",
       "      <th></th>\n",
       "      <th></th>\n",
       "      <th></th>\n",
       "      <th></th>\n",
       "      <th></th>\n",
       "      <th></th>\n",
       "      <th></th>\n",
       "      <th></th>\n",
       "      <th></th>\n",
       "      <th></th>\n",
       "      <th></th>\n",
       "      <th></th>\n",
       "      <th></th>\n",
       "    </tr>\n",
       "  </thead>\n",
       "  <tbody>\n",
       "    <tr>\n",
       "      <th>530330001011</th>\n",
       "      <td>50</td>\n",
       "      <td>22</td>\n",
       "      <td>39</td>\n",
       "      <td>106</td>\n",
       "      <td>59</td>\n",
       "      <td>41</td>\n",
       "      <td>57</td>\n",
       "      <td>57</td>\n",
       "      <td>5</td>\n",
       "      <td>0</td>\n",
       "      <td>...</td>\n",
       "      <td>40</td>\n",
       "      <td>267</td>\n",
       "      <td>5,545</td>\n",
       "      <td>254</td>\n",
       "      <td>28</td>\n",
       "      <td>268</td>\n",
       "      <td>685</td>\n",
       "      <td>99</td>\n",
       "      <td>170</td>\n",
       "      <td>base</td>\n",
       "    </tr>\n",
       "    <tr>\n",
       "      <th>530330001012</th>\n",
       "      <td>25</td>\n",
       "      <td>12</td>\n",
       "      <td>44</td>\n",
       "      <td>56</td>\n",
       "      <td>26</td>\n",
       "      <td>38</td>\n",
       "      <td>40</td>\n",
       "      <td>40</td>\n",
       "      <td>4</td>\n",
       "      <td>0</td>\n",
       "      <td>...</td>\n",
       "      <td>33</td>\n",
       "      <td>176</td>\n",
       "      <td>2,895</td>\n",
       "      <td>49</td>\n",
       "      <td>25</td>\n",
       "      <td>189</td>\n",
       "      <td>400</td>\n",
       "      <td>69</td>\n",
       "      <td>107</td>\n",
       "      <td>base</td>\n",
       "    </tr>\n",
       "    <tr>\n",
       "      <th>530330001013</th>\n",
       "      <td>27</td>\n",
       "      <td>13</td>\n",
       "      <td>34</td>\n",
       "      <td>57</td>\n",
       "      <td>30</td>\n",
       "      <td>28</td>\n",
       "      <td>33</td>\n",
       "      <td>33</td>\n",
       "      <td>3</td>\n",
       "      <td>0</td>\n",
       "      <td>...</td>\n",
       "      <td>27</td>\n",
       "      <td>162</td>\n",
       "      <td>3,289</td>\n",
       "      <td>162</td>\n",
       "      <td>16</td>\n",
       "      <td>164</td>\n",
       "      <td>375</td>\n",
       "      <td>58</td>\n",
       "      <td>100</td>\n",
       "      <td>base</td>\n",
       "    </tr>\n",
       "    <tr>\n",
       "      <th>530330001021</th>\n",
       "      <td>348</td>\n",
       "      <td>130</td>\n",
       "      <td>236</td>\n",
       "      <td>727</td>\n",
       "      <td>312</td>\n",
       "      <td>277</td>\n",
       "      <td>317</td>\n",
       "      <td>317</td>\n",
       "      <td>29</td>\n",
       "      <td>0</td>\n",
       "      <td>...</td>\n",
       "      <td>248</td>\n",
       "      <td>1,682</td>\n",
       "      <td>47,939</td>\n",
       "      <td>1524</td>\n",
       "      <td>164</td>\n",
       "      <td>1,716</td>\n",
       "      <td>5,227</td>\n",
       "      <td>680</td>\n",
       "      <td>1,179</td>\n",
       "      <td>base</td>\n",
       "    </tr>\n",
       "    <tr>\n",
       "      <th>530330001022</th>\n",
       "      <td>211</td>\n",
       "      <td>73</td>\n",
       "      <td>170</td>\n",
       "      <td>384</td>\n",
       "      <td>181</td>\n",
       "      <td>173</td>\n",
       "      <td>197</td>\n",
       "      <td>197</td>\n",
       "      <td>18</td>\n",
       "      <td>0</td>\n",
       "      <td>...</td>\n",
       "      <td>161</td>\n",
       "      <td>981</td>\n",
       "      <td>21,881</td>\n",
       "      <td>960</td>\n",
       "      <td>112</td>\n",
       "      <td>1,000</td>\n",
       "      <td>2,594</td>\n",
       "      <td>382</td>\n",
       "      <td>631</td>\n",
       "      <td>base</td>\n",
       "    </tr>\n",
       "    <tr>\n",
       "      <th>...</th>\n",
       "      <td>...</td>\n",
       "      <td>...</td>\n",
       "      <td>...</td>\n",
       "      <td>...</td>\n",
       "      <td>...</td>\n",
       "      <td>...</td>\n",
       "      <td>...</td>\n",
       "      <td>...</td>\n",
       "      <td>...</td>\n",
       "      <td>...</td>\n",
       "      <td>...</td>\n",
       "      <td>...</td>\n",
       "      <td>...</td>\n",
       "      <td>...</td>\n",
       "      <td>...</td>\n",
       "      <td>...</td>\n",
       "      <td>...</td>\n",
       "      <td>...</td>\n",
       "      <td>...</td>\n",
       "      <td>...</td>\n",
       "      <td>...</td>\n",
       "    </tr>\n",
       "    <tr>\n",
       "      <th>530619400015</th>\n",
       "      <td>161</td>\n",
       "      <td>74</td>\n",
       "      <td>123</td>\n",
       "      <td>338</td>\n",
       "      <td>174</td>\n",
       "      <td>123</td>\n",
       "      <td>170</td>\n",
       "      <td>170</td>\n",
       "      <td>15</td>\n",
       "      <td>0</td>\n",
       "      <td>...</td>\n",
       "      <td>120</td>\n",
       "      <td>832</td>\n",
       "      <td>24,565</td>\n",
       "      <td>770</td>\n",
       "      <td>66</td>\n",
       "      <td>899</td>\n",
       "      <td>1,899</td>\n",
       "      <td>300</td>\n",
       "      <td>558</td>\n",
       "      <td>base</td>\n",
       "    </tr>\n",
       "    <tr>\n",
       "      <th>530619400021</th>\n",
       "      <td>202</td>\n",
       "      <td>73</td>\n",
       "      <td>167</td>\n",
       "      <td>357</td>\n",
       "      <td>180</td>\n",
       "      <td>179</td>\n",
       "      <td>201</td>\n",
       "      <td>201</td>\n",
       "      <td>18</td>\n",
       "      <td>0</td>\n",
       "      <td>...</td>\n",
       "      <td>170</td>\n",
       "      <td>956</td>\n",
       "      <td>24,742</td>\n",
       "      <td>924</td>\n",
       "      <td>93</td>\n",
       "      <td>986</td>\n",
       "      <td>2,410</td>\n",
       "      <td>356</td>\n",
       "      <td>615</td>\n",
       "      <td>base</td>\n",
       "    </tr>\n",
       "    <tr>\n",
       "      <th>530619400022</th>\n",
       "      <td>118</td>\n",
       "      <td>52</td>\n",
       "      <td>106</td>\n",
       "      <td>295</td>\n",
       "      <td>138</td>\n",
       "      <td>118</td>\n",
       "      <td>157</td>\n",
       "      <td>157</td>\n",
       "      <td>14</td>\n",
       "      <td>0</td>\n",
       "      <td>...</td>\n",
       "      <td>113</td>\n",
       "      <td>709</td>\n",
       "      <td>21,009</td>\n",
       "      <td>700</td>\n",
       "      <td>57</td>\n",
       "      <td>783</td>\n",
       "      <td>1,638</td>\n",
       "      <td>260</td>\n",
       "      <td>487</td>\n",
       "      <td>base</td>\n",
       "    </tr>\n",
       "    <tr>\n",
       "      <th>530619400023</th>\n",
       "      <td>686</td>\n",
       "      <td>258</td>\n",
       "      <td>498</td>\n",
       "      <td>1,407</td>\n",
       "      <td>616</td>\n",
       "      <td>615</td>\n",
       "      <td>698</td>\n",
       "      <td>698</td>\n",
       "      <td>64</td>\n",
       "      <td>0</td>\n",
       "      <td>...</td>\n",
       "      <td>586</td>\n",
       "      <td>3,394</td>\n",
       "      <td>97,751</td>\n",
       "      <td>3228</td>\n",
       "      <td>284</td>\n",
       "      <td>3,554</td>\n",
       "      <td>8,763</td>\n",
       "      <td>1,258</td>\n",
       "      <td>2,243</td>\n",
       "      <td>base</td>\n",
       "    </tr>\n",
       "    <tr>\n",
       "      <th>530619900020</th>\n",
       "      <td>55</td>\n",
       "      <td>14</td>\n",
       "      <td>20</td>\n",
       "      <td>85</td>\n",
       "      <td>41</td>\n",
       "      <td>26</td>\n",
       "      <td>31</td>\n",
       "      <td>31</td>\n",
       "      <td>3</td>\n",
       "      <td>0</td>\n",
       "      <td>...</td>\n",
       "      <td>0</td>\n",
       "      <td>186</td>\n",
       "      <td>779</td>\n",
       "      <td>188</td>\n",
       "      <td>104</td>\n",
       "      <td>186</td>\n",
       "      <td>248</td>\n",
       "      <td>115</td>\n",
       "      <td>127</td>\n",
       "      <td>base</td>\n",
       "    </tr>\n",
       "  </tbody>\n",
       "</table>\n",
       "<p>2867 rows × 33 columns</p>\n",
       "</div>"
      ],
      "text/plain": [
       "              Age0to14  Age15to19  Age20to29  Age30to54  Age55to64  Age65Plus  \\\n",
       "Bzone                                                                           \n",
       "530330001011        50         22         39        106         59         41   \n",
       "530330001012        25         12         44         56         26         38   \n",
       "530330001013        27         13         34         57         30         28   \n",
       "530330001021       348        130        236        727        312        277   \n",
       "530330001022       211         73        170        384        181        173   \n",
       "...                ...        ...        ...        ...        ...        ...   \n",
       "530619400015       161         74        123        338        174        123   \n",
       "530619400021       202         73        167        357        180        179   \n",
       "530619400022       118         52        106        295        138        118   \n",
       "530619400023       686        258        498      1,407        616        615   \n",
       "530619900020        55         14         20         85         41         26   \n",
       "\n",
       "              AveCO2ePM  AveCO2ePM  AveGPM  AveKWHPM  ...  Drv65Plus  \\\n",
       "Bzone                                                 ...              \n",
       "530330001011         57         57       5         0  ...         40   \n",
       "530330001012         40         40       4         0  ...         33   \n",
       "530330001013         33         33       3         0  ...         27   \n",
       "530330001021        317        317      29         0  ...        248   \n",
       "530330001022        197        197      18         0  ...        161   \n",
       "...                 ...        ...     ...       ...  ...        ...   \n",
       "530619400015        170        170      15         0  ...        120   \n",
       "530619400021        201        201      18         0  ...        170   \n",
       "530619400022        157        157      14         0  ...        113   \n",
       "530619400023        698        698      64         0  ...        586   \n",
       "530619900020         31         31       3         0  ...          0   \n",
       "\n",
       "              DrvAgePersons   Dvmt  FreeParkingSpaces  TransitTrips  Vehicles  \\\n",
       "Bzone                                                                           \n",
       "530330001011            267  5,545                254            28       268   \n",
       "530330001012            176  2,895                 49            25       189   \n",
       "530330001013            162  3,289                162            16       164   \n",
       "530330001021          1,682 47,939               1524           164     1,716   \n",
       "530330001022            981 21,881                960           112     1,000   \n",
       "...                     ...    ...                ...           ...       ...   \n",
       "530619400015            832 24,565                770            66       899   \n",
       "530619400021            956 24,742                924            93       986   \n",
       "530619400022            709 21,009                700            57       783   \n",
       "530619400023          3,394 97,751               3228           284     3,554   \n",
       "530619900020            186    779                188           104       186   \n",
       "\n",
       "              VehicleTrips  WalkTrips  Workers  Scenario  \n",
       "Bzone                                                     \n",
       "530330001011           685         99      170      base  \n",
       "530330001012           400         69      107      base  \n",
       "530330001013           375         58      100      base  \n",
       "530330001021         5,227        680    1,179      base  \n",
       "530330001022         2,594        382      631      base  \n",
       "...                    ...        ...      ...       ...  \n",
       "530619400015         1,899        300      558      base  \n",
       "530619400021         2,410        356      615      base  \n",
       "530619400022         1,638        260      487      base  \n",
       "530619400023         8,763      1,258    2,243      base  \n",
       "530619900020           248        115      127      base  \n",
       "\n",
       "[2867 rows x 33 columns]"
      ]
     },
     "execution_count": 125,
     "metadata": {},
     "output_type": "execute_result"
    }
   ],
   "source": [
    "df_18"
   ]
  },
  {
   "cell_type": "code",
   "execution_count": 120,
   "metadata": {},
   "outputs": [
    {
     "data": {
      "text/plain": [
       "8106306.0"
      ]
     },
     "execution_count": 120,
     "metadata": {},
     "output_type": "execute_result"
    }
   ],
   "source": [
    "df[['Age0to14','Age15to19','Age20to29','Age30to54',\t'Age55to64','Age65Plus']].sum().sum()\n",
    "\n"
   ]
  },
  {
   "cell_type": "markdown",
   "metadata": {},
   "source": [
    "# Bzone detail"
   ]
  },
  {
   "cell_type": "code",
   "execution_count": 89,
   "metadata": {},
   "outputs": [],
   "source": [
    "# Locations with more MF housing\n",
    "bzone_set_1 = [530330075023,530330075031,530330075032,530330076001,530330076002,530330076003]\n",
    "bzone_set_1 = [str(i) for i in bzone_set_1]\n",
    "_df = df[df.index.isin(bzone_set_1)]\n",
    "# _df\n",
    "_df.groupby('Scenario').sum()[['Dvmt','DailyCO2e','TransitTrips','VehicleTrips','WalkTrips']].to_clipboard()\n",
    "# Locations with less SF housing\n",
    "# bzone_set_2 = [530530703121,530530703122,530530703123,530530703124,530530703131,530530703132,\n",
    "#                 530530703133,530530703074,530530703081,530530703082,530530703083,530530703091]\n",
    "# bzone_set_1 = [str(i) for i in bzone_set_1]"
   ]
  },
  {
   "cell_type": "code",
   "execution_count": 90,
   "metadata": {},
   "outputs": [],
   "source": [
    "# Locations with more MF housing\n",
    "bzone_set_2 = [530530703121,530530703122,530530703123,530530703124,530530703131,530530703132,\n",
    "                530530703133,530530703074,530530703081,530530703082,530530703083,530530703091]\n",
    "bzone_set_2 = [str(i) for i in bzone_set_2]\n",
    "_df = df[df.index.isin(bzone_set_2)]\n",
    "# _df\n",
    "_df.groupby('Scenario').sum()[['Dvmt','DailyCO2e','TransitTrips','VehicleTrips','WalkTrips']].to_clipboard()\n",
    "# Locations with less SF housing\n"
   ]
  },
  {
   "cell_type": "code",
   "execution_count": 92,
   "metadata": {},
   "outputs": [],
   "source": [
    "# all affected areas\n",
    "bzone_set_3 = [530530703121,530530703122,530530703123,530530703124,530530703131,530530703132,\n",
    "                530530703133,530530703074,530530703081,530530703082,530530703083,530530703091,\n",
    "                530330075023,530330075031,530330075032,530330076001,530330076002,530330076003]\n",
    "bzone_set_3 = [str(i) for i in bzone_set_3]\n",
    "_df = df[df.index.isin(bzone_set_3)]\n",
    "# _df\n",
    "_df.groupby('Scenario').sum()[['Dvmt','DailyCO2e','TransitTrips','VehicleTrips','WalkTrips']].to_clipboard()\n",
    "# Locations with less SF housing\n"
   ]
  },
  {
   "cell_type": "code",
   "execution_count": null,
   "metadata": {},
   "outputs": [],
   "source": []
  },
  {
   "cell_type": "code",
   "execution_count": 83,
   "metadata": {},
   "outputs": [
    {
     "data": {
      "text/html": [
       "<div>\n",
       "<style scoped>\n",
       "    .dataframe tbody tr th:only-of-type {\n",
       "        vertical-align: middle;\n",
       "    }\n",
       "\n",
       "    .dataframe tbody tr th {\n",
       "        vertical-align: top;\n",
       "    }\n",
       "\n",
       "    .dataframe thead th {\n",
       "        text-align: right;\n",
       "    }\n",
       "</style>\n",
       "<table border=\"1\" class=\"dataframe\">\n",
       "  <thead>\n",
       "    <tr style=\"text-align: right;\">\n",
       "      <th></th>\n",
       "      <th>Age0to14</th>\n",
       "      <th>Age15to19</th>\n",
       "      <th>Age20to29</th>\n",
       "      <th>Age30to54</th>\n",
       "      <th>Age55to64</th>\n",
       "      <th>Age65Plus</th>\n",
       "      <th>AveCO2ePM</th>\n",
       "      <th>AveCO2ePM</th>\n",
       "      <th>AveGPM</th>\n",
       "      <th>AveKWHPM</th>\n",
       "      <th>...</th>\n",
       "      <th>TransitTrips</th>\n",
       "      <th>Vehicles</th>\n",
       "      <th>VehicleTrips</th>\n",
       "      <th>WalkTrips</th>\n",
       "      <th>Workers</th>\n",
       "      <th>Scenario</th>\n",
       "      <th>TotalTrips</th>\n",
       "      <th>Transit Share</th>\n",
       "      <th>Walk Share</th>\n",
       "      <th>Auto Share</th>\n",
       "    </tr>\n",
       "    <tr>\n",
       "      <th>Bzone</th>\n",
       "      <th></th>\n",
       "      <th></th>\n",
       "      <th></th>\n",
       "      <th></th>\n",
       "      <th></th>\n",
       "      <th></th>\n",
       "      <th></th>\n",
       "      <th></th>\n",
       "      <th></th>\n",
       "      <th></th>\n",
       "      <th></th>\n",
       "      <th></th>\n",
       "      <th></th>\n",
       "      <th></th>\n",
       "      <th></th>\n",
       "      <th></th>\n",
       "      <th></th>\n",
       "      <th></th>\n",
       "      <th></th>\n",
       "      <th></th>\n",
       "      <th></th>\n",
       "    </tr>\n",
       "  </thead>\n",
       "  <tbody>\n",
       "    <tr>\n",
       "      <th>530330001011</th>\n",
       "      <td>54</td>\n",
       "      <td>18</td>\n",
       "      <td>71</td>\n",
       "      <td>99</td>\n",
       "      <td>45</td>\n",
       "      <td>45</td>\n",
       "      <td>62</td>\n",
       "      <td>62</td>\n",
       "      <td>6</td>\n",
       "      <td>0</td>\n",
       "      <td>...</td>\n",
       "      <td>34</td>\n",
       "      <td>283</td>\n",
       "      <td>654</td>\n",
       "      <td>110</td>\n",
       "      <td>181</td>\n",
       "      <td>base</td>\n",
       "      <td>799</td>\n",
       "      <td>0</td>\n",
       "      <td>0</td>\n",
       "      <td>1</td>\n",
       "    </tr>\n",
       "    <tr>\n",
       "      <th>530330001012</th>\n",
       "      <td>44</td>\n",
       "      <td>9</td>\n",
       "      <td>54</td>\n",
       "      <td>70</td>\n",
       "      <td>18</td>\n",
       "      <td>22</td>\n",
       "      <td>42</td>\n",
       "      <td>42</td>\n",
       "      <td>4</td>\n",
       "      <td>0</td>\n",
       "      <td>...</td>\n",
       "      <td>32</td>\n",
       "      <td>189</td>\n",
       "      <td>412</td>\n",
       "      <td>71</td>\n",
       "      <td>125</td>\n",
       "      <td>base</td>\n",
       "      <td>515</td>\n",
       "      <td>0</td>\n",
       "      <td>0</td>\n",
       "      <td>1</td>\n",
       "    </tr>\n",
       "    <tr>\n",
       "      <th>530330001013</th>\n",
       "      <td>38</td>\n",
       "      <td>9</td>\n",
       "      <td>29</td>\n",
       "      <td>60</td>\n",
       "      <td>25</td>\n",
       "      <td>37</td>\n",
       "      <td>38</td>\n",
       "      <td>38</td>\n",
       "      <td>4</td>\n",
       "      <td>0</td>\n",
       "      <td>...</td>\n",
       "      <td>19</td>\n",
       "      <td>163</td>\n",
       "      <td>378</td>\n",
       "      <td>59</td>\n",
       "      <td>90</td>\n",
       "      <td>base</td>\n",
       "      <td>456</td>\n",
       "      <td>0</td>\n",
       "      <td>0</td>\n",
       "      <td>1</td>\n",
       "    </tr>\n",
       "    <tr>\n",
       "      <th>530330001021</th>\n",
       "      <td>379</td>\n",
       "      <td>137</td>\n",
       "      <td>225</td>\n",
       "      <td>767</td>\n",
       "      <td>261</td>\n",
       "      <td>259</td>\n",
       "      <td>351</td>\n",
       "      <td>351</td>\n",
       "      <td>32</td>\n",
       "      <td>0</td>\n",
       "      <td>...</td>\n",
       "      <td>159</td>\n",
       "      <td>1,715</td>\n",
       "      <td>5,400</td>\n",
       "      <td>659</td>\n",
       "      <td>1,183</td>\n",
       "      <td>base</td>\n",
       "      <td>6,219</td>\n",
       "      <td>0</td>\n",
       "      <td>0</td>\n",
       "      <td>1</td>\n",
       "    </tr>\n",
       "    <tr>\n",
       "      <th>530330001022</th>\n",
       "      <td>224</td>\n",
       "      <td>72</td>\n",
       "      <td>136</td>\n",
       "      <td>394</td>\n",
       "      <td>178</td>\n",
       "      <td>196</td>\n",
       "      <td>217</td>\n",
       "      <td>217</td>\n",
       "      <td>20</td>\n",
       "      <td>0</td>\n",
       "      <td>...</td>\n",
       "      <td>118</td>\n",
       "      <td>993</td>\n",
       "      <td>2,580</td>\n",
       "      <td>376</td>\n",
       "      <td>619</td>\n",
       "      <td>base</td>\n",
       "      <td>3,073</td>\n",
       "      <td>0</td>\n",
       "      <td>0</td>\n",
       "      <td>1</td>\n",
       "    </tr>\n",
       "    <tr>\n",
       "      <th>...</th>\n",
       "      <td>...</td>\n",
       "      <td>...</td>\n",
       "      <td>...</td>\n",
       "      <td>...</td>\n",
       "      <td>...</td>\n",
       "      <td>...</td>\n",
       "      <td>...</td>\n",
       "      <td>...</td>\n",
       "      <td>...</td>\n",
       "      <td>...</td>\n",
       "      <td>...</td>\n",
       "      <td>...</td>\n",
       "      <td>...</td>\n",
       "      <td>...</td>\n",
       "      <td>...</td>\n",
       "      <td>...</td>\n",
       "      <td>...</td>\n",
       "      <td>...</td>\n",
       "      <td>...</td>\n",
       "      <td>...</td>\n",
       "      <td>...</td>\n",
       "    </tr>\n",
       "    <tr>\n",
       "      <th>530619400015</th>\n",
       "      <td>216</td>\n",
       "      <td>52</td>\n",
       "      <td>95</td>\n",
       "      <td>346</td>\n",
       "      <td>134</td>\n",
       "      <td>181</td>\n",
       "      <td>189</td>\n",
       "      <td>189</td>\n",
       "      <td>17</td>\n",
       "      <td>0</td>\n",
       "      <td>...</td>\n",
       "      <td>66</td>\n",
       "      <td>869</td>\n",
       "      <td>1,975</td>\n",
       "      <td>289</td>\n",
       "      <td>510</td>\n",
       "      <td>scen</td>\n",
       "      <td>2,331</td>\n",
       "      <td>0</td>\n",
       "      <td>0</td>\n",
       "      <td>1</td>\n",
       "    </tr>\n",
       "    <tr>\n",
       "      <th>530619400021</th>\n",
       "      <td>177</td>\n",
       "      <td>66</td>\n",
       "      <td>109</td>\n",
       "      <td>380</td>\n",
       "      <td>179</td>\n",
       "      <td>200</td>\n",
       "      <td>221</td>\n",
       "      <td>221</td>\n",
       "      <td>20</td>\n",
       "      <td>0</td>\n",
       "      <td>...</td>\n",
       "      <td>78</td>\n",
       "      <td>972</td>\n",
       "      <td>2,535</td>\n",
       "      <td>335</td>\n",
       "      <td>589</td>\n",
       "      <td>scen</td>\n",
       "      <td>2,948</td>\n",
       "      <td>0</td>\n",
       "      <td>0</td>\n",
       "      <td>1</td>\n",
       "    </tr>\n",
       "    <tr>\n",
       "      <th>530619400022</th>\n",
       "      <td>134</td>\n",
       "      <td>68</td>\n",
       "      <td>102</td>\n",
       "      <td>305</td>\n",
       "      <td>143</td>\n",
       "      <td>130</td>\n",
       "      <td>171</td>\n",
       "      <td>171</td>\n",
       "      <td>16</td>\n",
       "      <td>0</td>\n",
       "      <td>...</td>\n",
       "      <td>54</td>\n",
       "      <td>826</td>\n",
       "      <td>1,763</td>\n",
       "      <td>266</td>\n",
       "      <td>494</td>\n",
       "      <td>scen</td>\n",
       "      <td>2,083</td>\n",
       "      <td>0</td>\n",
       "      <td>0</td>\n",
       "      <td>1</td>\n",
       "    </tr>\n",
       "    <tr>\n",
       "      <th>530619400023</th>\n",
       "      <td>692</td>\n",
       "      <td>254</td>\n",
       "      <td>444</td>\n",
       "      <td>1,423</td>\n",
       "      <td>609</td>\n",
       "      <td>678</td>\n",
       "      <td>771</td>\n",
       "      <td>771</td>\n",
       "      <td>70</td>\n",
       "      <td>0</td>\n",
       "      <td>...</td>\n",
       "      <td>277</td>\n",
       "      <td>3,606</td>\n",
       "      <td>9,200</td>\n",
       "      <td>1,243</td>\n",
       "      <td>2,236</td>\n",
       "      <td>scen</td>\n",
       "      <td>10,720</td>\n",
       "      <td>0</td>\n",
       "      <td>0</td>\n",
       "      <td>1</td>\n",
       "    </tr>\n",
       "    <tr>\n",
       "      <th>530619900020</th>\n",
       "      <td>54</td>\n",
       "      <td>22</td>\n",
       "      <td>19</td>\n",
       "      <td>95</td>\n",
       "      <td>22</td>\n",
       "      <td>35</td>\n",
       "      <td>34</td>\n",
       "      <td>34</td>\n",
       "      <td>3</td>\n",
       "      <td>0</td>\n",
       "      <td>...</td>\n",
       "      <td>130</td>\n",
       "      <td>193</td>\n",
       "      <td>219</td>\n",
       "      <td>130</td>\n",
       "      <td>134</td>\n",
       "      <td>scen</td>\n",
       "      <td>479</td>\n",
       "      <td>0</td>\n",
       "      <td>0</td>\n",
       "      <td>0</td>\n",
       "    </tr>\n",
       "  </tbody>\n",
       "</table>\n",
       "<p>5727 rows × 37 columns</p>\n",
       "</div>"
      ],
      "text/plain": [
       "              Age0to14  Age15to19  Age20to29  Age30to54  Age55to64  Age65Plus  \\\n",
       "Bzone                                                                           \n",
       "530330001011        54         18         71         99         45         45   \n",
       "530330001012        44          9         54         70         18         22   \n",
       "530330001013        38          9         29         60         25         37   \n",
       "530330001021       379        137        225        767        261        259   \n",
       "530330001022       224         72        136        394        178        196   \n",
       "...                ...        ...        ...        ...        ...        ...   \n",
       "530619400015       216         52         95        346        134        181   \n",
       "530619400021       177         66        109        380        179        200   \n",
       "530619400022       134         68        102        305        143        130   \n",
       "530619400023       692        254        444      1,423        609        678   \n",
       "530619900020        54         22         19         95         22         35   \n",
       "\n",
       "              AveCO2ePM  AveCO2ePM  AveGPM  AveKWHPM  ...  TransitTrips  \\\n",
       "Bzone                                                 ...                 \n",
       "530330001011         62         62       6         0  ...            34   \n",
       "530330001012         42         42       4         0  ...            32   \n",
       "530330001013         38         38       4         0  ...            19   \n",
       "530330001021        351        351      32         0  ...           159   \n",
       "530330001022        217        217      20         0  ...           118   \n",
       "...                 ...        ...     ...       ...  ...           ...   \n",
       "530619400015        189        189      17         0  ...            66   \n",
       "530619400021        221        221      20         0  ...            78   \n",
       "530619400022        171        171      16         0  ...            54   \n",
       "530619400023        771        771      70         0  ...           277   \n",
       "530619900020         34         34       3         0  ...           130   \n",
       "\n",
       "              Vehicles  VehicleTrips  WalkTrips  Workers  Scenario  \\\n",
       "Bzone                                                                \n",
       "530330001011       283           654        110      181      base   \n",
       "530330001012       189           412         71      125      base   \n",
       "530330001013       163           378         59       90      base   \n",
       "530330001021     1,715         5,400        659    1,183      base   \n",
       "530330001022       993         2,580        376      619      base   \n",
       "...                ...           ...        ...      ...       ...   \n",
       "530619400015       869         1,975        289      510      scen   \n",
       "530619400021       972         2,535        335      589      scen   \n",
       "530619400022       826         1,763        266      494      scen   \n",
       "530619400023     3,606         9,200      1,243    2,236      scen   \n",
       "530619900020       193           219        130      134      scen   \n",
       "\n",
       "              TotalTrips  Transit Share  Walk Share  Auto Share  \n",
       "Bzone                                                            \n",
       "530330001011         799              0           0           1  \n",
       "530330001012         515              0           0           1  \n",
       "530330001013         456              0           0           1  \n",
       "530330001021       6,219              0           0           1  \n",
       "530330001022       3,073              0           0           1  \n",
       "...                  ...            ...         ...         ...  \n",
       "530619400015       2,331              0           0           1  \n",
       "530619400021       2,948              0           0           1  \n",
       "530619400022       2,083              0           0           1  \n",
       "530619400023      10,720              0           0           1  \n",
       "530619900020         479              0           0           0  \n",
       "\n",
       "[5727 rows x 37 columns]"
      ]
     },
     "execution_count": 83,
     "metadata": {},
     "output_type": "execute_result"
    }
   ],
   "source": [
    "df"
   ]
  },
  {
   "cell_type": "markdown",
   "metadata": {},
   "source": [
    "# Marea"
   ]
  },
  {
   "cell_type": "code",
   "execution_count": 157,
   "metadata": {},
   "outputs": [],
   "source": [
    "output_dir = r'C:\\Workspace\\VisionEval\\models\\VERSPM_TDR_scen1\\Datastore'\n",
    "year = '2018'\n",
    "def export_Marea(output_dir, year, scenario_name):\n",
    "\n",
    "    df = pd.DataFrame()\n",
    "    df_path = os.path.join(output_dir, year, 'Marea')\n",
    "    for fname in os.listdir(df_path):\n",
    "        # print(fname)\n",
    "        result = pyreadr.read_r(os.path.join(df_path, fname))\n",
    "        df[fname.split('.')[0]] = result['Dataset']['Dataset']\n",
    "    df['Scenario'] = scenario_name\n",
    "    return df"
   ]
  },
  {
   "cell_type": "code",
   "execution_count": 158,
   "metadata": {},
   "outputs": [],
   "source": [
    "df = export_Marea(output_dir, year='2018', scenario_name='base').T"
   ]
  },
  {
   "cell_type": "code",
   "execution_count": 156,
   "metadata": {},
   "outputs": [
    {
     "data": {
      "text/html": [
       "<div>\n",
       "<style scoped>\n",
       "    .dataframe tbody tr th:only-of-type {\n",
       "        vertical-align: middle;\n",
       "    }\n",
       "\n",
       "    .dataframe tbody tr th {\n",
       "        vertical-align: top;\n",
       "    }\n",
       "\n",
       "    .dataframe thead th {\n",
       "        text-align: right;\n",
       "    }\n",
       "</style>\n",
       "<table border=\"1\" class=\"dataframe\">\n",
       "  <thead>\n",
       "    <tr style=\"text-align: right;\">\n",
       "      <th></th>\n",
       "      <th>0</th>\n",
       "    </tr>\n",
       "  </thead>\n",
       "  <tbody>\n",
       "    <tr>\n",
       "      <th>AccessMgtDeployProp</th>\n",
       "      <td>0</td>\n",
       "    </tr>\n",
       "    <tr>\n",
       "      <th>ArtDvmtPropExtCong</th>\n",
       "      <td>0</td>\n",
       "    </tr>\n",
       "    <tr>\n",
       "      <th>ArtDvmtPropHvyCong</th>\n",
       "      <td>0</td>\n",
       "    </tr>\n",
       "    <tr>\n",
       "      <th>ArtDvmtPropModCong</th>\n",
       "      <td>0</td>\n",
       "    </tr>\n",
       "    <tr>\n",
       "      <th>ArtDvmtPropNoneCong</th>\n",
       "      <td>1</td>\n",
       "    </tr>\n",
       "    <tr>\n",
       "      <th>...</th>\n",
       "      <td>...</td>\n",
       "    </tr>\n",
       "    <tr>\n",
       "      <th>VanPropGasoline</th>\n",
       "      <td>1</td>\n",
       "    </tr>\n",
       "    <tr>\n",
       "      <th>VanPropHev</th>\n",
       "      <td>0</td>\n",
       "    </tr>\n",
       "    <tr>\n",
       "      <th>VanPropIcev</th>\n",
       "      <td>1</td>\n",
       "    </tr>\n",
       "    <tr>\n",
       "      <th>VPRevMi</th>\n",
       "      <td>0</td>\n",
       "    </tr>\n",
       "    <tr>\n",
       "      <th>Scenario</th>\n",
       "      <td>base</td>\n",
       "    </tr>\n",
       "  </tbody>\n",
       "</table>\n",
       "<p>149 rows × 1 columns</p>\n",
       "</div>"
      ],
      "text/plain": [
       "                        0\n",
       "AccessMgtDeployProp     0\n",
       "ArtDvmtPropExtCong      0\n",
       "ArtDvmtPropHvyCong      0\n",
       "ArtDvmtPropModCong      0\n",
       "ArtDvmtPropNoneCong     1\n",
       "...                   ...\n",
       "VanPropGasoline         1\n",
       "VanPropHev              0\n",
       "VanPropIcev             1\n",
       "VPRevMi                 0\n",
       "Scenario             base\n",
       "\n",
       "[149 rows x 1 columns]"
      ]
     },
     "execution_count": 156,
     "metadata": {},
     "output_type": "execute_result"
    }
   ],
   "source": [
    "df"
   ]
  },
  {
   "cell_type": "code",
   "execution_count": 105,
   "metadata": {},
   "outputs": [
    {
     "data": {
      "text/plain": [
       "0   0\n",
       "Name: TranRevMiPC, dtype: object"
      ]
     },
     "execution_count": 105,
     "metadata": {},
     "output_type": "execute_result"
    }
   ],
   "source": [
    "df = export_households('C:\\Workspace\\VisionEval\\models\\VERSPM_TDR_scen1\\Datastore', year='2018', scenario_name='base').T\n",
    "df.loc['TranRevMiPC']"
   ]
  },
  {
   "cell_type": "code",
   "execution_count": 107,
   "metadata": {},
   "outputs": [
    {
     "data": {
      "text/plain": [
       "0   4,053,204\n",
       "Name: UrbanPop, dtype: object"
      ]
     },
     "execution_count": 107,
     "metadata": {},
     "output_type": "execute_result"
    }
   ],
   "source": [
    "df.loc['UrbanPop']"
   ]
  },
  {
   "cell_type": "code",
   "execution_count": 111,
   "metadata": {},
   "outputs": [],
   "source": [
    "output_dir = r'C:\\Workspace\\VisionEval\\models\\VERSPM_TDR_scen1\\Datastore'\n",
    "year = '2018'\n",
    "hh_scen_18 = export_households(output_dir, year='2018', scenario_name='2018')\n"
   ]
  },
  {
   "cell_type": "code",
   "execution_count": 112,
   "metadata": {},
   "outputs": [
    {
     "data": {
      "text/html": [
       "<div>\n",
       "<style scoped>\n",
       "    .dataframe tbody tr th:only-of-type {\n",
       "        vertical-align: middle;\n",
       "    }\n",
       "\n",
       "    .dataframe tbody tr th {\n",
       "        vertical-align: top;\n",
       "    }\n",
       "\n",
       "    .dataframe thead th {\n",
       "        text-align: right;\n",
       "    }\n",
       "</style>\n",
       "<table border=\"1\" class=\"dataframe\">\n",
       "  <thead>\n",
       "    <tr style=\"text-align: right;\">\n",
       "      <th></th>\n",
       "      <th>Dvmt</th>\n",
       "    </tr>\n",
       "    <tr>\n",
       "      <th>Scenario</th>\n",
       "      <th></th>\n",
       "    </tr>\n",
       "  </thead>\n",
       "  <tbody>\n",
       "    <tr>\n",
       "      <th>2018</th>\n",
       "      <td>120,910,489</td>\n",
       "    </tr>\n",
       "  </tbody>\n",
       "</table>\n",
       "</div>"
      ],
      "text/plain": [
       "                Dvmt\n",
       "Scenario            \n",
       "2018     120,910,489"
      ]
     },
     "execution_count": 112,
     "metadata": {},
     "output_type": "execute_result"
    }
   ],
   "source": [
    "\n",
    "pd.options.display.float_format = '{:0,.0f}'.format\n",
    "hh_scen_18.groupby('Scenario').sum()[['Dvmt']]"
   ]
  },
  {
   "cell_type": "code",
   "execution_count": 113,
   "metadata": {},
   "outputs": [],
   "source": [
    "df = hh_scen_18.copy()\n",
    "df['TotalTrips'] = df[['TransitTrips','VehicleTrips','WalkTrips']].sum(axis=1)\n",
    "df['Transit Share'] = df['TransitTrips']/df['TotalTrips']\n",
    "df['Walk Share'] = df['WalkTrips']/df['TotalTrips']\n",
    "df['Auto Share'] = df['VehicleTrips']/df['TotalTrips']"
   ]
  },
  {
   "cell_type": "code",
   "execution_count": 114,
   "metadata": {},
   "outputs": [
    {
     "data": {
      "text/html": [
       "<div>\n",
       "<style scoped>\n",
       "    .dataframe tbody tr th:only-of-type {\n",
       "        vertical-align: middle;\n",
       "    }\n",
       "\n",
       "    .dataframe tbody tr th {\n",
       "        vertical-align: top;\n",
       "    }\n",
       "\n",
       "    .dataframe thead th {\n",
       "        text-align: right;\n",
       "    }\n",
       "</style>\n",
       "<table border=\"1\" class=\"dataframe\">\n",
       "  <thead>\n",
       "    <tr style=\"text-align: right;\">\n",
       "      <th></th>\n",
       "      <th>Walk Share</th>\n",
       "      <th>Transit Share</th>\n",
       "      <th>Auto Share</th>\n",
       "    </tr>\n",
       "    <tr>\n",
       "      <th>Scenario</th>\n",
       "      <th></th>\n",
       "      <th></th>\n",
       "      <th></th>\n",
       "    </tr>\n",
       "  </thead>\n",
       "  <tbody>\n",
       "    <tr>\n",
       "      <th>2018</th>\n",
       "      <td>10.8%</td>\n",
       "      <td>1.5%</td>\n",
       "      <td>87.7%</td>\n",
       "    </tr>\n",
       "  </tbody>\n",
       "</table>\n",
       "</div>"
      ],
      "text/plain": [
       "          Walk Share  Transit Share  Auto Share\n",
       "Scenario                                       \n",
       "2018           10.8%           1.5%       87.7%"
      ]
     },
     "execution_count": 114,
     "metadata": {},
     "output_type": "execute_result"
    }
   ],
   "source": [
    "pd.options.display.float_format = '{:0,.1%}'.format\n",
    "df.groupby('Scenario').mean()[['Walk Share','Transit Share','Auto Share']]"
   ]
  },
  {
   "cell_type": "markdown",
   "metadata": {},
   "source": [
    "# Bzone"
   ]
  },
  {
   "cell_type": "code",
   "execution_count": 312,
   "metadata": {},
   "outputs": [],
   "source": [
    "output_dir = r'C:\\Workspace\\VisionEval\\models\\VERSPM\\Datastore'\n",
    "year = '2018'\n",
    "def export_bzone(output_dir, year, scenario_name):\n",
    "\n",
    "    hh_df = pd.DataFrame()\n",
    "    hh_path = os.path.join(output_dir, year, 'Bzone')\n",
    "    for fname in os.listdir(hh_path):\n",
    "        result = pyreadr.read_r(os.path.join(hh_path, fname))\n",
    "        hh_df[fname.split('.')[0]] = result['Dataset']['Dataset']\n",
    "    hh_df['Scenario'] = scenario_name\n",
    "\n",
    "    return hh_df"
   ]
  },
  {
   "cell_type": "code",
   "execution_count": 315,
   "metadata": {},
   "outputs": [
    {
     "data": {
      "text/html": [
       "<div>\n",
       "<style scoped>\n",
       "    .dataframe tbody tr th:only-of-type {\n",
       "        vertical-align: middle;\n",
       "    }\n",
       "\n",
       "    .dataframe tbody tr th {\n",
       "        vertical-align: top;\n",
       "    }\n",
       "\n",
       "    .dataframe thead th {\n",
       "        text-align: right;\n",
       "    }\n",
       "</style>\n",
       "<table border=\"1\" class=\"dataframe\">\n",
       "  <thead>\n",
       "    <tr style=\"text-align: right;\">\n",
       "      <th></th>\n",
       "      <th>Azone</th>\n",
       "      <th>Bzone</th>\n",
       "      <th>CarSvcLevel</th>\n",
       "      <th>D1B</th>\n",
       "      <th>D1C</th>\n",
       "      <th>D1D</th>\n",
       "      <th>D2A_EPHHM</th>\n",
       "      <th>D2A_JPHH</th>\n",
       "      <th>D2A_WRKEMP</th>\n",
       "      <th>D3bpo4</th>\n",
       "      <th>...</th>\n",
       "      <th>RuralPop</th>\n",
       "      <th>SF</th>\n",
       "      <th>SFDU</th>\n",
       "      <th>SvcEmp</th>\n",
       "      <th>TotEmp</th>\n",
       "      <th>TownArea</th>\n",
       "      <th>TownPop</th>\n",
       "      <th>UrbanArea</th>\n",
       "      <th>UrbanPop</th>\n",
       "      <th>Scenario</th>\n",
       "    </tr>\n",
       "  </thead>\n",
       "  <tbody>\n",
       "    <tr>\n",
       "      <th>0</th>\n",
       "      <td>PSRC</td>\n",
       "      <td>530330001011</td>\n",
       "      <td>High</td>\n",
       "      <td>6,074.85</td>\n",
       "      <td>1,617.56</td>\n",
       "      <td>4,151.75</td>\n",
       "      <td>0.67</td>\n",
       "      <td>0.64</td>\n",
       "      <td>1.93</td>\n",
       "      <td>5.00</td>\n",
       "      <td>...</td>\n",
       "      <td>0.00</td>\n",
       "      <td>127</td>\n",
       "      <td>92</td>\n",
       "      <td>9.00</td>\n",
       "      <td>90.00</td>\n",
       "      <td>0.00</td>\n",
       "      <td>0.00</td>\n",
       "      <td>0.06</td>\n",
       "      <td>338.00</td>\n",
       "      <td>base</td>\n",
       "    </tr>\n",
       "    <tr>\n",
       "      <th>1</th>\n",
       "      <td>PSRC</td>\n",
       "      <td>530330001012</td>\n",
       "      <td>High</td>\n",
       "      <td>5,442.72</td>\n",
       "      <td>2,346.86</td>\n",
       "      <td>4,943.39</td>\n",
       "      <td>0.82</td>\n",
       "      <td>0.90</td>\n",
       "      <td>1.36</td>\n",
       "      <td>2.00</td>\n",
       "      <td>...</td>\n",
       "      <td>0.00</td>\n",
       "      <td>24</td>\n",
       "      <td>17</td>\n",
       "      <td>32.00</td>\n",
       "      <td>94.00</td>\n",
       "      <td>0.00</td>\n",
       "      <td>0.00</td>\n",
       "      <td>0.04</td>\n",
       "      <td>218.00</td>\n",
       "      <td>base</td>\n",
       "    </tr>\n",
       "    <tr>\n",
       "      <th>2</th>\n",
       "      <td>PSRC</td>\n",
       "      <td>530330001013</td>\n",
       "      <td>High</td>\n",
       "      <td>2,978.16</td>\n",
       "      <td>2,125.04</td>\n",
       "      <td>3,396.96</td>\n",
       "      <td>0.73</td>\n",
       "      <td>1.67</td>\n",
       "      <td>0.70</td>\n",
       "      <td>4.00</td>\n",
       "      <td>...</td>\n",
       "      <td>0.00</td>\n",
       "      <td>82</td>\n",
       "      <td>59</td>\n",
       "      <td>9.00</td>\n",
       "      <td>137.00</td>\n",
       "      <td>0.00</td>\n",
       "      <td>0.00</td>\n",
       "      <td>0.06</td>\n",
       "      <td>192.00</td>\n",
       "      <td>base</td>\n",
       "    </tr>\n",
       "    <tr>\n",
       "      <th>3</th>\n",
       "      <td>PSRC</td>\n",
       "      <td>530330001021</td>\n",
       "      <td>High</td>\n",
       "      <td>6,013.38</td>\n",
       "      <td>0.00</td>\n",
       "      <td>2,248.38</td>\n",
       "      <td>0.00</td>\n",
       "      <td>0.00</td>\n",
       "      <td>0.00</td>\n",
       "      <td>9.00</td>\n",
       "      <td>...</td>\n",
       "      <td>0.00</td>\n",
       "      <td>762</td>\n",
       "      <td>551</td>\n",
       "      <td>0.00</td>\n",
       "      <td>0.00</td>\n",
       "      <td>0.00</td>\n",
       "      <td>0.00</td>\n",
       "      <td>0.34</td>\n",
       "      <td>2,038.00</td>\n",
       "      <td>base</td>\n",
       "    </tr>\n",
       "    <tr>\n",
       "      <th>4</th>\n",
       "      <td>PSRC</td>\n",
       "      <td>530330001022</td>\n",
       "      <td>High</td>\n",
       "      <td>6,960.97</td>\n",
       "      <td>2,697.82</td>\n",
       "      <td>5,532.01</td>\n",
       "      <td>0.80</td>\n",
       "      <td>0.95</td>\n",
       "      <td>1.37</td>\n",
       "      <td>13.00</td>\n",
       "      <td>...</td>\n",
       "      <td>0.00</td>\n",
       "      <td>478</td>\n",
       "      <td>346</td>\n",
       "      <td>24.00</td>\n",
       "      <td>455.00</td>\n",
       "      <td>0.00</td>\n",
       "      <td>0.00</td>\n",
       "      <td>0.17</td>\n",
       "      <td>1,174.00</td>\n",
       "      <td>base</td>\n",
       "    </tr>\n",
       "    <tr>\n",
       "      <th>...</th>\n",
       "      <td>...</td>\n",
       "      <td>...</td>\n",
       "      <td>...</td>\n",
       "      <td>...</td>\n",
       "      <td>...</td>\n",
       "      <td>...</td>\n",
       "      <td>...</td>\n",
       "      <td>...</td>\n",
       "      <td>...</td>\n",
       "      <td>...</td>\n",
       "      <td>...</td>\n",
       "      <td>...</td>\n",
       "      <td>...</td>\n",
       "      <td>...</td>\n",
       "      <td>...</td>\n",
       "      <td>...</td>\n",
       "      <td>...</td>\n",
       "      <td>...</td>\n",
       "      <td>...</td>\n",
       "      <td>...</td>\n",
       "      <td>...</td>\n",
       "    </tr>\n",
       "    <tr>\n",
       "      <th>2923</th>\n",
       "      <td>PSRC</td>\n",
       "      <td>530619400021</td>\n",
       "      <td>High</td>\n",
       "      <td>994.85</td>\n",
       "      <td>17.81</td>\n",
       "      <td>409.64</td>\n",
       "      <td>0.26</td>\n",
       "      <td>0.05</td>\n",
       "      <td>29.67</td>\n",
       "      <td>8.00</td>\n",
       "      <td>...</td>\n",
       "      <td>1,173.00</td>\n",
       "      <td>462</td>\n",
       "      <td>334</td>\n",
       "      <td>0.00</td>\n",
       "      <td>21.00</td>\n",
       "      <td>0.00</td>\n",
       "      <td>0.00</td>\n",
       "      <td>0.00</td>\n",
       "      <td>0.00</td>\n",
       "      <td>base</td>\n",
       "    </tr>\n",
       "    <tr>\n",
       "      <th>2924</th>\n",
       "      <td>PSRC</td>\n",
       "      <td>530619400022</td>\n",
       "      <td>High</td>\n",
       "      <td>127.53</td>\n",
       "      <td>0.57</td>\n",
       "      <td>50.44</td>\n",
       "      <td>0.06</td>\n",
       "      <td>0.01</td>\n",
       "      <td>124.50</td>\n",
       "      <td>5.00</td>\n",
       "      <td>...</td>\n",
       "      <td>895.00</td>\n",
       "      <td>350</td>\n",
       "      <td>253</td>\n",
       "      <td>1.00</td>\n",
       "      <td>4.00</td>\n",
       "      <td>0.00</td>\n",
       "      <td>0.00</td>\n",
       "      <td>0.00</td>\n",
       "      <td>0.00</td>\n",
       "      <td>base</td>\n",
       "    </tr>\n",
       "    <tr>\n",
       "      <th>2925</th>\n",
       "      <td>PSRC</td>\n",
       "      <td>530619400023</td>\n",
       "      <td>High</td>\n",
       "      <td>586.34</td>\n",
       "      <td>0.86</td>\n",
       "      <td>233.38</td>\n",
       "      <td>0.04</td>\n",
       "      <td>0.00</td>\n",
       "      <td>378.00</td>\n",
       "      <td>10.00</td>\n",
       "      <td>...</td>\n",
       "      <td>4,070.00</td>\n",
       "      <td>1614</td>\n",
       "      <td>1167</td>\n",
       "      <td>0.00</td>\n",
       "      <td>6.00</td>\n",
       "      <td>0.00</td>\n",
       "      <td>0.00</td>\n",
       "      <td>0.00</td>\n",
       "      <td>0.00</td>\n",
       "      <td>base</td>\n",
       "    </tr>\n",
       "    <tr>\n",
       "      <th>2926</th>\n",
       "      <td>PSRC</td>\n",
       "      <td>530619900020</td>\n",
       "      <td>High</td>\n",
       "      <td>4,452,621.86</td>\n",
       "      <td>519,472.55</td>\n",
       "      <td>2,263,416.11</td>\n",
       "      <td>0.55</td>\n",
       "      <td>0.30</td>\n",
       "      <td>4.64</td>\n",
       "      <td>0.00</td>\n",
       "      <td>...</td>\n",
       "      <td>240.00</td>\n",
       "      <td>94</td>\n",
       "      <td>69</td>\n",
       "      <td>11.00</td>\n",
       "      <td>28.00</td>\n",
       "      <td>0.00</td>\n",
       "      <td>0.00</td>\n",
       "      <td>0.00</td>\n",
       "      <td>0.00</td>\n",
       "      <td>base</td>\n",
       "    </tr>\n",
       "    <tr>\n",
       "      <th>2927</th>\n",
       "      <td>PSRC</td>\n",
       "      <td>530619901000</td>\n",
       "      <td>High</td>\n",
       "      <td>0.00</td>\n",
       "      <td>0.00</td>\n",
       "      <td>0.00</td>\n",
       "      <td>NaN</td>\n",
       "      <td>0.00</td>\n",
       "      <td>0.00</td>\n",
       "      <td>0.00</td>\n",
       "      <td>...</td>\n",
       "      <td>0.00</td>\n",
       "      <td>0</td>\n",
       "      <td>0</td>\n",
       "      <td>0.00</td>\n",
       "      <td>0.00</td>\n",
       "      <td>0.00</td>\n",
       "      <td>0.00</td>\n",
       "      <td>0.00</td>\n",
       "      <td>0.00</td>\n",
       "      <td>base</td>\n",
       "    </tr>\n",
       "  </tbody>\n",
       "</table>\n",
       "<p>2928 rows × 54 columns</p>\n",
       "</div>"
      ],
      "text/plain": [
       "     Azone         Bzone CarSvcLevel          D1B        D1C          D1D  \\\n",
       "0     PSRC  530330001011        High     6,074.85   1,617.56     4,151.75   \n",
       "1     PSRC  530330001012        High     5,442.72   2,346.86     4,943.39   \n",
       "2     PSRC  530330001013        High     2,978.16   2,125.04     3,396.96   \n",
       "3     PSRC  530330001021        High     6,013.38       0.00     2,248.38   \n",
       "4     PSRC  530330001022        High     6,960.97   2,697.82     5,532.01   \n",
       "...    ...           ...         ...          ...        ...          ...   \n",
       "2923  PSRC  530619400021        High       994.85      17.81       409.64   \n",
       "2924  PSRC  530619400022        High       127.53       0.57        50.44   \n",
       "2925  PSRC  530619400023        High       586.34       0.86       233.38   \n",
       "2926  PSRC  530619900020        High 4,452,621.86 519,472.55 2,263,416.11   \n",
       "2927  PSRC  530619901000        High         0.00       0.00         0.00   \n",
       "\n",
       "      D2A_EPHHM  D2A_JPHH  D2A_WRKEMP  D3bpo4  ...  RuralPop    SF  SFDU  \\\n",
       "0          0.67      0.64        1.93    5.00  ...      0.00   127    92   \n",
       "1          0.82      0.90        1.36    2.00  ...      0.00    24    17   \n",
       "2          0.73      1.67        0.70    4.00  ...      0.00    82    59   \n",
       "3          0.00      0.00        0.00    9.00  ...      0.00   762   551   \n",
       "4          0.80      0.95        1.37   13.00  ...      0.00   478   346   \n",
       "...         ...       ...         ...     ...  ...       ...   ...   ...   \n",
       "2923       0.26      0.05       29.67    8.00  ...  1,173.00   462   334   \n",
       "2924       0.06      0.01      124.50    5.00  ...    895.00   350   253   \n",
       "2925       0.04      0.00      378.00   10.00  ...  4,070.00  1614  1167   \n",
       "2926       0.55      0.30        4.64    0.00  ...    240.00    94    69   \n",
       "2927        NaN      0.00        0.00    0.00  ...      0.00     0     0   \n",
       "\n",
       "      SvcEmp  TotEmp  TownArea  TownPop  UrbanArea  UrbanPop  Scenario  \n",
       "0       9.00   90.00      0.00     0.00       0.06    338.00      base  \n",
       "1      32.00   94.00      0.00     0.00       0.04    218.00      base  \n",
       "2       9.00  137.00      0.00     0.00       0.06    192.00      base  \n",
       "3       0.00    0.00      0.00     0.00       0.34  2,038.00      base  \n",
       "4      24.00  455.00      0.00     0.00       0.17  1,174.00      base  \n",
       "...      ...     ...       ...      ...        ...       ...       ...  \n",
       "2923    0.00   21.00      0.00     0.00       0.00      0.00      base  \n",
       "2924    1.00    4.00      0.00     0.00       0.00      0.00      base  \n",
       "2925    0.00    6.00      0.00     0.00       0.00      0.00      base  \n",
       "2926   11.00   28.00      0.00     0.00       0.00      0.00      base  \n",
       "2927    0.00    0.00      0.00     0.00       0.00      0.00      base  \n",
       "\n",
       "[2928 rows x 54 columns]"
      ]
     },
     "execution_count": 315,
     "metadata": {},
     "output_type": "execute_result"
    }
   ],
   "source": [
    "output_dir = r'C:\\Workspace\\VisionEval\\models\\VERSPM\\Datastore'\n",
    "df = export_bzone(output_dir, '2018', 'base')\n",
    "df\n",
    "# df[df['Bzone'].isin(['530619900020','530330001012'])].T"
   ]
  },
  {
   "cell_type": "code",
   "execution_count": 317,
   "metadata": {},
   "outputs": [
    {
     "data": {
      "text/plain": [
       "864.5972366484482"
      ]
     },
     "execution_count": 317,
     "metadata": {},
     "output_type": "execute_result"
    }
   ],
   "source": [
    "df['UrbanArea'].sum()"
   ]
  },
  {
   "cell_type": "markdown",
   "metadata": {},
   "source": [
    "# Change rdata inputs exogenously\n",
    "\n",
    "https://github.com/VisionEval/VisionEval/blob/master/sources/modules/VELandUse/inst/module_docs/PredictHousing.md"
   ]
  },
  {
   "cell_type": "code",
   "execution_count": 65,
   "metadata": {},
   "outputs": [],
   "source": [
    "# Change the housing location exogenously and re-run the model\n",
    "\n",
    "\n",
    "result = pyreadr.read_r(r'C:\\Workspace\\VisionEval\\models\\VERSPM\\Datastore\\2018\\Household\\Bzone.RDa')\n",
    "\n"
   ]
  },
  {
   "cell_type": "code",
   "execution_count": 67,
   "metadata": {},
   "outputs": [],
   "source": [
    "# result"
   ]
  },
  {
   "cell_type": "code",
   "execution_count": 68,
   "metadata": {},
   "outputs": [],
   "source": [
    "\n",
    "rural_area = [530330234031,530330234041,530330234042,530330250071,\n",
    "            530330250073,530330250081,530330250082,530330322073]\n",
    "rural_area = [str(i) for i in rural_area]\n",
    "urban_area = [530330075031,530330075032]\n",
    "urban_area = [str(i) for i in urban_area]\n",
    "\n",
    "# Get index of households to edit\n",
    "hh_index = result['Dataset'][result['Dataset']['Dataset'].isin(rural_area)].index\n",
    "\n",
    "\n",
    "# Reset household's Bzone to be in a specific zone in First hill Seattle\n",
    "result['Dataset'].loc[result['Dataset']['Dataset'].isin(rural_area),'Dataset'] = '530330075031'\n",
    "# write_rdata"
   ]
  },
  {
   "cell_type": "code",
   "execution_count": 69,
   "metadata": {},
   "outputs": [
    {
     "ename": "PyreadrError",
     "evalue": "df must be a pandas data frame",
     "output_type": "error",
     "traceback": [
      "\u001b[1;31m---------------------------------------------------------------------------\u001b[0m",
      "\u001b[1;31mPyreadrError\u001b[0m                              Traceback (most recent call last)",
      "\u001b[1;32m<ipython-input-69-a7fe916225fc>\u001b[0m in \u001b[0;36m<module>\u001b[1;34m\u001b[0m\n\u001b[0;32m      1\u001b[0m \u001b[1;31m# result['Dataset'].write_rdata(r'C:\\Workspace\\VisionEval\\models\\VERSPM\\Datastore\\2018\\Household\\Bzone.RDa')\u001b[0m\u001b[1;33m\u001b[0m\u001b[1;33m\u001b[0m\u001b[1;33m\u001b[0m\u001b[0m\n\u001b[1;32m----> 2\u001b[1;33m \u001b[0mpyreadr\u001b[0m\u001b[1;33m.\u001b[0m\u001b[0mwrite_rdata\u001b[0m\u001b[1;33m(\u001b[0m\u001b[1;34mr'C:\\Workspace\\VisionEval\\models\\VERSPM_TDR_scen1\\Datastore\\2018\\Household\\Bzone.RDa'\u001b[0m\u001b[1;33m,\u001b[0m \u001b[0mresult\u001b[0m\u001b[1;33m,\u001b[0m \u001b[0mdf_name\u001b[0m\u001b[1;33m=\u001b[0m\u001b[1;34m\"Dataset\"\u001b[0m\u001b[1;33m)\u001b[0m\u001b[1;33m\u001b[0m\u001b[1;33m\u001b[0m\u001b[0m\n\u001b[0m",
      "\u001b[1;32m~\\Anaconda3\\envs\\summary\\lib\\site-packages\\pyreadr\\pyreadr.py\u001b[0m in \u001b[0;36mwrite_rdata\u001b[1;34m(path, df, df_name, dateformat, datetimeformat, compress)\u001b[0m\n\u001b[0;32m    127\u001b[0m     \u001b[1;32mif\u001b[0m \u001b[1;32mnot\u001b[0m \u001b[0misinstance\u001b[0m\u001b[1;33m(\u001b[0m\u001b[0mdf\u001b[0m\u001b[1;33m,\u001b[0m \u001b[0mpd\u001b[0m\u001b[1;33m.\u001b[0m\u001b[0mDataFrame\u001b[0m\u001b[1;33m)\u001b[0m\u001b[1;33m:\u001b[0m\u001b[1;33m\u001b[0m\u001b[1;33m\u001b[0m\u001b[0m\n\u001b[0;32m    128\u001b[0m         \u001b[0mmsg\u001b[0m \u001b[1;33m=\u001b[0m \u001b[1;34m\"df must be a pandas data frame\"\u001b[0m\u001b[1;33m\u001b[0m\u001b[1;33m\u001b[0m\u001b[0m\n\u001b[1;32m--> 129\u001b[1;33m         \u001b[1;32mraise\u001b[0m \u001b[0mPyreadrError\u001b[0m\u001b[1;33m(\u001b[0m\u001b[0mmsg\u001b[0m\u001b[1;33m)\u001b[0m\u001b[1;33m\u001b[0m\u001b[1;33m\u001b[0m\u001b[0m\n\u001b[0m\u001b[0;32m    130\u001b[0m \u001b[1;33m\u001b[0m\u001b[0m\n\u001b[0;32m    131\u001b[0m     \u001b[0mfile_format\u001b[0m \u001b[1;33m=\u001b[0m \u001b[1;34m\"rdata\"\u001b[0m\u001b[1;33m\u001b[0m\u001b[1;33m\u001b[0m\u001b[0m\n",
      "\u001b[1;31mPyreadrError\u001b[0m: df must be a pandas data frame"
     ]
    }
   ],
   "source": [
    "# result['Dataset'].write_rdata(r'C:\\Workspace\\VisionEval\\models\\VERSPM\\Datastore\\2018\\Household\\Bzone.RDa')\n",
    "pyreadr.write_rdata(r'C:\\Workspace\\VisionEval\\models\\VERSPM_TDR_scen1\\Datastore\\2018\\Household\\Bzone.RDa', result, df_name=\"Dataset\")\n"
   ]
  },
  {
   "cell_type": "code",
   "execution_count": 19,
   "metadata": {},
   "outputs": [],
   "source": [
    "result = pyreadr.read_r(r'C:\\Workspace\\VisionEval\\models\\VERSPM_TDR_scen1\\Datastore\\2018\\Household\\HouseType.RDa')['Dataset']"
   ]
  },
  {
   "cell_type": "code",
   "execution_count": 28,
   "metadata": {},
   "outputs": [
    {
     "name": "stderr",
     "output_type": "stream",
     "text": [
      "C:\\Users\\Modeller\\Anaconda3\\envs\\summary\\lib\\site-packages\\ipykernel_launcher.py:2: SettingWithCopyWarning: \n",
      "A value is trying to be set on a copy of a slice from a DataFrame.\n",
      "Try using .loc[row_indexer,col_indexer] = value instead\n",
      "\n",
      "See the caveats in the documentation: https://pandas.pydata.org/pandas-docs/stable/user_guide/indexing.html#returning-a-view-versus-a-copy\n",
      "  \n"
     ]
    }
   ],
   "source": [
    "# Set all to Multi-family\n",
    "result.iloc[hh_index]['Dataset'] = 'MF'\n",
    "pyreadr.write_rdata(r'C:\\Workspace\\VisionEval\\models\\VERSPM_TDR_scen1\\Datastore\\2018\\Household\\HouseType.RDa', result, df_name=\"Dataset\")"
   ]
  },
  {
   "cell_type": "code",
   "execution_count": 37,
   "metadata": {},
   "outputs": [],
   "source": [
    "# Update Bzone columns: SF, MF, GQ, Pop, NumHH, Num Wkr\n",
    "# Get index of changed zone(s)\n",
    "result = pyreadr.read_r(r'C:\\Workspace\\VisionEval\\models\\VERSPM\\Datastore\\2018\\Bzone\\Bzone.RDa')['Dataset']\n",
    "bzone_index = result[result['Dataset'].isin(['530330075031'])].index"
   ]
  },
  {
   "cell_type": "code",
   "execution_count": 58,
   "metadata": {},
   "outputs": [
    {
     "data": {
      "text/plain": [
       "Int64Index([324], dtype='int64')"
      ]
     },
     "execution_count": 58,
     "metadata": {},
     "output_type": "execute_result"
    }
   ],
   "source": [
    "bzone_index"
   ]
  },
  {
   "cell_type": "code",
   "execution_count": 42,
   "metadata": {},
   "outputs": [],
   "source": [
    "# Get total population and number of HHs of the area being removed\n",
    "result = pyreadr.read_r(r'C:\\Workspace\\VisionEval\\models\\VERSPM\\Datastore\\2018\\Household\\HhSize.RDa')['Dataset']\n",
    "moved_pop_sum = result.iloc[hh_index].sum()\n",
    "moved_hh_sum = len(hh_index)"
   ]
  },
  {
   "cell_type": "code",
   "execution_count": 59,
   "metadata": {},
   "outputs": [],
   "source": [
    "# Get total number of workers\n",
    "result = pyreadr.read_r(r'C:\\Workspace\\VisionEval\\models\\VERSPM\\Datastore\\2018\\Household\\Workers.RDa')['Dataset']\n",
    "moved_workers_sum = result.iloc[hh_index].sum()"
   ]
  },
  {
   "cell_type": "code",
   "execution_count": 44,
   "metadata": {},
   "outputs": [
    {
     "name": "stderr",
     "output_type": "stream",
     "text": [
      "C:\\Users\\Modeller\\Anaconda3\\envs\\summary\\lib\\site-packages\\ipykernel_launcher.py:6: SettingWithCopyWarning: \n",
      "A value is trying to be set on a copy of a slice from a DataFrame.\n",
      "Try using .loc[row_indexer,col_indexer] = value instead\n",
      "\n",
      "See the caveats in the documentation: https://pandas.pydata.org/pandas-docs/stable/user_guide/indexing.html#returning-a-view-versus-a-copy\n",
      "  \n"
     ]
    }
   ],
   "source": [
    "# Note we are not updating number of SF units\n",
    "# result = pyreadr.read_r(r'C:\\Workspace\\VisionEval\\models\\VERSPM_TDR_scen1\\Datastore\\2018\\Bzone\\SF.RDa')['Dataset']\n",
    "\n",
    "# also not changing GQ\n",
    "\n",
    "# Update number of MF units in line with number of HHs\n",
    "result = pyreadr.read_r(r'C:\\Workspace\\VisionEval\\models\\VERSPM\\Datastore\\2018\\Bzone\\MF.RDa')['Dataset']\n",
    "result.iloc[bzone_index]['Dataset'] = result['Dataset']+moved_hh_sum \n",
    "pyreadr.write_rdata(r'C:\\Workspace\\VisionEval\\models\\VERSPM_TDR_scen1\\Datastore\\2018\\Household\\MF.RDa', result, df_name=\"Dataset\")"
   ]
  },
  {
   "cell_type": "code",
   "execution_count": 47,
   "metadata": {},
   "outputs": [
    {
     "name": "stderr",
     "output_type": "stream",
     "text": [
      "C:\\Users\\Modeller\\Anaconda3\\envs\\summary\\lib\\site-packages\\ipykernel_launcher.py:3: SettingWithCopyWarning: \n",
      "A value is trying to be set on a copy of a slice from a DataFrame.\n",
      "Try using .loc[row_indexer,col_indexer] = value instead\n",
      "\n",
      "See the caveats in the documentation: https://pandas.pydata.org/pandas-docs/stable/user_guide/indexing.html#returning-a-view-versus-a-copy\n",
      "  This is separate from the ipykernel package so we can avoid doing imports until\n"
     ]
    }
   ],
   "source": [
    "# Update population \n",
    "result = pyreadr.read_r(r'C:\\Workspace\\VisionEval\\models\\VERSPM\\Datastore\\2018\\Bzone\\Pop.RDa')['Dataset']\n",
    "result.iloc[bzone_index]['Dataset'] = result['Dataset']+moved_pop_sum \n",
    "pyreadr.write_rdata(r'C:\\Workspace\\VisionEval\\models\\VERSPM_TDR_scen1\\Datastore\\2018\\Household\\Pop.RDa', result, df_name=\"Dataset\")"
   ]
  },
  {
   "cell_type": "code",
   "execution_count": 48,
   "metadata": {},
   "outputs": [
    {
     "name": "stderr",
     "output_type": "stream",
     "text": [
      "C:\\Users\\Modeller\\Anaconda3\\envs\\summary\\lib\\site-packages\\ipykernel_launcher.py:3: SettingWithCopyWarning: \n",
      "A value is trying to be set on a copy of a slice from a DataFrame.\n",
      "Try using .loc[row_indexer,col_indexer] = value instead\n",
      "\n",
      "See the caveats in the documentation: https://pandas.pydata.org/pandas-docs/stable/user_guide/indexing.html#returning-a-view-versus-a-copy\n",
      "  This is separate from the ipykernel package so we can avoid doing imports until\n"
     ]
    }
   ],
   "source": [
    "# update number of households\n",
    "result = pyreadr.read_r(r'C:\\Workspace\\VisionEval\\models\\VERSPM\\Datastore\\2018\\Bzone\\NumHh.RDa')['Dataset']\n",
    "result.iloc[bzone_index]['Dataset'] = result['Dataset']+moved_hh_sum \n",
    "pyreadr.write_rdata(r'C:\\Workspace\\VisionEval\\models\\VERSPM_TDR_scen1\\Datastore\\2018\\Household\\NumHh.RDa', result, df_name=\"Dataset\")"
   ]
  },
  {
   "cell_type": "code",
   "execution_count": 62,
   "metadata": {},
   "outputs": [
    {
     "name": "stderr",
     "output_type": "stream",
     "text": [
      "C:\\Users\\Modeller\\Anaconda3\\envs\\summary\\lib\\site-packages\\ipykernel_launcher.py:4: SettingWithCopyWarning: \n",
      "A value is trying to be set on a copy of a slice from a DataFrame.\n",
      "Try using .loc[row_indexer,col_indexer] = value instead\n",
      "\n",
      "See the caveats in the documentation: https://pandas.pydata.org/pandas-docs/stable/user_guide/indexing.html#returning-a-view-versus-a-copy\n",
      "  after removing the cwd from sys.path.\n"
     ]
    }
   ],
   "source": [
    "# Update number of workers\n",
    "\n",
    "result = pyreadr.read_r(r'C:\\Workspace\\VisionEval\\models\\VERSPM\\Datastore\\2018\\Bzone\\NumWkr.RDa')['Dataset']\n",
    "result.iloc[bzone_index]['Dataset'] = result['Dataset']+moved_workers_sum \n",
    "pyreadr.write_rdata(r'C:\\Workspace\\VisionEval\\models\\VERSPM_TDR_scen1\\Datastore\\2018\\Bzone\\NumWkr.RDa', result, df_name=\"Dataset\")"
   ]
  },
  {
   "cell_type": "code",
   "execution_count": 63,
   "metadata": {},
   "outputs": [
    {
     "data": {
      "text/html": [
       "<div>\n",
       "<style scoped>\n",
       "    .dataframe tbody tr th:only-of-type {\n",
       "        vertical-align: middle;\n",
       "    }\n",
       "\n",
       "    .dataframe tbody tr th {\n",
       "        vertical-align: top;\n",
       "    }\n",
       "\n",
       "    .dataframe thead th {\n",
       "        text-align: right;\n",
       "    }\n",
       "</style>\n",
       "<table border=\"1\" class=\"dataframe\">\n",
       "  <thead>\n",
       "    <tr style=\"text-align: right;\">\n",
       "      <th></th>\n",
       "      <th>Dataset</th>\n",
       "    </tr>\n",
       "  </thead>\n",
       "  <tbody>\n",
       "    <tr>\n",
       "      <th>324</th>\n",
       "      <td>686.0</td>\n",
       "    </tr>\n",
       "  </tbody>\n",
       "</table>\n",
       "</div>"
      ],
      "text/plain": [
       "     Dataset\n",
       "324    686.0"
      ]
     },
     "execution_count": 63,
     "metadata": {},
     "output_type": "execute_result"
    }
   ],
   "source": [
    "result.iloc[bzone_index]"
   ]
  },
  {
   "cell_type": "code",
   "execution_count": 56,
   "metadata": {},
   "outputs": [],
   "source": [
    "result = pyreadr.read_r(r'C:\\Workspace\\VisionEval\\models\\VERSPM\\Datastore\\2018\\Bzone\\NumWkr.RDa')"
   ]
  },
  {
   "cell_type": "code",
   "execution_count": 57,
   "metadata": {},
   "outputs": [
    {
     "data": {
      "text/plain": [
       "OrderedDict([('Dataset',\n",
       "                    Dataset\n",
       "              0       180.0\n",
       "              1       122.0\n",
       "              2       103.0\n",
       "              3      1244.0\n",
       "              4       584.0\n",
       "              ...       ...\n",
       "              2923    600.0\n",
       "              2924    479.0\n",
       "              2925   2333.0\n",
       "              2926    138.0\n",
       "              2927      0.0\n",
       "              \n",
       "              [2928 rows x 1 columns])])"
      ]
     },
     "execution_count": 57,
     "metadata": {},
     "output_type": "execute_result"
    }
   ],
   "source": [
    "result"
   ]
  },
  {
   "cell_type": "code",
   "execution_count": null,
   "metadata": {},
   "outputs": [],
   "source": []
  }
 ],
 "metadata": {
  "interpreter": {
   "hash": "a01578ef7fc98460838ddfd60bd3288ea700197594b0894c527f4f3349251842"
  },
  "kernelspec": {
   "display_name": "Python 3.7.10 64-bit ('summary': conda)",
   "language": "python",
   "name": "python3"
  },
  "language_info": {
   "codemirror_mode": {
    "name": "ipython",
    "version": 3
   },
   "file_extension": ".py",
   "mimetype": "text/x-python",
   "name": "python",
   "nbconvert_exporter": "python",
   "pygments_lexer": "ipython3",
   "version": "3.7.10"
  },
  "orig_nbformat": 4
 },
 "nbformat": 4,
 "nbformat_minor": 2
}
