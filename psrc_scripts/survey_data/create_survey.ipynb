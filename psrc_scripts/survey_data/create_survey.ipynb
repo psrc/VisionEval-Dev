{
 "cells": [
  {
   "cell_type": "code",
   "execution_count": 2,
   "metadata": {},
   "outputs": [],
   "source": [
    "import os\n",
    "import urllib\n",
    "import pyodbc\n",
    "import sqlalchemy\n",
    "import pandas as pd\n",
    "import pyreadr\n",
    "import geopandas as gpd"
   ]
  },
  {
   "cell_type": "code",
   "execution_count": 3,
   "metadata": {},
   "outputs": [],
   "source": [
    "# Load NHTS survey files\n",
    "fname = r'C:\\Workspace\\VisionEval_build\\VisionEval\\sources\\modules\\VE2001NHTS\\data-raw\\Dt_df.Rda'\n",
    "nhts_df = pyreadr.read_r(fname)['Dt_df']"
   ]
  },
  {
   "cell_type": "code",
   "execution_count": 4,
   "metadata": {},
   "outputs": [
    {
     "data": {
      "text/plain": [
       "rownames\n",
       "1          0.444444\n",
       "2          0.444444\n",
       "3          0.800000\n",
       "4          4.000000\n",
       "5          4.000000\n",
       "            ...    \n",
       "642288     0.800000\n",
       "642289    13.600000\n",
       "642290    12.800000\n",
       "642291     0.800000\n",
       "642292    13.600000\n",
       "Name: TRPMILES, Length: 642292, dtype: float64"
      ]
     },
     "execution_count": 4,
     "metadata": {},
     "output_type": "execute_result"
    }
   ],
   "source": [
    "nhts_df['TRPMILES']"
   ]
  },
  {
   "cell_type": "code",
   "execution_count": 5,
   "metadata": {},
   "outputs": [
    {
     "data": {
      "text/plain": [
       "7.217418054478968"
      ]
     },
     "execution_count": 5,
     "metadata": {},
     "output_type": "execute_result"
    }
   ],
   "source": [
    "nhts_df[nhts_df['TRPTRANS'] == 1]['TRPMILES'].mean()"
   ]
  },
  {
   "cell_type": "code",
   "execution_count": 75,
   "metadata": {},
   "outputs": [],
   "source": [
    "pyreadr.write_rdata(fname, nhts_df, df_name=\"Dt_df\")"
   ]
  },
  {
   "cell_type": "markdown",
   "metadata": {},
   "source": [
    "# Tours"
   ]
  },
  {
   "cell_type": "code",
   "execution_count": 13,
   "metadata": {},
   "outputs": [],
   "source": [
    "# Load NHTS survey files\n",
    "fname = r'C:\\Workspace\\VisionEval_build\\VisionEval\\sources\\modules\\VE2001NHTS\\data-raw\\ToursByHh_df.Rda'\n",
    "nhts_df = pyreadr.read_r(fname)['ToursByHh_df']"
   ]
  },
  {
   "cell_type": "code",
   "execution_count": 52,
   "metadata": {},
   "outputs": [],
   "source": [
    "conn_string = \"DRIVER={ODBC Driver 17 for SQL Server}; SERVER=AWS-PROD-SQL\\Sockeye; DATABASE=Elmer; trusted_connection=yes\"\n",
    "sql_conn = pyodbc.connect(conn_string)\n",
    "df_trip = pd.read_sql(sql='select * from HHSurvey.trips_2017_2019', con=sql_conn)\n",
    "df_hh = pd.read_sql(sql='select * from HHSurvey.households_2017_2019', con=sql_conn)\n",
    "df_person = pd.read_sql(sql='select * from HHSurvey.persons_2017_2019', con=sql_conn)\n",
    "df_vehicle = pd.read_sql(sql='select * from HHSurvey.vehicles_2017_2019', con=sql_conn)"
   ]
  },
  {
   "cell_type": "code",
   "execution_count": 65,
   "metadata": {},
   "outputs": [
    {
     "data": {
      "text/plain": [
       "Index(['Houseid', 'Distance', 'TravelTime', 'DwellTime', 'StartHome',\n",
       "       'EndHome', 'Trips', 'Persons', 'Vehid', 'Trptrans', 'Vehtype',\n",
       "       'HhVehUsed', 'Whyto', 'Disttowk'],\n",
       "      dtype='object')"
      ]
     },
     "execution_count": 65,
     "metadata": {},
     "output_type": "execute_result"
    }
   ],
   "source": [
    "nhts_df.columns"
   ]
  },
  {
   "cell_type": "code",
   "execution_count": 56,
   "metadata": {},
   "outputs": [],
   "source": [
    "# FIXME Since we don't have a tour file in the RSG format, just consider each trip a tour for now\n",
    "# [print(i) for i in df_trip.columns]\n",
    "tour_df = df_trip.copy()\n",
    "\n",
    "\n",
    "\n",
    "\n",
    "\n",
    "# Houseid\n",
    "# Distance\n",
    "# TravelTime\n",
    "# Dwell Time\n",
    "# Persons\n",
    "tour_df.rename(columns={'household_id':'Houseid', 'trip_path_distance': 'Distance', 'travtime': 'TravelTime',\n",
    "                        'activity_duration': 'DwellTime', 'travelers_tot': 'Persons'}, inplace=True)\n",
    "\n",
    "# StartHome\n",
    "tour_df[['StartHome','EndHome']] = False\n",
    "tour_df.loc[tour_df['o_purpose'] == 1, 'StartHome'] = True\n",
    "\n",
    "# EndHome\n",
    "tour_df.loc[tour_df['d_purpose'] == 1, 'EndHome'] = True\n",
    "\n",
    "# Trips\n",
    "# FIXME: asserting this to be 2 (initial + return trip) since we are not building real tours\n",
    "tour_df['Trips'] = 2\n",
    "\n",
    "# Vehid\n",
    "# Get vehicle ID based on mode_1 values\n",
    "# 3 - 12 are various household vehilces\n",
    "\n",
    "# Trptrans\n",
    "\n",
    "# Vehtype\n",
    "\n",
    "# HHVehUsed\n",
    "\n",
    "# Whyto\n",
    "\n",
    "# Disttowk\n"
   ]
  },
  {
   "cell_type": "code",
   "execution_count": 43,
   "metadata": {},
   "outputs": [],
   "source": []
  },
  {
   "cell_type": "code",
   "execution_count": 48,
   "metadata": {},
   "outputs": [
    {
     "data": {
      "text/plain": [
       "Index(['Houseid', 'pno', 'day', 'tour', 'jtindex', 'parent', 'subtrs',\n",
       "       'pdpurp', 'tlvorig', 'tardest', 'tlvdest', 'tarorig', 'toadtyp',\n",
       "       'tdadtyp', 'topcl', 'totaz', 'tdpcl', 'tdtaz', 'tmodetp', 'tpathtp',\n",
       "       'tripsh1', 'tripsh2', 'phtindx1', 'phtindx2', 'fhtindx1', 'fhtindx2',\n",
       "       'toexpfac', 'id', 'c', 'd', 't', 'tautotime', 'tautocost', 'tautodist',\n",
       "       'hhsize', 'hhvehs', 'hhwkrs', 'hhftw', 'hhptw', 'hhret', 'hhoad',\n",
       "       'hhuni', 'hhhsc', 'hh515', 'hhcu5', 'hhincome', 'hownrent', 'hrestype',\n",
       "       'hhtaz', 'hhparcel', 'hhexpfac', 'samptype', 'DwellTime', 'StartHome',\n",
       "       'EndHome', 'Trips'],\n",
       "      dtype='object')"
      ]
     },
     "execution_count": 48,
     "metadata": {},
     "output_type": "execute_result"
    }
   ],
   "source": [
    "tour_df.columns"
   ]
  },
  {
   "cell_type": "code",
   "execution_count": 34,
   "metadata": {},
   "outputs": [
    {
     "data": {
      "text/plain": [
       "263.1086880364337"
      ]
     },
     "execution_count": 34,
     "metadata": {},
     "output_type": "execute_result"
    }
   ],
   "source": [
    "tour_df.DwellTime.mean()"
   ]
  },
  {
   "cell_type": "code",
   "execution_count": 30,
   "metadata": {},
   "outputs": [
    {
     "data": {
      "text/html": [
       "<div>\n",
       "<style scoped>\n",
       "    .dataframe tbody tr th:only-of-type {\n",
       "        vertical-align: middle;\n",
       "    }\n",
       "\n",
       "    .dataframe tbody tr th {\n",
       "        vertical-align: top;\n",
       "    }\n",
       "\n",
       "    .dataframe thead th {\n",
       "        text-align: right;\n",
       "    }\n",
       "</style>\n",
       "<table border=\"1\" class=\"dataframe\">\n",
       "  <thead>\n",
       "    <tr style=\"text-align: right;\">\n",
       "      <th></th>\n",
       "      <th>tlvdest</th>\n",
       "      <th>tardest</th>\n",
       "    </tr>\n",
       "  </thead>\n",
       "  <tbody>\n",
       "    <tr>\n",
       "      <th>0</th>\n",
       "      <td>826</td>\n",
       "      <td>1100</td>\n",
       "    </tr>\n",
       "    <tr>\n",
       "      <th>1</th>\n",
       "      <td>579</td>\n",
       "      <td>1101</td>\n",
       "    </tr>\n",
       "    <tr>\n",
       "      <th>2</th>\n",
       "      <td>716</td>\n",
       "      <td>1099</td>\n",
       "    </tr>\n",
       "    <tr>\n",
       "      <th>3</th>\n",
       "      <td>936</td>\n",
       "      <td>1287</td>\n",
       "    </tr>\n",
       "    <tr>\n",
       "      <th>4</th>\n",
       "      <td>1103</td>\n",
       "      <td>1321</td>\n",
       "    </tr>\n",
       "    <tr>\n",
       "      <th>...</th>\n",
       "      <td>...</td>\n",
       "      <td>...</td>\n",
       "    </tr>\n",
       "    <tr>\n",
       "      <th>20375</th>\n",
       "      <td>320</td>\n",
       "      <td>930</td>\n",
       "    </tr>\n",
       "    <tr>\n",
       "      <th>20376</th>\n",
       "      <td>775</td>\n",
       "      <td>875</td>\n",
       "    </tr>\n",
       "    <tr>\n",
       "      <th>20377</th>\n",
       "      <td>935</td>\n",
       "      <td>970</td>\n",
       "    </tr>\n",
       "    <tr>\n",
       "      <th>20378</th>\n",
       "      <td>300</td>\n",
       "      <td>960</td>\n",
       "    </tr>\n",
       "    <tr>\n",
       "      <th>20379</th>\n",
       "      <td>740</td>\n",
       "      <td>1030</td>\n",
       "    </tr>\n",
       "  </tbody>\n",
       "</table>\n",
       "<p>8450 rows × 2 columns</p>\n",
       "</div>"
      ],
      "text/plain": [
       "       tlvdest  tardest\n",
       "0          826     1100\n",
       "1          579     1101\n",
       "2          716     1099\n",
       "3          936     1287\n",
       "4         1103     1321\n",
       "...        ...      ...\n",
       "20375      320      930\n",
       "20376      775      875\n",
       "20377      935      970\n",
       "20378      300      960\n",
       "20379      740     1030\n",
       "\n",
       "[8450 rows x 2 columns]"
      ]
     },
     "execution_count": 30,
     "metadata": {},
     "output_type": "execute_result"
    }
   ],
   "source": [
    "tour_df[tour_df['DwellTime'] < 0][['tlvdest','tardest']]"
   ]
  }
 ],
 "metadata": {
  "interpreter": {
   "hash": "a01578ef7fc98460838ddfd60bd3288ea700197594b0894c527f4f3349251842"
  },
  "kernelspec": {
   "display_name": "Python 3.7.10 ('summary')",
   "language": "python",
   "name": "python3"
  },
  "language_info": {
   "codemirror_mode": {
    "name": "ipython",
    "version": 3
   },
   "file_extension": ".py",
   "mimetype": "text/x-python",
   "name": "python",
   "nbconvert_exporter": "python",
   "pygments_lexer": "ipython3",
   "version": "3.7.10"
  },
  "orig_nbformat": 4
 },
 "nbformat": 4,
 "nbformat_minor": 2
}
