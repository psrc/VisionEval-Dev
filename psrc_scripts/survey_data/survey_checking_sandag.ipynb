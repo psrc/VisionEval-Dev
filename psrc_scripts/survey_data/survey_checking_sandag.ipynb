{
 "cells": [
  {
   "cell_type": "code",
   "execution_count": 2,
   "metadata": {},
   "outputs": [],
   "source": [
    "# Compare our survey data to the NHTS (or SANDAG versions) \n",
    "\n",
    "import pyreadr\n",
    "import pandas as pd"
   ]
  },
  {
   "cell_type": "code",
   "execution_count": 73,
   "metadata": {},
   "outputs": [],
   "source": [
    "fname = r'C:\\Workspace\\VisionEval_build\\ve-dev-bgn\\sources\\modules\\VE2001NHTS\\data-raw\\Per_df.Rda'\n",
    "nhts_person = pyreadr.read_r(fname)['Per_df']"
   ]
  },
  {
   "cell_type": "code",
   "execution_count": 78,
   "metadata": {},
   "outputs": [],
   "source": [
    "fname = r'C:\\\\Workspace\\\\VisionEval\\\\psrc_scripts\\\\survey_data\\\\Per_df.Rda'\n",
    "psrc_person = pyreadr.read_r(fname)['Per_df']\n"
   ]
  },
  {
   "cell_type": "code",
   "execution_count": 79,
   "metadata": {},
   "outputs": [
    {
     "data": {
      "text/html": [
       "<div>\n",
       "<style scoped>\n",
       "    .dataframe tbody tr th:only-of-type {\n",
       "        vertical-align: middle;\n",
       "    }\n",
       "\n",
       "    .dataframe tbody tr th {\n",
       "        vertical-align: top;\n",
       "    }\n",
       "\n",
       "    .dataframe thead th {\n",
       "        text-align: right;\n",
       "    }\n",
       "</style>\n",
       "<table border=\"1\" class=\"dataframe\">\n",
       "  <thead>\n",
       "    <tr style=\"text-align: right;\">\n",
       "      <th></th>\n",
       "      <th>PERSONID</th>\n",
       "      <th>COMMDRVR</th>\n",
       "      <th>NBIKETRP</th>\n",
       "      <th>NWALKTRP</th>\n",
       "      <th>USEPUBTR</th>\n",
       "      <th>WRKDRIVE</th>\n",
       "      <th>WRKTRANS</th>\n",
       "      <th>WORKER</th>\n",
       "      <th>DTGAS</th>\n",
       "      <th>DISTTOWK</th>\n",
       "      <th>DRIVER</th>\n",
       "      <th>R_AGE</th>\n",
       "      <th>R_SEX</th>\n",
       "    </tr>\n",
       "  </thead>\n",
       "  <tbody>\n",
       "    <tr>\n",
       "      <th>count</th>\n",
       "      <td>160758.000000</td>\n",
       "      <td>160758.000000</td>\n",
       "      <td>160758.00000</td>\n",
       "      <td>160758.000000</td>\n",
       "      <td>160758.000000</td>\n",
       "      <td>160758.000000</td>\n",
       "      <td>160758.000000</td>\n",
       "      <td>160758.000000</td>\n",
       "      <td>160758.000000</td>\n",
       "      <td>160758.000000</td>\n",
       "      <td>160758.000000</td>\n",
       "      <td>160758.000000</td>\n",
       "      <td>160758.000000</td>\n",
       "    </tr>\n",
       "    <tr>\n",
       "      <th>mean</th>\n",
       "      <td>2.060961</td>\n",
       "      <td>0.235254</td>\n",
       "      <td>-0.08733</td>\n",
       "      <td>2.212867</td>\n",
       "      <td>1.684115</td>\n",
       "      <td>0.235254</td>\n",
       "      <td>0.775737</td>\n",
       "      <td>0.988996</td>\n",
       "      <td>0.563356</td>\n",
       "      <td>2.655349</td>\n",
       "      <td>0.800365</td>\n",
       "      <td>38.520758</td>\n",
       "      <td>1.523134</td>\n",
       "    </tr>\n",
       "    <tr>\n",
       "      <th>std</th>\n",
       "      <td>1.237652</td>\n",
       "      <td>1.418057</td>\n",
       "      <td>1.11675</td>\n",
       "      <td>5.316795</td>\n",
       "      <td>0.886570</td>\n",
       "      <td>1.418057</td>\n",
       "      <td>4.254345</td>\n",
       "      <td>1.011678</td>\n",
       "      <td>3.293787</td>\n",
       "      <td>15.657666</td>\n",
       "      <td>0.867978</td>\n",
       "      <td>23.356169</td>\n",
       "      <td>0.509454</td>\n",
       "    </tr>\n",
       "    <tr>\n",
       "      <th>min</th>\n",
       "      <td>1.000000</td>\n",
       "      <td>-9.000000</td>\n",
       "      <td>-9.00000</td>\n",
       "      <td>-9.000000</td>\n",
       "      <td>-9.000000</td>\n",
       "      <td>-9.000000</td>\n",
       "      <td>-9.000000</td>\n",
       "      <td>-9.000000</td>\n",
       "      <td>-9.000000</td>\n",
       "      <td>-9.000000</td>\n",
       "      <td>-9.000000</td>\n",
       "      <td>-9.000000</td>\n",
       "      <td>-8.000000</td>\n",
       "    </tr>\n",
       "    <tr>\n",
       "      <th>25%</th>\n",
       "      <td>1.000000</td>\n",
       "      <td>-1.000000</td>\n",
       "      <td>0.00000</td>\n",
       "      <td>0.000000</td>\n",
       "      <td>2.000000</td>\n",
       "      <td>-1.000000</td>\n",
       "      <td>-1.000000</td>\n",
       "      <td>1.000000</td>\n",
       "      <td>-1.000000</td>\n",
       "      <td>-9.000000</td>\n",
       "      <td>1.000000</td>\n",
       "      <td>17.000000</td>\n",
       "      <td>1.000000</td>\n",
       "    </tr>\n",
       "    <tr>\n",
       "      <th>50%</th>\n",
       "      <td>2.000000</td>\n",
       "      <td>-1.000000</td>\n",
       "      <td>0.00000</td>\n",
       "      <td>0.000000</td>\n",
       "      <td>2.000000</td>\n",
       "      <td>-1.000000</td>\n",
       "      <td>-1.000000</td>\n",
       "      <td>1.000000</td>\n",
       "      <td>1.000000</td>\n",
       "      <td>-1.000000</td>\n",
       "      <td>1.000000</td>\n",
       "      <td>40.000000</td>\n",
       "      <td>2.000000</td>\n",
       "    </tr>\n",
       "    <tr>\n",
       "      <th>75%</th>\n",
       "      <td>3.000000</td>\n",
       "      <td>2.000000</td>\n",
       "      <td>0.00000</td>\n",
       "      <td>3.000000</td>\n",
       "      <td>2.000000</td>\n",
       "      <td>2.000000</td>\n",
       "      <td>1.000000</td>\n",
       "      <td>2.000000</td>\n",
       "      <td>3.000000</td>\n",
       "      <td>6.000000</td>\n",
       "      <td>1.000000</td>\n",
       "      <td>56.000000</td>\n",
       "      <td>2.000000</td>\n",
       "    </tr>\n",
       "    <tr>\n",
       "      <th>max</th>\n",
       "      <td>14.000000</td>\n",
       "      <td>2.000000</td>\n",
       "      <td>70.00000</td>\n",
       "      <td>90.000000</td>\n",
       "      <td>2.000000</td>\n",
       "      <td>2.000000</td>\n",
       "      <td>91.000000</td>\n",
       "      <td>2.000000</td>\n",
       "      <td>5.000000</td>\n",
       "      <td>925.000000</td>\n",
       "      <td>2.000000</td>\n",
       "      <td>88.000000</td>\n",
       "      <td>2.000000</td>\n",
       "    </tr>\n",
       "  </tbody>\n",
       "</table>\n",
       "</div>"
      ],
      "text/plain": [
       "            PERSONID       COMMDRVR      NBIKETRP       NWALKTRP  \\\n",
       "count  160758.000000  160758.000000  160758.00000  160758.000000   \n",
       "mean        2.060961       0.235254      -0.08733       2.212867   \n",
       "std         1.237652       1.418057       1.11675       5.316795   \n",
       "min         1.000000      -9.000000      -9.00000      -9.000000   \n",
       "25%         1.000000      -1.000000       0.00000       0.000000   \n",
       "50%         2.000000      -1.000000       0.00000       0.000000   \n",
       "75%         3.000000       2.000000       0.00000       3.000000   \n",
       "max        14.000000       2.000000      70.00000      90.000000   \n",
       "\n",
       "            USEPUBTR       WRKDRIVE       WRKTRANS         WORKER  \\\n",
       "count  160758.000000  160758.000000  160758.000000  160758.000000   \n",
       "mean        1.684115       0.235254       0.775737       0.988996   \n",
       "std         0.886570       1.418057       4.254345       1.011678   \n",
       "min        -9.000000      -9.000000      -9.000000      -9.000000   \n",
       "25%         2.000000      -1.000000      -1.000000       1.000000   \n",
       "50%         2.000000      -1.000000      -1.000000       1.000000   \n",
       "75%         2.000000       2.000000       1.000000       2.000000   \n",
       "max         2.000000       2.000000      91.000000       2.000000   \n",
       "\n",
       "               DTGAS       DISTTOWK         DRIVER          R_AGE  \\\n",
       "count  160758.000000  160758.000000  160758.000000  160758.000000   \n",
       "mean        0.563356       2.655349       0.800365      38.520758   \n",
       "std         3.293787      15.657666       0.867978      23.356169   \n",
       "min        -9.000000      -9.000000      -9.000000      -9.000000   \n",
       "25%        -1.000000      -9.000000       1.000000      17.000000   \n",
       "50%         1.000000      -1.000000       1.000000      40.000000   \n",
       "75%         3.000000       6.000000       1.000000      56.000000   \n",
       "max         5.000000     925.000000       2.000000      88.000000   \n",
       "\n",
       "               R_SEX  \n",
       "count  160758.000000  \n",
       "mean        1.523134  \n",
       "std         0.509454  \n",
       "min        -8.000000  \n",
       "25%         1.000000  \n",
       "50%         2.000000  \n",
       "75%         2.000000  \n",
       "max         2.000000  "
      ]
     },
     "execution_count": 79,
     "metadata": {},
     "output_type": "execute_result"
    }
   ],
   "source": [
    "nhts_person.describe()"
   ]
  },
  {
   "cell_type": "code",
   "execution_count": 80,
   "metadata": {},
   "outputs": [
    {
     "data": {
      "text/html": [
       "<div>\n",
       "<style scoped>\n",
       "    .dataframe tbody tr th:only-of-type {\n",
       "        vertical-align: middle;\n",
       "    }\n",
       "\n",
       "    .dataframe tbody tr th {\n",
       "        vertical-align: top;\n",
       "    }\n",
       "\n",
       "    .dataframe thead th {\n",
       "        text-align: right;\n",
       "    }\n",
       "</style>\n",
       "<table border=\"1\" class=\"dataframe\">\n",
       "  <thead>\n",
       "    <tr style=\"text-align: right;\">\n",
       "      <th></th>\n",
       "      <th>PERSONID</th>\n",
       "      <th>COMMDRVR</th>\n",
       "      <th>NBIKETRP</th>\n",
       "      <th>NWALKTRP</th>\n",
       "      <th>USEPUBTR</th>\n",
       "      <th>WRKDRIVE</th>\n",
       "      <th>WRKTRANS</th>\n",
       "      <th>WORKER</th>\n",
       "      <th>DTGAS</th>\n",
       "      <th>DISTTOWK</th>\n",
       "      <th>DRIVER</th>\n",
       "      <th>R_AGE</th>\n",
       "      <th>R_SEX</th>\n",
       "    </tr>\n",
       "  </thead>\n",
       "  <tbody>\n",
       "    <tr>\n",
       "      <th>count</th>\n",
       "      <td>11930.000000</td>\n",
       "      <td>11930.0</td>\n",
       "      <td>11930.0</td>\n",
       "      <td>11930.0</td>\n",
       "      <td>11930.0</td>\n",
       "      <td>11930.0</td>\n",
       "      <td>11930.0</td>\n",
       "      <td>11930.000000</td>\n",
       "      <td>11930.0</td>\n",
       "      <td>11930.000000</td>\n",
       "      <td>11930.000000</td>\n",
       "      <td>11930.000000</td>\n",
       "      <td>11930.000000</td>\n",
       "    </tr>\n",
       "    <tr>\n",
       "      <th>mean</th>\n",
       "      <td>1.712992</td>\n",
       "      <td>2.0</td>\n",
       "      <td>0.0</td>\n",
       "      <td>0.0</td>\n",
       "      <td>2.0</td>\n",
       "      <td>2.0</td>\n",
       "      <td>-1.0</td>\n",
       "      <td>0.566136</td>\n",
       "      <td>3.0</td>\n",
       "      <td>2.535941</td>\n",
       "      <td>1.127578</td>\n",
       "      <td>39.722716</td>\n",
       "      <td>1.681140</td>\n",
       "    </tr>\n",
       "    <tr>\n",
       "      <th>std</th>\n",
       "      <td>0.955691</td>\n",
       "      <td>0.0</td>\n",
       "      <td>0.0</td>\n",
       "      <td>0.0</td>\n",
       "      <td>0.0</td>\n",
       "      <td>0.0</td>\n",
       "      <td>0.0</td>\n",
       "      <td>0.495628</td>\n",
       "      <td>0.0</td>\n",
       "      <td>6.747236</td>\n",
       "      <td>0.333633</td>\n",
       "      <td>20.187745</td>\n",
       "      <td>1.228079</td>\n",
       "    </tr>\n",
       "    <tr>\n",
       "      <th>min</th>\n",
       "      <td>1.000000</td>\n",
       "      <td>2.0</td>\n",
       "      <td>0.0</td>\n",
       "      <td>0.0</td>\n",
       "      <td>2.0</td>\n",
       "      <td>2.0</td>\n",
       "      <td>-1.0</td>\n",
       "      <td>0.000000</td>\n",
       "      <td>3.0</td>\n",
       "      <td>-1.000000</td>\n",
       "      <td>1.000000</td>\n",
       "      <td>2.000000</td>\n",
       "      <td>1.000000</td>\n",
       "    </tr>\n",
       "    <tr>\n",
       "      <th>25%</th>\n",
       "      <td>1.000000</td>\n",
       "      <td>2.0</td>\n",
       "      <td>0.0</td>\n",
       "      <td>0.0</td>\n",
       "      <td>2.0</td>\n",
       "      <td>2.0</td>\n",
       "      <td>-1.0</td>\n",
       "      <td>0.000000</td>\n",
       "      <td>3.0</td>\n",
       "      <td>-1.000000</td>\n",
       "      <td>1.000000</td>\n",
       "      <td>30.000000</td>\n",
       "      <td>1.000000</td>\n",
       "    </tr>\n",
       "    <tr>\n",
       "      <th>50%</th>\n",
       "      <td>1.000000</td>\n",
       "      <td>2.0</td>\n",
       "      <td>0.0</td>\n",
       "      <td>0.0</td>\n",
       "      <td>2.0</td>\n",
       "      <td>2.0</td>\n",
       "      <td>-1.0</td>\n",
       "      <td>1.000000</td>\n",
       "      <td>3.0</td>\n",
       "      <td>-1.000000</td>\n",
       "      <td>1.000000</td>\n",
       "      <td>40.000000</td>\n",
       "      <td>2.000000</td>\n",
       "    </tr>\n",
       "    <tr>\n",
       "      <th>75%</th>\n",
       "      <td>2.000000</td>\n",
       "      <td>2.0</td>\n",
       "      <td>0.0</td>\n",
       "      <td>0.0</td>\n",
       "      <td>2.0</td>\n",
       "      <td>2.0</td>\n",
       "      <td>-1.0</td>\n",
       "      <td>1.000000</td>\n",
       "      <td>3.0</td>\n",
       "      <td>3.530000</td>\n",
       "      <td>1.000000</td>\n",
       "      <td>50.000000</td>\n",
       "      <td>2.000000</td>\n",
       "    </tr>\n",
       "    <tr>\n",
       "      <th>max</th>\n",
       "      <td>9.000000</td>\n",
       "      <td>2.0</td>\n",
       "      <td>0.0</td>\n",
       "      <td>0.0</td>\n",
       "      <td>2.0</td>\n",
       "      <td>2.0</td>\n",
       "      <td>-1.0</td>\n",
       "      <td>1.000000</td>\n",
       "      <td>3.0</td>\n",
       "      <td>85.020000</td>\n",
       "      <td>2.000000</td>\n",
       "      <td>85.000000</td>\n",
       "      <td>9.000000</td>\n",
       "    </tr>\n",
       "  </tbody>\n",
       "</table>\n",
       "</div>"
      ],
      "text/plain": [
       "           PERSONID  COMMDRVR  NBIKETRP  NWALKTRP  USEPUBTR  WRKDRIVE  \\\n",
       "count  11930.000000   11930.0   11930.0   11930.0   11930.0   11930.0   \n",
       "mean       1.712992       2.0       0.0       0.0       2.0       2.0   \n",
       "std        0.955691       0.0       0.0       0.0       0.0       0.0   \n",
       "min        1.000000       2.0       0.0       0.0       2.0       2.0   \n",
       "25%        1.000000       2.0       0.0       0.0       2.0       2.0   \n",
       "50%        1.000000       2.0       0.0       0.0       2.0       2.0   \n",
       "75%        2.000000       2.0       0.0       0.0       2.0       2.0   \n",
       "max        9.000000       2.0       0.0       0.0       2.0       2.0   \n",
       "\n",
       "       WRKTRANS        WORKER    DTGAS      DISTTOWK        DRIVER  \\\n",
       "count   11930.0  11930.000000  11930.0  11930.000000  11930.000000   \n",
       "mean       -1.0      0.566136      3.0      2.535941      1.127578   \n",
       "std         0.0      0.495628      0.0      6.747236      0.333633   \n",
       "min        -1.0      0.000000      3.0     -1.000000      1.000000   \n",
       "25%        -1.0      0.000000      3.0     -1.000000      1.000000   \n",
       "50%        -1.0      1.000000      3.0     -1.000000      1.000000   \n",
       "75%        -1.0      1.000000      3.0      3.530000      1.000000   \n",
       "max        -1.0      1.000000      3.0     85.020000      2.000000   \n",
       "\n",
       "              R_AGE         R_SEX  \n",
       "count  11930.000000  11930.000000  \n",
       "mean      39.722716      1.681140  \n",
       "std       20.187745      1.228079  \n",
       "min        2.000000      1.000000  \n",
       "25%       30.000000      1.000000  \n",
       "50%       40.000000      2.000000  \n",
       "75%       50.000000      2.000000  \n",
       "max       85.000000      9.000000  "
      ]
     },
     "execution_count": 80,
     "metadata": {},
     "output_type": "execute_result"
    }
   ],
   "source": [
    "psrc_person.describe()"
   ]
  },
  {
   "cell_type": "code",
   "execution_count": 81,
   "metadata": {},
   "outputs": [],
   "source": [
    "nhts_person.head().T.to_clipboard()"
   ]
  },
  {
   "cell_type": "code",
   "execution_count": 82,
   "metadata": {},
   "outputs": [],
   "source": [
    "psrc_person.head().T.to_clipboard()"
   ]
  },
  {
   "cell_type": "code",
   "execution_count": null,
   "metadata": {},
   "outputs": [],
   "source": []
  },
  {
   "cell_type": "markdown",
   "metadata": {},
   "source": [
    "# Household"
   ]
  },
  {
   "cell_type": "code",
   "execution_count": 114,
   "metadata": {},
   "outputs": [],
   "source": [
    "fname = r'C:\\Workspace\\VisionEval_build\\ve-dev-bgn\\sources\\modules\\VE2001NHTS\\data-raw\\Hh_df.Rda'\n",
    "nhts_hh = pyreadr.read_r(fname)['Hh_df']"
   ]
  },
  {
   "cell_type": "code",
   "execution_count": 115,
   "metadata": {},
   "outputs": [],
   "source": [
    "nhts_hh.head().T.to_clipboard()\n"
   ]
  },
  {
   "cell_type": "code",
   "execution_count": 116,
   "metadata": {},
   "outputs": [],
   "source": [
    "fname = r'C:\\\\Workspace\\\\VisionEval\\\\psrc_scripts\\\\survey_data\\\\Hh_df.Rda'\n",
    "psrc_hh = pyreadr.read_r(fname)['Hh_df']\n"
   ]
  },
  {
   "cell_type": "code",
   "execution_count": 117,
   "metadata": {},
   "outputs": [],
   "source": [
    "psrc_hh.head().T.to_clipboard()"
   ]
  },
  {
   "cell_type": "code",
   "execution_count": 119,
   "metadata": {},
   "outputs": [
    {
     "data": {
      "text/plain": [
       "array([3, 1, 4, 2])"
      ]
     },
     "execution_count": 119,
     "metadata": {},
     "output_type": "execute_result"
    }
   ],
   "source": [
    "nhts_hh['CENSUS_R'].unique()"
   ]
  },
  {
   "cell_type": "code",
   "execution_count": 120,
   "metadata": {},
   "outputs": [
    {
     "data": {
      "text/plain": [
       "array([5, 2, 9, 1, 4, 3, 8, 7, 6])"
      ]
     },
     "execution_count": 120,
     "metadata": {},
     "output_type": "execute_result"
    }
   ],
   "source": [
    "nhts_hh['CENSUS_D'].unique()"
   ]
  },
  {
   "cell_type": "code",
   "execution_count": 121,
   "metadata": {},
   "outputs": [
    {
     "data": {
      "text/plain": [
       "array(['Pacific'], dtype=object)"
      ]
     },
     "execution_count": 121,
     "metadata": {},
     "output_type": "execute_result"
    }
   ],
   "source": [
    "psrc_hh['CENSUS_D'].unique()"
   ]
  },
  {
   "cell_type": "markdown",
   "metadata": {},
   "source": [
    "# Vehicle"
   ]
  },
  {
   "cell_type": "code",
   "execution_count": 91,
   "metadata": {},
   "outputs": [],
   "source": [
    "fname = r'C:\\Workspace\\VisionEval_build\\ve-dev-bgn\\sources\\modules\\VE2001NHTS\\data-raw\\Veh_df.Rda'\n",
    "nhts_veh = pyreadr.read_r(fname)['Veh_df']"
   ]
  },
  {
   "cell_type": "code",
   "execution_count": 92,
   "metadata": {},
   "outputs": [],
   "source": [
    "fname = r'C:\\\\Workspace\\\\VisionEval\\\\psrc_scripts\\\\survey_data\\\\Veh_df.Rda'\n",
    "psrc_veh = pyreadr.read_r(fname)['Veh_df']\n"
   ]
  },
  {
   "cell_type": "code",
   "execution_count": 93,
   "metadata": {},
   "outputs": [],
   "source": [
    "nhts_veh.head().T.to_clipboard()"
   ]
  },
  {
   "cell_type": "code",
   "execution_count": 94,
   "metadata": {},
   "outputs": [],
   "source": [
    "psrc_veh.head().T.to_clipboard()"
   ]
  },
  {
   "cell_type": "markdown",
   "metadata": {},
   "source": [
    "# Tour"
   ]
  },
  {
   "cell_type": "code",
   "execution_count": 104,
   "metadata": {},
   "outputs": [],
   "source": [
    "fname = r'C:\\Workspace\\VisionEval_build\\ve-dev-bgn\\sources\\modules\\VE2001NHTS\\data-raw\\ToursByHh_df.Rda'\n",
    "nhts_tour = pyreadr.read_r(fname)['ToursByHh_df']"
   ]
  },
  {
   "cell_type": "code",
   "execution_count": 105,
   "metadata": {},
   "outputs": [],
   "source": [
    "fname = r'C:\\\\Workspace\\\\VisionEval\\\\psrc_scripts\\\\survey_data\\\\ToursByHh_df.Rda'\n",
    "psrc_tour = pyreadr.read_r(fname)['ToursByHh_df']\n"
   ]
  },
  {
   "cell_type": "code",
   "execution_count": 106,
   "metadata": {},
   "outputs": [],
   "source": [
    "nhts_tour.head().T.to_clipboard()"
   ]
  },
  {
   "cell_type": "code",
   "execution_count": 107,
   "metadata": {},
   "outputs": [],
   "source": [
    "psrc_tour.head().T.to_clipboard()"
   ]
  },
  {
   "cell_type": "code",
   "execution_count": 113,
   "metadata": {},
   "outputs": [
    {
     "data": {
      "text/plain": [
       "True"
      ]
     },
     "execution_count": 113,
     "metadata": {},
     "output_type": "execute_result"
    }
   ],
   "source": [
    "'3' in psrc_tour['Whyto'].unique()"
   ]
  },
  {
   "cell_type": "markdown",
   "metadata": {},
   "source": [
    "# Trip"
   ]
  },
  {
   "cell_type": "code",
   "execution_count": 100,
   "metadata": {},
   "outputs": [],
   "source": [
    "fname = r'C:\\Workspace\\VisionEval_build\\ve-dev-bgn\\sources\\modules\\VE2001NHTS\\data-raw\\Dt_df.Rda'\n",
    "nhts_trip = pyreadr.read_r(fname)['Dt_df']"
   ]
  },
  {
   "cell_type": "code",
   "execution_count": 101,
   "metadata": {},
   "outputs": [],
   "source": [
    "fname = r'C:\\\\Workspace\\\\VisionEval\\\\psrc_scripts\\\\survey_data\\\\Dt_df.Rda'\n",
    "psrc_trip = pyreadr.read_r(fname)['Dt_df']\n"
   ]
  },
  {
   "cell_type": "code",
   "execution_count": 102,
   "metadata": {},
   "outputs": [],
   "source": [
    "nhts_trip.head().T.to_clipboard()"
   ]
  },
  {
   "cell_type": "code",
   "execution_count": 103,
   "metadata": {},
   "outputs": [],
   "source": [
    "psrc_trip.head().T.to_clipboard()"
   ]
  },
  {
   "cell_type": "code",
   "execution_count": null,
   "metadata": {},
   "outputs": [],
   "source": []
  }
 ],
 "metadata": {
  "interpreter": {
   "hash": "864701c56f29bc7bdff9ffbb1f8a3bf6444c4b09036b469d0716607ad07d0991"
  },
  "kernelspec": {
   "display_name": "Python 3.7.10 ('summary')",
   "language": "python",
   "name": "python3"
  },
  "language_info": {
   "codemirror_mode": {
    "name": "ipython",
    "version": 3
   },
   "file_extension": ".py",
   "mimetype": "text/x-python",
   "name": "python",
   "nbconvert_exporter": "python",
   "pygments_lexer": "ipython3",
   "version": "3.7.10"
  },
  "orig_nbformat": 4
 },
 "nbformat": 4,
 "nbformat_minor": 2
}
